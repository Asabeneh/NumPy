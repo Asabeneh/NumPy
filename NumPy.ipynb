{
 "cells": [
  {
   "cell_type": "markdown",
   "metadata": {},
   "source": [
    "# NumPy\n",
    "\n",
    "Numpy stands for Numberical Python. Numpy(Numerical Python) is the core library for scientific computing in Python. It provides a high-performance multidimensional array object, and tools for working with arrays. It contains the data structures needed for storing and accessing arrays. It has simple operations and functions for computation of arrays. In addition to numeric data types, NumPy can store other data types such as strings. Unlike lists, NumPy must have the same data types for all the items.\n"
   ]
  },
  {
   "cell_type": "markdown",
   "metadata": {},
   "source": [
    "## NumPy Installation\n",
    "It is possible to install numpy on Jupyter notebook or the command prompt using the following command.\n",
    "\n",
    "```sh\n",
    "pip install numpy\n",
    "```"
   ]
  },
  {
   "cell_type": "markdown",
   "metadata": {},
   "source": [
    "## Importing NumPy\n",
    "Numpy can be imported as follows\n",
    "\n",
    "If we want to use the numpy module without renaming we import it as follows.\n",
    "```py\n",
    "import numpy\n",
    "```\n",
    "It is common to rename the numpy module as np. To rename the name numpy to np we use *as* and the importing looks like as follows\n",
    "```py\n",
    "import numpy as np\n",
    "```"
   ]
  },
  {
   "cell_type": "code",
   "execution_count": 91,
   "metadata": {},
   "outputs": [],
   "source": [
    "# How ot import numpy\n",
    "import numpy as np"
   ]
  },
  {
   "cell_type": "code",
   "execution_count": 92,
   "metadata": {},
   "outputs": [],
   "source": [
    "# Let us import matplot.lib  and seaborn for data visualization\n",
    "\n",
    "import matplotlib.pyplot as plt\n",
    "import seaborn as sns\n",
    "sns.set()"
   ]
  },
  {
   "cell_type": "code",
   "execution_count": 93,
   "metadata": {},
   "outputs": [],
   "source": [
    "## import stats for some statistical methods\n",
    "from scipy import stats"
   ]
  },
  {
   "cell_type": "markdown",
   "metadata": {},
   "source": [
    "## NumPy Version"
   ]
  },
  {
   "cell_type": "code",
   "execution_count": 94,
   "metadata": {},
   "outputs": [
    {
     "name": "stdout",
     "output_type": "stream",
     "text": [
      "NumPy: 1.19.2\n"
     ]
    }
   ],
   "source": [
    "# How check the version of numpy package\n",
    "print('NumPy:', np.__version__)\n"
   ]
  },
  {
   "cell_type": "markdown",
   "metadata": {},
   "source": [
    "## Creating of NumPy Arrays\n",
    "We can change Python list and tuple to NumPy array.\n",
    "Example of list and tuple:\n",
    "```py\n",
    "lst = [1, 2, 3, 4,5]\n",
    "tpl = (1, 2, 3, 4, 5)\n",
    "```"
   ]
  },
  {
   "cell_type": "markdown",
   "metadata": {},
   "source": [
    "### Creating NumPy array from Python lists"
   ]
  },
  {
   "cell_type": "code",
   "execution_count": 95,
   "metadata": {},
   "outputs": [
    {
     "name": "stdout",
     "output_type": "stream",
     "text": [
      "Type :  <class 'list'>\n",
      "[1, 2, 3, 4, 5]\n"
     ]
    }
   ],
   "source": [
    "# creating python list\n",
    "python_list = [1, 2, 3, 4, 5]\n",
    "# Checking data types\n",
    "print('Type : ', type(python_list))\n",
    "print(python_list)"
   ]
  },
  {
   "cell_type": "code",
   "execution_count": 96,
   "metadata": {},
   "outputs": [
    {
     "name": "stdout",
     "output_type": "stream",
     "text": [
      "[[0, 1, 2], [3, 4, 5], [6, 7, 8]]\n",
      "<class 'list'>\n"
     ]
    }
   ],
   "source": [
    "two_dim_list = [[0, 1, 2], [3,4,5],[6,7,8]]\n",
    "print(two_dim_list)\n",
    "print(type(two_dim_list))"
   ]
  },
  {
   "cell_type": "markdown",
   "metadata": {},
   "source": [
    "The numPy array has a *ndarry* data type which refers to n dimensional array. "
   ]
  },
  {
   "cell_type": "code",
   "execution_count": 97,
   "metadata": {},
   "outputs": [
    {
     "name": "stdout",
     "output_type": "stream",
     "text": [
      "Type: <class 'numpy.ndarray'>\n",
      "[1 2 3 4 5]\n"
     ]
    }
   ],
   "source": [
    "np_arr_from_list = np.array(python_list)\n",
    "print('Type:', type(np_arr_from_list))\n",
    "print(np_arr_from_list)"
   ]
  },
  {
   "cell_type": "code",
   "execution_count": 98,
   "metadata": {},
   "outputs": [
    {
     "name": "stdout",
     "output_type": "stream",
     "text": [
      "[[0 1 2]\n",
      " [3 4 5]\n",
      " [6 7 8]]\n"
     ]
    }
   ],
   "source": [
    "np_arr_from_two_dim_list = np.array(two_dim_list)\n",
    "print(np_arr_from_two_dim_list)"
   ]
  },
  {
   "cell_type": "markdown",
   "metadata": {},
   "source": [
    "### Creating NumPy arrays with different data types\n",
    "It is possible to create a numpy array with different data types with dtype "
   ]
  },
  {
   "cell_type": "markdown",
   "metadata": {},
   "source": [
    "### Creating integer NumPy array"
   ]
  },
  {
   "cell_type": "code",
   "execution_count": 12,
   "metadata": {},
   "outputs": [
    {
     "name": "stdout",
     "output_type": "stream",
     "text": [
      "[1, 2, 3, 4, 5]\n",
      "[1 2 3 4 5]\n",
      "<class 'numpy.ndarray'>\n"
     ]
    }
   ],
   "source": [
    "# Python list\n",
    "python_list = [1,2,3,4,5]\n",
    "print(python_list)\n",
    "\n",
    "numpy_array_from_list2 = np.array(python_list, dtype='int')\n",
    "print(numpy_array_from_list2)\n",
    "print(type(numpy_array_from_list2))"
   ]
  },
  {
   "cell_type": "markdown",
   "metadata": {},
   "source": [
    "### Creating floating number NumPy array"
   ]
  },
  {
   "cell_type": "code",
   "execution_count": 13,
   "metadata": {},
   "outputs": [
    {
     "name": "stdout",
     "output_type": "stream",
     "text": [
      "[1, 2, 3, 4, 5]\n",
      "[1. 2. 3. 4. 5.]\n",
      "<class 'numpy.ndarray'>\n"
     ]
    }
   ],
   "source": [
    "# Python list\n",
    "python_list = [1,2,3,4,5]\n",
    "print(python_list)\n",
    "\n",
    "numpy_array_from_list2 = np.array(python_list, dtype='float')\n",
    "print(numpy_array_from_list2)\n",
    "print(type(numpy_array_from_list2))"
   ]
  },
  {
   "cell_type": "markdown",
   "metadata": {},
   "source": [
    "### Creating complex NumPy array\n"
   ]
  },
  {
   "cell_type": "code",
   "execution_count": 14,
   "metadata": {},
   "outputs": [
    {
     "name": "stdout",
     "output_type": "stream",
     "text": [
      "[1, 2, 3, 4, 5]\n",
      "[1.+0.j 2.+0.j 3.+0.j 4.+0.j 5.+0.j]\n",
      "<class 'numpy.ndarray'>\n"
     ]
    }
   ],
   "source": [
    "# Python list\n",
    "python_list = [1,2,3,4,5]\n",
    "print(python_list)\n",
    "\n",
    "numpy_array_from_list2 = np.array(python_list, dtype='complex')\n",
    "print(numpy_array_from_list2)\n",
    "print(type(numpy_array_from_list2))"
   ]
  },
  {
   "cell_type": "markdown",
   "metadata": {},
   "source": [
    "### Creating String NumPy array"
   ]
  },
  {
   "cell_type": "code",
   "execution_count": 15,
   "metadata": {},
   "outputs": [
    {
     "name": "stdout",
     "output_type": "stream",
     "text": [
      "[1, 2, 3, 4, 5]\n",
      "['1' '2' '3' '4' '5']\n",
      "<class 'numpy.ndarray'>\n"
     ]
    }
   ],
   "source": [
    "# Python list\n",
    "python_list = [1,2,3,4,5]\n",
    "print(python_list)\n",
    "\n",
    "numpy_array_from_list2 = np.array(python_list, dtype='str')\n",
    "print(numpy_array_from_list2)\n",
    "print(type(numpy_array_from_list2))"
   ]
  },
  {
   "cell_type": "code",
   "execution_count": 16,
   "metadata": {},
   "outputs": [
    {
     "name": "stdout",
     "output_type": "stream",
     "text": [
      "['Apple' 'Avocado' 'Banana' 'Mango' 'Orange']\n"
     ]
    }
   ],
   "source": [
    "fruits = ['Apple','Avocado', 'Banana', 'Mango', 'Orange']\n",
    "fruits_arr = np.array(fruits)\n",
    "print(fruits_arr)"
   ]
  },
  {
   "cell_type": "markdown",
   "metadata": {},
   "source": [
    "### Creating Boolean NumPy Arrays\n",
    "Creating a boolean a NumPy array from list"
   ]
  },
  {
   "cell_type": "code",
   "execution_count": 17,
   "metadata": {},
   "outputs": [
    {
     "name": "stdout",
     "output_type": "stream",
     "text": [
      "<class 'numpy.ndarray'>\n",
      "[False  True  True False False]\n"
     ]
    }
   ],
   "source": [
    "numpy_bool_array = np.array([0, 1, -1, 0, 0], dtype=bool)\n",
    "print(type(numpy_bool_array))\n",
    "print(numpy_bool_array)"
   ]
  },
  {
   "cell_type": "markdown",
   "metadata": {},
   "source": [
    "*Summary of creating NumPy array with different data types*"
   ]
  },
  {
   "cell_type": "code",
   "execution_count": 18,
   "metadata": {},
   "outputs": [
    {
     "name": "stdout",
     "output_type": "stream",
     "text": [
      "[1 2 3 4 5]\n",
      "[1. 2. 3. 4. 5.]\n",
      "[ True  True  True False  True  True  True  True]\n",
      "[1.+0.j 2.+0.j 3.+0.j 4.+0.j 5.+0.j]\n",
      "['1' '2' '3' '4' '5.0']\n"
     ]
    }
   ],
   "source": [
    "np_int_arr = np.array([1,2,3,4,5.0], dtype = 'int')\n",
    "np_float_arr = np.array([1,2,3,4,5.0], dtype = 'float')\n",
    "np_bool_arr = np.array([-3, -2, -1, 0,2,3,4,5.0], dtype = 'bool')\n",
    "np_complex_arr = np.array([1, 2,3,4,5.0], dtype = 'complex')\n",
    "np_str_arr = np.array([1,2,3,4,5.0], dtype = 'str')\n",
    "\n",
    "print(np_int_arr)\n",
    "print(np_float_arr)\n",
    "print(np_bool_arr)\n",
    "print(np_complex_arr)\n",
    "print(np_str_arr)"
   ]
  },
  {
   "cell_type": "markdown",
   "metadata": {},
   "source": [
    "Nested list can create multidimensional numPy arrays. It is possible to create a multidimensional array using Python list of lists"
   ]
  },
  {
   "cell_type": "code",
   "execution_count": 19,
   "metadata": {},
   "outputs": [
    {
     "name": "stdout",
     "output_type": "stream",
     "text": [
      "[[0 1 2]\n",
      " [3 4 5]\n",
      " [6 7 8]]\n"
     ]
    }
   ],
   "source": [
    "two_dim_list = [[0,1,2], [3,4,5], [6,7,8]]\n",
    "np_two_dim_arr = np.array(two_dim_list)\n",
    "print(np_two_dim_arr)"
   ]
  },
  {
   "cell_type": "markdown",
   "metadata": {},
   "source": [
    "### NumPy array attributes\n",
    "The numPy array has different attributes that give more information about the array such as *ndim*, *shape*, *size*, *dtype*, *itemsize*\n",
    "- ndim - returns the dimension of the numPy array\n",
    "- shape - returns the number of rows and columns of a numPy array\n",
    "- size - the total number of elements in the numPy array\n",
    "- dtype - returns the data type of the numPy array \n",
    "- itemsize - returns the size in bytes of each elements in the numPy array\n",
    "\n",
    "The NumPy *shape* method provide the shape of the array as a tuple. The first is the row and the second is the column. If the array is just one dimensional it returns the size of the array(n,)."
   ]
  },
  {
   "cell_type": "code",
   "execution_count": 20,
   "metadata": {},
   "outputs": [
    {
     "name": "stdout",
     "output_type": "stream",
     "text": [
      "NumPy array dimension:  1\n",
      "NumPy array shape:  1\n",
      "NumPy array size:  5\n",
      "NumPy array data type:  int32\n",
      "NumPy array item size:  4\n"
     ]
    }
   ],
   "source": [
    "arr = np.array([1, 2, 3, 4,5])\n",
    "print('NumPy array dimension: ', arr.ndim)\n",
    "print('NumPy array shape: ', arr.ndim)\n",
    "print('NumPy array size: ', arr.size)\n",
    "print('NumPy array data type: ', arr.dtype)\n",
    "print('NumPy array item size: ', arr.itemsize)"
   ]
  },
  {
   "cell_type": "markdown",
   "metadata": {},
   "source": [
    "### Creating Multidimensional Array Using NumPy\n",
    "We can create different dimension numPy array."
   ]
  },
  {
   "cell_type": "markdown",
   "metadata": {},
   "source": [
    "#### NumPy array without dimension or zero deminsion"
   ]
  },
  {
   "cell_type": "code",
   "execution_count": 21,
   "metadata": {},
   "outputs": [
    {
     "name": "stdout",
     "output_type": "stream",
     "text": [
      "10\n",
      "The numPy n-d:0,shape:(), size:1, date type:int32, itemsize:4\n"
     ]
    }
   ],
   "source": [
    "ten = np.array(10)\n",
    "print(ten)\n",
    "print(f'The numPy n-d:{ten.ndim},shape:{ten.shape}, size:{ten.size}, date type:{ten.dtype}, itemsize:{ten.itemsize}') "
   ]
  },
  {
   "cell_type": "markdown",
   "metadata": {},
   "source": [
    "We can use simple function that provides information about the numPy array"
   ]
  },
  {
   "cell_type": "code",
   "execution_count": 22,
   "metadata": {},
   "outputs": [],
   "source": [
    "def get_numpy_array_info(arr):\n",
    "    print(f'The numPy n-d:{arr.ndim},shape:{arr.shape}, size:{arr.size}, date type:{arr.dtype}, itemsize:{arr.itemsize}')"
   ]
  },
  {
   "cell_type": "markdown",
   "metadata": {},
   "source": [
    "#### One dimension numPy array\n",
    "A list can create a one dimensional numPy array.\n"
   ]
  },
  {
   "cell_type": "code",
   "execution_count": 23,
   "metadata": {},
   "outputs": [
    {
     "name": "stdout",
     "output_type": "stream",
     "text": [
      "[1, 2, 3, 4, 5]\n",
      "[1 2 3 4 5]\n",
      "The numPy n-d:1,shape:(5,), size:5, date type:int32, itemsize:4\n"
     ]
    }
   ],
   "source": [
    "lst = [1, 2, 3, 4, 5]\n",
    "arr = np.array(lst)\n",
    "print(lst)\n",
    "print(arr)\n",
    "get_numpy_array_info(arr)"
   ]
  },
  {
   "cell_type": "markdown",
   "metadata": {},
   "source": [
    "#### Two dimensional numPy array\n",
    "A list of list can create a 2-d numPy array"
   ]
  },
  {
   "cell_type": "code",
   "execution_count": 24,
   "metadata": {},
   "outputs": [
    {
     "name": "stdout",
     "output_type": "stream",
     "text": [
      "[[1, 2, 3], [4, 5, 6], [7, 8, 9]]\n",
      "[[1 2 3]\n",
      " [4 5 6]\n",
      " [7 8 9]]\n",
      "The numPy n-d:2,shape:(3, 3), size:9, date type:int32, itemsize:4\n"
     ]
    }
   ],
   "source": [
    "lst = [[1, 2, 3], [4, 5, 6], [7, 8, 9]]\n",
    "arr = np.array(lst)\n",
    "print(lst)\n",
    "print(arr)\n",
    "get_numpy_array_info(arr)"
   ]
  },
  {
   "cell_type": "code",
   "execution_count": 25,
   "metadata": {},
   "outputs": [
    {
     "name": "stdout",
     "output_type": "stream",
     "text": [
      "<class 'numpy.ndarray'>\n",
      "[[1 2 3]\n",
      " [4 5 6]\n",
      " [7 8 9]]\n",
      "Dim: 2\n",
      "Shape:  (3, 3)\n",
      "Size: 9\n",
      "Data type: int32\n"
     ]
    }
   ],
   "source": [
    "# 2 Dimension Array\n",
    "two_dim_arr = np.array([(1,2,3),(4,5,6), (7,8,9)])\n",
    "print(type (two_dim_arr))\n",
    "print(two_dim_arr)\n",
    "print('Dim:', two_dim_arr.ndim)\n",
    "print('Shape: ', two_dim_arr.shape)\n",
    "print('Size:', two_dim_arr.size)\n",
    "print('Data type:', two_dim_arr.dtype)"
   ]
  },
  {
   "cell_type": "markdown",
   "metadata": {},
   "source": [
    "## Three dimensional numPy array\n",
    "List of lists of list create a 3-d numPy array"
   ]
  },
  {
   "cell_type": "code",
   "execution_count": 26,
   "metadata": {},
   "outputs": [
    {
     "name": "stdout",
     "output_type": "stream",
     "text": [
      "[[[1, 2, 3], [4, 5, 6], [7, 8, 9]]]\n",
      "[[[1 2 3]\n",
      "  [4 5 6]\n",
      "  [7 8 9]]]\n",
      "The numPy n-d:3,shape:(1, 3, 3), size:9, date type:int32, itemsize:4\n"
     ]
    }
   ],
   "source": [
    "lst = [[[1, 2, 3], [4, 5, 6], [7, 8, 9]]]\n",
    "arr = np.array(lst)\n",
    "print(lst)\n",
    "print(arr)\n",
    "get_numpy_array_info(arr)"
   ]
  },
  {
   "cell_type": "markdown",
   "metadata": {},
   "source": [
    "## Converting NumPy array to list"
   ]
  },
  {
   "cell_type": "code",
   "execution_count": 27,
   "metadata": {},
   "outputs": [
    {
     "name": "stdout",
     "output_type": "stream",
     "text": [
      "[1 2 3 4 5]\n",
      "[[0, 1, 2], [3, 4, 5], [6, 7, 8]]\n"
     ]
    }
   ],
   "source": [
    "print(np_arr_from_list)\n",
    "np_to_list = np_arr_from_list.tolist()\n",
    "np_two_dim_to_list = np_two_dim_arr.tolist()\n",
    "print(np_two_dim_to_list )"
   ]
  },
  {
   "cell_type": "code",
   "execution_count": 28,
   "metadata": {},
   "outputs": [
    {
     "name": "stdout",
     "output_type": "stream",
     "text": [
      "[1, 2, 3, 4, 5]\n",
      "<class 'list'>\n"
     ]
    }
   ],
   "source": [
    "print(np_to_list)\n",
    "print(type(np_to_list))"
   ]
  },
  {
   "cell_type": "code",
   "execution_count": 29,
   "metadata": {},
   "outputs": [
    {
     "name": "stdout",
     "output_type": "stream",
     "text": [
      "[[0, 1, 2], [3, 4, 5], [6, 7, 8]]\n"
     ]
    }
   ],
   "source": [
    "print(np_two_dim_to_list)"
   ]
  },
  {
   "cell_type": "markdown",
   "metadata": {},
   "source": [
    "## Creating NumPy Array from Tuples"
   ]
  },
  {
   "cell_type": "code",
   "execution_count": 30,
   "metadata": {},
   "outputs": [
    {
     "name": "stdout",
     "output_type": "stream",
     "text": [
      "<class 'tuple'>\n"
     ]
    }
   ],
   "source": [
    "python_tuple = (1,2,3,4,5)\n",
    "print(type(python_tuple))"
   ]
  },
  {
   "cell_type": "code",
   "execution_count": 31,
   "metadata": {},
   "outputs": [
    {
     "name": "stdout",
     "output_type": "stream",
     "text": [
      "<class 'numpy.ndarray'>\n",
      "numpy_array_from_tuple: [1 2 3 4 5]\n"
     ]
    }
   ],
   "source": [
    "numpy_array_from_tuple = np.array(python_tuple)\n",
    "print(type(numpy_array_from_tuple))\n",
    "print('numpy_array_from_tuple:',numpy_array_from_tuple)"
   ]
  },
  {
   "cell_type": "markdown",
   "metadata": {},
   "source": [
    "\n",
    "\n"
   ]
  },
  {
   "cell_type": "code",
   "execution_count": 32,
   "metadata": {},
   "outputs": [
    {
     "data": {
      "text/plain": [
       "array([[0, 1, 2],\n",
       "       [3, 4, 5],\n",
       "       [6, 7, 8]])"
      ]
     },
     "execution_count": 32,
     "metadata": {},
     "output_type": "execute_result"
    }
   ],
   "source": [
    "np_two_dim_arr"
   ]
  },
  {
   "cell_type": "code",
   "execution_count": 33,
   "metadata": {},
   "outputs": [
    {
     "name": "stdout",
     "output_type": "stream",
     "text": [
      "She of numpy_two_dimensional_array:  (3, 3)\n"
     ]
    }
   ],
   "source": [
    "print('She of numpy_two_dimensional_array: ', np_two_dim_arr.shape)"
   ]
  },
  {
   "cell_type": "markdown",
   "metadata": {},
   "source": [
    "## Size of a NumPy array\n",
    "In NumPy to know the number of items in a NumPy array list we use size"
   ]
  },
  {
   "cell_type": "code",
   "execution_count": 34,
   "metadata": {},
   "outputs": [
    {
     "name": "stdout",
     "output_type": "stream",
     "text": [
      "[1 2 3 4 5]\n"
     ]
    }
   ],
   "source": [
    "print(np_arr_from_list)"
   ]
  },
  {
   "cell_type": "code",
   "execution_count": 35,
   "metadata": {},
   "outputs": [
    {
     "name": "stdout",
     "output_type": "stream",
     "text": [
      "Size:  5\n"
     ]
    }
   ],
   "source": [
    "print('Size: ', np_arr_from_list.size)"
   ]
  },
  {
   "cell_type": "code",
   "execution_count": 36,
   "metadata": {},
   "outputs": [
    {
     "name": "stdout",
     "output_type": "stream",
     "text": [
      "[[0 1 2]\n",
      " [3 4 5]\n",
      " [6 7 8]]\n"
     ]
    }
   ],
   "source": [
    "print(np_two_dim_arr)"
   ]
  },
  {
   "cell_type": "code",
   "execution_count": 37,
   "metadata": {},
   "outputs": [
    {
     "name": "stdout",
     "output_type": "stream",
     "text": [
      "Size:  9\n"
     ]
    }
   ],
   "source": [
    "print('Size: ', np_two_dim_arr.size)"
   ]
  },
  {
   "cell_type": "markdown",
   "metadata": {},
   "source": [
    "## Data Type of NumPy Array\n",
    "Type of data types: str, int, float, complex, bool, list, None"
   ]
  },
  {
   "cell_type": "code",
   "execution_count": 38,
   "metadata": {},
   "outputs": [
    {
     "name": "stdout",
     "output_type": "stream",
     "text": [
      "[-3 -2 -1  0  1  2  3]\n",
      "int32\n",
      "[-3. -2. -1.  0.  1.  2.  3.]\n",
      "float64\n"
     ]
    }
   ],
   "source": [
    "int_lists = [-3, -2, -1, 0, 1, 2,3]\n",
    "int_arr = np.array(int_lists)\n",
    "print(int_arr)\n",
    "print(int_arr.dtype)\n",
    "float_arr = np.array(int_lists, dtype=float)\n",
    "print(float_arr)\n",
    "print(float_arr.dtype)"
   ]
  },
  {
   "cell_type": "markdown",
   "metadata": {},
   "source": [
    "## Iterating NumPy Array\n",
    "\n",
    "We can iterate through each elements of numPy array using loops. \n"
   ]
  },
  {
   "cell_type": "code",
   "execution_count": 121,
   "metadata": {},
   "outputs": [
    {
     "name": "stdout",
     "output_type": "stream",
     "text": [
      "Dim: 1\n",
      "1\n",
      "2\n",
      "3\n",
      "4\n",
      "5\n"
     ]
    }
   ],
   "source": [
    "# 1-d array\n",
    "arr = np.array([1, 2, 3, 4, 5])\n",
    "print('Dim:', arr.ndim)\n",
    "for item in arr:\n",
    "    print(item)"
   ]
  },
  {
   "cell_type": "code",
   "execution_count": 122,
   "metadata": {},
   "outputs": [
    {
     "name": "stdout",
     "output_type": "stream",
     "text": [
      "Dim: 2\n",
      "[1 2]\n",
      "[3 4]\n",
      "[5 6]\n",
      "1\n",
      "2\n",
      "3\n",
      "4\n",
      "5\n",
      "6\n"
     ]
    }
   ],
   "source": [
    "# 2-d array\n",
    "arr = np.array([[1, 2], [3, 4], [5,6]])\n",
    "print('Dim:', arr.ndim)\n",
    "for item in arr:\n",
    "    print(item)\n",
    "    \n",
    "\n",
    "for item in arr:\n",
    "    for i in item:\n",
    "        print(i)"
   ]
  },
  {
   "cell_type": "code",
   "execution_count": 123,
   "metadata": {},
   "outputs": [
    {
     "name": "stdout",
     "output_type": "stream",
     "text": [
      "Dim: 3\n",
      "[[1 2]\n",
      " [3 4]\n",
      " [5 6]]\n",
      "[[ 7  8]\n",
      " [ 9 10]\n",
      " [11 12]]\n"
     ]
    }
   ],
   "source": [
    "# 3-d array\n",
    "arr = np.array([[[1, 2], [3, 4], [5, 6]], [[7, 8], [9, 10], [11, 12]]])\n",
    "print('Dim:', arr.ndim)\n",
    "for item in arr:\n",
    "    print(item)\n",
    "    \n",
    "\n"
   ]
  },
  {
   "cell_type": "code",
   "execution_count": null,
   "metadata": {},
   "outputs": [],
   "source": []
  },
  {
   "cell_type": "code",
   "execution_count": 124,
   "metadata": {},
   "outputs": [
    {
     "name": "stdout",
     "output_type": "stream",
     "text": [
      "((0, 0, 0), 1)\n",
      "((0, 0, 1), 2)\n",
      "((0, 1, 0), 3)\n",
      "((0, 1, 1), 4)\n",
      "((0, 2, 0), 5)\n",
      "((0, 2, 1), 6)\n",
      "((1, 0, 0), 7)\n",
      "((1, 0, 1), 8)\n",
      "((1, 1, 0), 9)\n",
      "((1, 1, 1), 10)\n",
      "((1, 2, 0), 11)\n",
      "((1, 2, 1), 12)\n"
     ]
    }
   ],
   "source": [
    "for x in np.ndenumerate(arr):\n",
    "    print(x)"
   ]
  },
  {
   "cell_type": "markdown",
   "metadata": {},
   "source": [
    "## Mathematical Operation Using NumPy\n",
    "Numpy array is not like exactly like python list. To do mathematical operation in pyhton list we have to loop through the items but numpy can allow to do any mathematical operation without looping. Mathematical Operation:\n",
    "\n",
    "- Addition (+)  \n",
    "- Subtraction (-)  \n",
    "- Multiplication (*)  \n",
    "- Division (/)  \n",
    "- Modules (%)  \n",
    "- Floor Division(//)  \n",
    "- Exponential(**)  "
   ]
  },
  {
   "cell_type": "markdown",
   "metadata": {},
   "source": [
    "### Addition\n",
    "Adding to scalar value is easy but add some value on a python list is not an easy operation. However, numPy array made it easy to do arithemtic operation without a use of any loops."
   ]
  },
  {
   "cell_type": "code",
   "execution_count": 39,
   "metadata": {},
   "outputs": [
    {
     "name": "stdout",
     "output_type": "stream",
     "text": [
      "original array:  [1 2 3 4 5]\n",
      "[11 12 13 14 15]\n"
     ]
    }
   ],
   "source": [
    "# Mathematical Operation\n",
    "# Addition\n",
    "np_arr_from_list = np.array([1, 2, 3, 4, 5])\n",
    "print('original array: ', np_arr_from_list)\n",
    "ten_plus_original = np_arr_from_list  + 10\n",
    "print(ten_plus_original)"
   ]
  },
  {
   "cell_type": "markdown",
   "metadata": {},
   "source": [
    "### Subtraction"
   ]
  },
  {
   "cell_type": "code",
   "execution_count": 40,
   "metadata": {},
   "outputs": [
    {
     "name": "stdout",
     "output_type": "stream",
     "text": [
      "original array:  [1 2 3 4 5]\n",
      "[-9 -8 -7 -6 -5]\n"
     ]
    }
   ],
   "source": [
    "# Subtraction\n",
    "numpy_array_from_list = np.array([1, 2, 3, 4, 5])\n",
    "print('original array: ', numpy_array_from_list)\n",
    "ten_minus_original = numpy_array_from_list  - 10\n",
    "print(ten_minus_original)"
   ]
  },
  {
   "cell_type": "markdown",
   "metadata": {},
   "source": [
    "###  Multiplication\n"
   ]
  },
  {
   "cell_type": "code",
   "execution_count": 41,
   "metadata": {},
   "outputs": [
    {
     "name": "stdout",
     "output_type": "stream",
     "text": [
      "original array:  [1 2 3 4 5]\n",
      "[10 20 30 40 50]\n"
     ]
    }
   ],
   "source": [
    "numpy_array_from_list = np.array([1, 2, 3, 4, 5])\n",
    "print('original array: ', numpy_array_from_list)\n",
    "ten_times_original = numpy_array_from_list * 10\n",
    "print(ten_times_original)"
   ]
  },
  {
   "cell_type": "code",
   "execution_count": 42,
   "metadata": {},
   "outputs": [
    {
     "name": "stdout",
     "output_type": "stream",
     "text": [
      "[ 0  1  2  3  4  5  6  7  8  9 10 11 12 13 14 15 16 17 18 19 20 21 22 23\n",
      " 24 25 26 27 28 29 30 31 32 33 34 35 36 37 38 39 40 41 42 43 44 45 46 47\n",
      " 48 49]\n",
      "[ 0  2  4  6  8 10 12 14 16 18 20 22 24 26 28 30 32 34 36 38 40 42 44 46\n",
      " 48 50 52 54 56 58 60 62 64 66 68 70 72 74 76 78 80 82 84 86 88 90 92 94\n",
      " 96 98]\n"
     ]
    },
    {
     "data": {
      "image/png": "[encoded data removed]",
      "text/plain": [
       "<Figure size 432x288 with 1 Axes>"
      ]
     },
     "metadata": {},
     "output_type": "display_data"
    }
   ],
   "source": [
    "# let's  seee some use cases\n",
    "\n",
    "x = np.array(range(0,50))\n",
    "y = x * 2\n",
    "print(x)\n",
    "print(y)\n",
    "plt.scatter(x,y, c='brown')\n",
    "plt.title('X vs Y')\n",
    "plt.xlabel('X Axis')\n",
    "plt.ylabel('Y Axis')\n",
    "plt.show()"
   ]
  },
  {
   "cell_type": "markdown",
   "metadata": {},
   "source": [
    "### Division"
   ]
  },
  {
   "cell_type": "code",
   "execution_count": 43,
   "metadata": {},
   "outputs": [
    {
     "name": "stdout",
     "output_type": "stream",
     "text": [
      "original array:  [1 2 3 4 5]\n",
      "[0.1 0.2 0.3 0.4 0.5]\n"
     ]
    }
   ],
   "source": [
    "# Division\n",
    "np_arr_from_list = np.array([1, 2, 3, 4, 5])\n",
    "print('original array: ', np_arr_from_list)\n",
    "ten_times_original = np_arr_from_list / 10\n",
    "print(ten_times_original)"
   ]
  },
  {
   "cell_type": "code",
   "execution_count": 44,
   "metadata": {},
   "outputs": [
    {
     "name": "stdout",
     "output_type": "stream",
     "text": [
      "original array:  [1 2 3 4 5]\n",
      "[1 2 0 1 2]\n"
     ]
    }
   ],
   "source": [
    "### Modulus\n",
    "# Modulus; Finding the remainder\n",
    "np_arr_from_list = np.array([1, 2, 3, 4, 5])\n",
    "print('original array: ', np_arr_from_list)\n",
    "ten_times_original = np_arr_from_list % 3\n",
    "print(ten_times_original)"
   ]
  },
  {
   "cell_type": "markdown",
   "metadata": {},
   "source": [
    "### Floor Division"
   ]
  },
  {
   "cell_type": "code",
   "execution_count": 45,
   "metadata": {},
   "outputs": [
    {
     "name": "stdout",
     "output_type": "stream",
     "text": [
      "original array:  [ 1  2  3  4  5 11]\n",
      "[0 0 0 0 0 1]\n"
     ]
    }
   ],
   "source": [
    "# Floor division: the division result without the remainder\n",
    "numpy_array_from_list = np.array([1, 2, 3, 4, 5, 11])\n",
    "print('original array: ', numpy_array_from_list)\n",
    "ten_times_original = numpy_array_from_list // 10\n",
    "print(ten_times_original)"
   ]
  },
  {
   "cell_type": "markdown",
   "metadata": {},
   "source": [
    "### Exponential"
   ]
  },
  {
   "cell_type": "code",
   "execution_count": 46,
   "metadata": {},
   "outputs": [
    {
     "name": "stdout",
     "output_type": "stream",
     "text": [
      "original array:  [1 2 3 4 5]\n",
      "[ 1  4  9 16 25]\n"
     ]
    }
   ],
   "source": [
    "# Exponential is finding some number the power of another:\n",
    "numpy_array_from_list = np.array([1, 2, 3, 4, 5])\n",
    "print('original array: ', numpy_array_from_list)\n",
    "ten_times_original = numpy_array_from_list  ** 2\n",
    "print(ten_times_original)"
   ]
  },
  {
   "cell_type": "markdown",
   "metadata": {},
   "source": [
    "## Converting Data Types\n",
    "We can convert the data types of numpy array"
   ]
  },
  {
   "cell_type": "markdown",
   "metadata": {},
   "source": [
    "### Converting Data Types from Int to Float"
   ]
  },
  {
   "cell_type": "code",
   "execution_count": 47,
   "metadata": {},
   "outputs": [
    {
     "name": "stdout",
     "output_type": "stream",
     "text": [
      "[1 2 3 4]\n"
     ]
    }
   ],
   "source": [
    "np_int_arr = np.array([1,2,3,4])\n",
    "print(np_int_arr)"
   ]
  },
  {
   "cell_type": "code",
   "execution_count": 48,
   "metadata": {},
   "outputs": [],
   "source": [
    "np_float_arr = np_int_arr.astype('float')"
   ]
  },
  {
   "cell_type": "code",
   "execution_count": 49,
   "metadata": {},
   "outputs": [
    {
     "name": "stdout",
     "output_type": "stream",
     "text": [
      "[1. 2. 3. 4.]\n"
     ]
    }
   ],
   "source": [
    "print(np_float_arr)"
   ]
  },
  {
   "cell_type": "markdown",
   "metadata": {},
   "source": [
    "### Converting Data Types \n"
   ]
  },
  {
   "cell_type": "code",
   "execution_count": 50,
   "metadata": {},
   "outputs": [],
   "source": [
    "# to int\n",
    "np_int_arr = np_float_arr.astype('int')"
   ]
  },
  {
   "cell_type": "code",
   "execution_count": 51,
   "metadata": {},
   "outputs": [
    {
     "name": "stdout",
     "output_type": "stream",
     "text": [
      "[1 2 3 4]\n"
     ]
    }
   ],
   "source": [
    "print(np_int_arr)"
   ]
  },
  {
   "cell_type": "code",
   "execution_count": 52,
   "metadata": {},
   "outputs": [
    {
     "name": "stdout",
     "output_type": "stream",
     "text": [
      "[1. 2. 3. 4.]\n"
     ]
    }
   ],
   "source": [
    "#to float\n",
    "\n",
    "np_float_arr = np_int_arr.astype('float')\n",
    "print(np_float_arr)"
   ]
  },
  {
   "cell_type": "code",
   "execution_count": 53,
   "metadata": {},
   "outputs": [
    {
     "name": "stdout",
     "output_type": "stream",
     "text": [
      "[ True  True False  True  True  True]\n"
     ]
    }
   ],
   "source": [
    "# Converting Data Types Int to Boolean\n",
    "np_bool_arr = np.array([-3, -2, 0, 1,2,3]).astype('bool')\n",
    "print(np_bool_arr)\n"
   ]
  },
  {
   "cell_type": "code",
   "execution_count": 54,
   "metadata": {},
   "outputs": [
    {
     "name": "stdout",
     "output_type": "stream",
     "text": [
      "['1' '2' '3' '4']\n"
     ]
    }
   ],
   "source": [
    "# int to string\n",
    "np_str_arr = np_int_arr.astype('str')\n",
    "print(np_str_arr)"
   ]
  },
  {
   "cell_type": "markdown",
   "metadata": {},
   "source": [
    "## Getting items from a numpy array"
   ]
  },
  {
   "cell_type": "code",
   "execution_count": 55,
   "metadata": {},
   "outputs": [
    {
     "name": "stdout",
     "output_type": "stream",
     "text": [
      "First row: [1 2 3]\n",
      "Second row: [4 5 6]\n",
      "Third row:  [7 8 9]\n"
     ]
    }
   ],
   "source": [
    "# 2 Dimension Array\n",
    "two_dim_arr = np.array([[1,2,3],[4,5,6], [7,8,9]])\n",
    "first_row = two_dim_arr[0]\n",
    "second_row = two_dim_arr[1]\n",
    "third_row = two_dim_arr[2]\n",
    "print('First row:', first_row)\n",
    "print('Second row:', second_row)\n",
    "print('Third row: ', third_row)"
   ]
  },
  {
   "cell_type": "code",
   "execution_count": 56,
   "metadata": {},
   "outputs": [
    {
     "name": "stdout",
     "output_type": "stream",
     "text": [
      "First column: [1 4 7]\n",
      "Second column: [2 5 8]\n",
      "Third column:  [3 6 9]\n",
      "[[1 2 3]\n",
      " [4 5 6]\n",
      " [7 8 9]]\n"
     ]
    }
   ],
   "source": [
    "first_column= two_dim_arr[:,0]\n",
    "second_column = two_dim_arr[:,1]\n",
    "third_column = two_dim_arr[:,2]\n",
    "print('First column:', first_column)\n",
    "print('Second column:', second_column)\n",
    "print('Third column: ', third_column)\n",
    "print(two_dim_arr)"
   ]
  },
  {
   "cell_type": "markdown",
   "metadata": {},
   "source": [
    "## NumPy array Indexing\n",
    "\n",
    "Accessing one dimensional array elements is similar to accessing list elements. The first element can be accessed by index 0. See the example below. Negative indexing is also possible. The last element is at -1."
   ]
  },
  {
   "cell_type": "code",
   "execution_count": 57,
   "metadata": {},
   "outputs": [
    {
     "name": "stdout",
     "output_type": "stream",
     "text": [
      "1\n",
      "5\n"
     ]
    }
   ],
   "source": [
    "arr = np.array([1, 2, 3, 4, 5])\n",
    "print(arr[0])\n",
    "print(arr[-1])"
   ]
  },
  {
   "cell_type": "markdown",
   "metadata": {},
   "source": [
    "Accessing two or more dimensional array elements is a bit different from accessing ordinary list. In order to access a 2-D array element, we use the numbers separated by a comma.\n",
    "The first numbers reperesents the dimension and the second number refers to the index of the lement.Let's see an example."
   ]
  },
  {
   "cell_type": "code",
   "execution_count": 58,
   "metadata": {},
   "outputs": [
    {
     "name": "stdout",
     "output_type": "stream",
     "text": [
      "[[1 2 3]\n",
      " [4 5 6]\n",
      " [7 8 9]]\n",
      "3\n",
      "dim: 2\n"
     ]
    }
   ],
   "source": [
    "# 2-D\n",
    "lst_lst =[[1,2,3],[4,5,6],[7,8,9]]\n",
    "two_dim_arr = np.array(lst_lst)\n",
    "print(two_dim_arr)\n",
    "print(two_dim_arr[0, 2])\n",
    "print('dim:', two_dim_arr.ndim)"
   ]
  },
  {
   "cell_type": "code",
   "execution_count": 59,
   "metadata": {},
   "outputs": [
    {
     "name": "stdout",
     "output_type": "stream",
     "text": [
      "[[[1 2 3]\n",
      "  [4 5 6]\n",
      "  [7 8 9]]]\n",
      "9\n",
      "dim: 3\n"
     ]
    }
   ],
   "source": [
    "# 3-D\n",
    "\n",
    "lst_lst_lst = [[[1,2,3],[4,5,6],[7,8,9]]]\n",
    "three_dim_arr = np.array(lst_lst_lst)\n",
    "print(three_dim_arr)\n",
    "print(three_dim_arr[0, 2, 2]) # the\n",
    "print('dim:', three_dim_arr.ndim)"
   ]
  },
  {
   "cell_type": "markdown",
   "metadata": {},
   "source": [
    "## Slicing some parts of Numpy array\n",
    "Slicing in numpy is similar to slicing in python list"
   ]
  },
  {
   "cell_type": "code",
   "execution_count": 60,
   "metadata": {},
   "outputs": [
    {
     "name": "stdout",
     "output_type": "stream",
     "text": [
      "[1 2 3 4 5]\n",
      "[1 2 3 4 5]\n",
      "[1 2 3 4 5]\n",
      "[1 3 5]\n",
      "[1 2 3]\n",
      "[4 5]\n"
     ]
    }
   ],
   "source": [
    "# [start:end:step]\n",
    "# [:] \n",
    "arr = np.array([1, 2, 3, 4, 5])\n",
    "print(arr)\n",
    "print(arr[:])\n",
    "print(arr[::])\n",
    "print(arr[::2]) # 2 is a step\n",
    "print(arr[0:3])\n",
    "print(arr[3:])\n"
   ]
  },
  {
   "cell_type": "code",
   "execution_count": 61,
   "metadata": {},
   "outputs": [
    {
     "name": "stdout",
     "output_type": "stream",
     "text": [
      "[[1 2 3]\n",
      " [4 5 6]\n",
      " [7 8 9]]\n"
     ]
    }
   ],
   "source": [
    "# Gives the same numPy array\n",
    "two_dim_arr = np.array([[1,2,3],[4,5,6], [7,8,9]])\n",
    "print(two_dim_arr[::])"
   ]
  },
  {
   "cell_type": "code",
   "execution_count": 62,
   "metadata": {},
   "outputs": [
    {
     "name": "stdout",
     "output_type": "stream",
     "text": [
      "First row [[1 2 3]\n",
      " [4 5 6]]\n",
      "[1 4 7]\n",
      "[[1 2 3]\n",
      " [4 5 6]\n",
      " [7 8 9]]\n",
      "[[1 2 3]\n",
      " [4 5 6]\n",
      " [7 8 9]]\n",
      "[[1 2]\n",
      " [4 5]\n",
      " [7 8]]\n",
      "<class 'numpy.ndarray'>\n"
     ]
    }
   ],
   "source": [
    "two_dim_arr = np.array([[1,2,3],[4,5,6], [7,8,9]])\n",
    "print('First row', two_dim_arr[0:2]) # slices the first two rows\n",
    "print(two_dim_arr[0:3, 0]) # slices the first item in each column\n",
    "first_two_rows_and_columns = two_dim_arr[0:3, 0:2]\n",
    "print(two_dim_arr[:])\n",
    "print(two_dim_arr)\n",
    "print(first_two_rows_and_columns)\n",
    "print(type(two_dim_arr))"
   ]
  },
  {
   "cell_type": "code",
   "execution_count": 63,
   "metadata": {},
   "outputs": [
    {
     "data": {
      "text/plain": [
       "array([8, 9])"
      ]
     },
     "execution_count": 63,
     "metadata": {},
     "output_type": "execute_result"
    }
   ],
   "source": [
    "two_dim_arr[2, 1:]"
   ]
  },
  {
   "cell_type": "code",
   "execution_count": 64,
   "metadata": {},
   "outputs": [
    {
     "data": {
      "text/plain": [
       "array([[ 1,  2,  3,  7],\n",
       "       [ 4,  5,  6, 15],\n",
       "       [ 7,  8,  9, 24],\n",
       "       [10, 11, 12, 33]])"
      ]
     },
     "execution_count": 64,
     "metadata": {},
     "output_type": "execute_result"
    }
   ],
   "source": [
    "# Slicing out the middle four items\n",
    "two_dim_arr_2= np.array([[1,2,3,7],[4,5,6, 15], [7,8,9,24],  [10,11,12, 33]])\n",
    "two_dim_arr_2"
   ]
  },
  {
   "cell_type": "code",
   "execution_count": 65,
   "metadata": {},
   "outputs": [
    {
     "data": {
      "text/plain": [
       "array([[5, 6],\n",
       "       [8, 9]])"
      ]
     },
     "execution_count": 65,
     "metadata": {},
     "output_type": "execute_result"
    }
   ],
   "source": [
    "two_dim_arr_2[1:3, 1:3]"
   ]
  },
  {
   "cell_type": "code",
   "execution_count": 66,
   "metadata": {},
   "outputs": [
    {
     "data": {
      "text/plain": [
       "array([[ 1,  2,  3,  7],\n",
       "       [ 4, 25, 25, 15],\n",
       "       [ 7, 25, 25, 24],\n",
       "       [10, 11, 12, 33]])"
      ]
     },
     "execution_count": 66,
     "metadata": {},
     "output_type": "execute_result"
    }
   ],
   "source": [
    "# Assigning \n",
    "two_dim_arr_2[1:3, 1:3] = 25\n",
    "two_dim_arr_2"
   ]
  },
  {
   "cell_type": "markdown",
   "metadata": {},
   "source": [
    "## How to reverse the rows and the whole array?"
   ]
  },
  {
   "cell_type": "code",
   "execution_count": 67,
   "metadata": {},
   "outputs": [
    {
     "data": {
      "text/plain": [
       "array([[1, 2, 3],\n",
       "       [4, 5, 6],\n",
       "       [7, 8, 9]])"
      ]
     },
     "execution_count": 67,
     "metadata": {},
     "output_type": "execute_result"
    }
   ],
   "source": [
    "two_dim_arr[::]"
   ]
  },
  {
   "cell_type": "code",
   "execution_count": 68,
   "metadata": {},
   "outputs": [
    {
     "data": {
      "text/plain": [
       "array([[7, 8, 9],\n",
       "       [4, 5, 6],\n",
       "       [1, 2, 3]])"
      ]
     },
     "execution_count": 68,
     "metadata": {},
     "output_type": "execute_result"
    }
   ],
   "source": [
    "two_dim_arr[::-1]"
   ]
  },
  {
   "cell_type": "markdown",
   "metadata": {},
   "source": [
    "## Reverse the row and column positions\n"
   ]
  },
  {
   "cell_type": "code",
   "execution_count": 69,
   "metadata": {},
   "outputs": [
    {
     "data": {
      "text/plain": [
       "array([[9, 8, 7],\n",
       "       [6, 5, 4],\n",
       "       [3, 2, 1]])"
      ]
     },
     "execution_count": 69,
     "metadata": {},
     "output_type": "execute_result"
    }
   ],
   "source": [
    "two_dim_arr = np.array([[1,2,3],[4,5,6], [7,8,9]])\n",
    "two_dim_arr[::-1,::-1]"
   ]
  },
  {
   "cell_type": "code",
   "execution_count": 70,
   "metadata": {},
   "outputs": [
    {
     "data": {
      "text/plain": [
       "array([[9, 8, 7],\n",
       "       [6, 5, 4],\n",
       "       [3, 2, 1]])"
      ]
     },
     "execution_count": 70,
     "metadata": {},
     "output_type": "execute_result"
    }
   ],
   "source": [
    "two_dim_arr[::-1, ::-1]"
   ]
  },
  {
   "cell_type": "code",
   "execution_count": 71,
   "metadata": {},
   "outputs": [],
   "source": [
    "## How to represent missing values"
   ]
  },
  {
   "cell_type": "code",
   "execution_count": 72,
   "metadata": {},
   "outputs": [
    {
     "name": "stdout",
     "output_type": "stream",
     "text": [
      "[[1 2 3]\n",
      " [4 5 6]\n",
      " [7 8 9]]\n",
      "[[ 1  2  3]\n",
      " [ 4 55 44]\n",
      " [ 7  8  9]]\n"
     ]
    }
   ],
   "source": [
    "print(two_dim_arr)\n",
    "two_dim_arr[1,1] = 55\n",
    "two_dim_arr[1,2] = 44\n",
    "print(two_dim_arr)"
   ]
  },
  {
   "cell_type": "markdown",
   "metadata": {},
   "source": [
    "### NumPy Zeros"
   ]
  },
  {
   "cell_type": "code",
   "execution_count": 73,
   "metadata": {},
   "outputs": [
    {
     "data": {
      "text/plain": [
       "array([[0, 0, 0],\n",
       "       [0, 0, 0],\n",
       "       [0, 0, 0]])"
      ]
     },
     "execution_count": 73,
     "metadata": {},
     "output_type": "execute_result"
    }
   ],
   "source": [
    "# Numpy Zeroes\n",
    "# numpy.zeros(shape, dtype=float, order='C')\n",
    "numpy_zeroes = np.zeros((3,3),dtype=int)\n",
    "numpy_zeroes"
   ]
  },
  {
   "cell_type": "markdown",
   "metadata": {},
   "source": [
    "### Numpy ones\n"
   ]
  },
  {
   "cell_type": "code",
   "execution_count": 74,
   "metadata": {},
   "outputs": [
    {
     "name": "stdout",
     "output_type": "stream",
     "text": [
      "[[1 1 1 1 1]\n",
      " [1 1 1 1 1]\n",
      " [1 1 1 1 1]]\n"
     ]
    }
   ],
   "source": [
    "# Numpy ones\n",
    "numpy_ones = np.ones((3,5),dtype=int,order='C')\n",
    "print(numpy_ones)"
   ]
  },
  {
   "cell_type": "code",
   "execution_count": 75,
   "metadata": {},
   "outputs": [],
   "source": [
    "twos = numpy_ones * 2"
   ]
  },
  {
   "cell_type": "code",
   "execution_count": 76,
   "metadata": {},
   "outputs": [
    {
     "name": "stdout",
     "output_type": "stream",
     "text": [
      "[[2 2 2 2 2]\n",
      " [2 2 2 2 2]\n",
      " [2 2 2 2 2]]\n"
     ]
    }
   ],
   "source": [
    "print(twos)"
   ]
  },
  {
   "cell_type": "markdown",
   "metadata": {},
   "source": [
    "### NumPy Full to create identical itmes\n"
   ]
  },
  {
   "cell_type": "code",
   "execution_count": 77,
   "metadata": {},
   "outputs": [
    {
     "name": "stdout",
     "output_type": "stream",
     "text": [
      "[[4 4 4 4 4]\n",
      " [4 4 4 4 4]\n",
      " [4 4 4 4 4]]\n"
     ]
    }
   ],
   "source": [
    "np_full = np.full((3, 5), fill_value=4)\n",
    "print(np_full)"
   ]
  },
  {
   "cell_type": "markdown",
   "metadata": {},
   "source": [
    "### NumPy Eye\n",
    "\n",
    "The eye function creates an identity matrix, that is, a matrix with elements on the diagonal are set to one, and non-diagonal elements are set to zero:"
   ]
  },
  {
   "cell_type": "code",
   "execution_count": 78,
   "metadata": {},
   "outputs": [
    {
     "name": "stdout",
     "output_type": "stream",
     "text": [
      "[[1 0 0]\n",
      " [0 1 0]\n",
      " [0 0 1]]\n"
     ]
    }
   ],
   "source": [
    "np_eye = np.eye(3, dtype=int)\n",
    "print(np_eye)"
   ]
  },
  {
   "cell_type": "code",
   "execution_count": 79,
   "metadata": {},
   "outputs": [
    {
     "name": "stdout",
     "output_type": "stream",
     "text": [
      "[[1 0 0 0 0]\n",
      " [0 1 0 0 0]\n",
      " [0 0 1 0 0]\n",
      " [0 0 0 1 0]\n",
      " [0 0 0 0 1]]\n"
     ]
    }
   ],
   "source": [
    "np_eye2 = np.eye(5, dtype=int)\n",
    "print(np_eye2)"
   ]
  },
  {
   "cell_type": "markdown",
   "metadata": {},
   "source": [
    "### NumPy Empty\n",
    "The NumPy *empty* method returns a new array of given shape and type, with random values."
   ]
  },
  {
   "cell_type": "code",
   "execution_count": 80,
   "metadata": {},
   "outputs": [
    {
     "data": {
      "text/plain": [
       "array([[0., 0., 1., 0.],\n",
       "       [0., 1., 1., 1.]])"
      ]
     },
     "execution_count": 80,
     "metadata": {},
     "output_type": "execute_result"
    }
   ],
   "source": [
    "np.empty((2, 4))"
   ]
  },
  {
   "cell_type": "code",
   "execution_count": 81,
   "metadata": {},
   "outputs": [
    {
     "data": {
      "text/plain": [
       "array([[1, 2],\n",
       "       [3, 4]])"
      ]
     },
     "execution_count": 81,
     "metadata": {},
     "output_type": "execute_result"
    }
   ],
   "source": [
    "np.empty((2, 2), dtype=int)"
   ]
  },
  {
   "cell_type": "markdown",
   "metadata": {},
   "source": [
    "### Shape and Reshape a numPy array\n",
    "The *shape* attribute provide the dimension of the numPy array. The reshape method takes arguments and reshape the array to a different dimension."
   ]
  },
  {
   "cell_type": "code",
   "execution_count": 82,
   "metadata": {},
   "outputs": [
    {
     "data": {
      "text/plain": [
       "(12,)"
      ]
     },
     "execution_count": 82,
     "metadata": {},
     "output_type": "execute_result"
    }
   ],
   "source": [
    "nums = np.arange(12)\n",
    "nums.shape"
   ]
  },
  {
   "cell_type": "code",
   "execution_count": 83,
   "metadata": {},
   "outputs": [
    {
     "name": "stdout",
     "output_type": "stream",
     "text": [
      "[ 0  1  2  3  4  5  6  7  8  9 10 11]\n",
      "[[ 0  1  2  3]\n",
      " [ 4  5  6  7]\n",
      " [ 8  9 10 11]]\n",
      "2\n",
      "(3, 4)\n"
     ]
    }
   ],
   "source": [
    "nums = np.arange(12)\n",
    "print(nums)\n",
    "new_arr = nums.reshape(3, 4)\n",
    "print(new_arr)\n",
    "print(new_arr.ndim) # 2-d\n",
    "print(new_arr.shape) # 3 rows and 3 columns"
   ]
  },
  {
   "cell_type": "code",
   "execution_count": 84,
   "metadata": {},
   "outputs": [
    {
     "name": "stdout",
     "output_type": "stream",
     "text": [
      "[ 0  1  2  3  4  5  6  7  8  9 10 11]\n",
      "[[ 0  1  2  3]\n",
      " [ 4  5  6  7]\n",
      " [ 8  9 10 11]]\n"
     ]
    }
   ],
   "source": [
    "nums = np.arange(12)\n",
    "print(nums)\n",
    "new_arr = nums.reshape(3, 4)\n",
    "print(new_arr)"
   ]
  },
  {
   "cell_type": "markdown",
   "metadata": {},
   "source": [
    "## Reshape"
   ]
  },
  {
   "cell_type": "code",
   "execution_count": 85,
   "metadata": {},
   "outputs": [
    {
     "name": "stdout",
     "output_type": "stream",
     "text": [
      "[[1 2 3]\n",
      " [4 5 6]]\n",
      "(2, 3)\n",
      "[[1 2]\n",
      " [3 4]\n",
      " [5 6]]\n"
     ]
    }
   ],
   "source": [
    "\n",
    "# numpy.reshape(), numpy.flatten()\n",
    "first_shape  = np.array([(1,2,3), (4,5,6)])\n",
    "print(first_shape)\n",
    "print(first_shape.shape)\n",
    "reshaped = first_shape.reshape(3,2)\n",
    "print(reshaped)\n"
   ]
  },
  {
   "cell_type": "markdown",
   "metadata": {},
   "source": [
    "## Flatten\n",
    "The flaten method changes the numPy array to 1-dimensional array"
   ]
  },
  {
   "cell_type": "code",
   "execution_count": 86,
   "metadata": {},
   "outputs": [
    {
     "name": "stdout",
     "output_type": "stream",
     "text": [
      "[1 2 3 4 5 6]\n",
      "Shape: (6,) Dim: 1\n"
     ]
    }
   ],
   "source": [
    "flattened = reshaped.flatten()\n",
    "print(flattened)\n",
    "print('Shape:', flattened.shape, 'Dim:', flattened.ndim)\n"
   ]
  },
  {
   "cell_type": "code",
   "execution_count": 87,
   "metadata": {},
   "outputs": [
    {
     "name": "stdout",
     "output_type": "stream",
     "text": [
      "[[[ 1  2]\n",
      "  [ 3  4]]\n",
      "\n",
      " [[ 5  6]\n",
      "  [ 7  8]]\n",
      "\n",
      " [[ 9 10]\n",
      "  [11 12]]]\n"
     ]
    }
   ],
   "source": [
    "arr = np.array([1, 2, 3, 4, 5, 6, 7, 8, 9, 10, 11, 12])\n",
    "newarr = arr.reshape(3, 2, 2)\n",
    "print(newarr)"
   ]
  },
  {
   "cell_type": "markdown",
   "metadata": {},
   "source": [
    "### Concatenating Numpy arrays\n",
    "By default the NumPy concatenate method joins the arrays along axis 0. To join the arrays horizontally, add parameter axis=1:"
   ]
  },
  {
   "cell_type": "code",
   "execution_count": 88,
   "metadata": {},
   "outputs": [
    {
     "name": "stdout",
     "output_type": "stream",
     "text": [
      "[0 1 2 3 4]\n"
     ]
    }
   ],
   "source": [
    "x = np.arange(2)\n",
    "y = np.arange(2, 5)\n",
    "z = np.concatenate((x, y))\n",
    "print(z)"
   ]
  },
  {
   "cell_type": "code",
   "execution_count": 89,
   "metadata": {},
   "outputs": [
    {
     "name": "stdout",
     "output_type": "stream",
     "text": [
      "[[1 2 3]\n",
      " [4 5 6]\n",
      " [7 8 9]]\n"
     ]
    }
   ],
   "source": [
    "x = np.arange(1, 10).reshape(3,3)\n",
    "print(x)"
   ]
  },
  {
   "cell_type": "code",
   "execution_count": 90,
   "metadata": {},
   "outputs": [
    {
     "name": "stdout",
     "output_type": "stream",
     "text": [
      "[[1 2 3 1 2 3]\n",
      " [4 5 6 4 5 6]\n",
      " [7 8 9 7 8 9]]\n"
     ]
    }
   ],
   "source": [
    "# concant\n",
    "print(np.concatenate((x, x), axis=1))"
   ]
  },
  {
   "cell_type": "markdown",
   "metadata": {},
   "source": [
    "### Horizontal Stack"
   ]
  },
  {
   "cell_type": "code",
   "execution_count": 211,
   "metadata": {},
   "outputs": [
    {
     "name": "stdout",
     "output_type": "stream",
     "text": [
      "[5 7 9]\n",
      "Horizontal Append: [1 2 3 4 5 6]\n"
     ]
    }
   ],
   "source": [
    " ## Horitzontal Stack\n",
    "np_list_one = np.array([1,2,3])\n",
    "np_list_two = np.array([4,5,6])\n",
    "print(np_list_one + np_list_two)\n",
    "print('Horizontal Append:', np.hstack((np_list_one, np_list_two)))"
   ]
  },
  {
   "cell_type": "markdown",
   "metadata": {},
   "source": [
    "### Vertical Stack"
   ]
  },
  {
   "cell_type": "code",
   "execution_count": 212,
   "metadata": {},
   "outputs": [
    {
     "name": "stdout",
     "output_type": "stream",
     "text": [
      "Vertical Append: [[1 2 3]\n",
      " [4 5 6]]\n"
     ]
    }
   ],
   "source": [
    " ## Vertical Stack\n",
    "print('Vertical Append:', np.vstack((np_list_one, np_list_two)))"
   ]
  },
  {
   "cell_type": "markdown",
   "metadata": {},
   "source": [
    "## Generating Random Numbers"
   ]
  },
  {
   "cell_type": "code",
   "execution_count": 224,
   "metadata": {},
   "outputs": [
    {
     "data": {
      "text/plain": [
       "0.7725994942663019"
      ]
     },
     "execution_count": 224,
     "metadata": {},
     "output_type": "execute_result"
    }
   ],
   "source": [
    "# Generate a random float  number between 0 and 0.999..\n",
    "random_float = np.random.random()\n",
    "random_float"
   ]
  },
  {
   "cell_type": "code",
   "execution_count": 225,
   "metadata": {},
   "outputs": [
    {
     "data": {
      "text/plain": [
       "array([0.86088443, 0.19384869, 0.71472838, 0.4162142 , 0.97043783])"
      ]
     },
     "execution_count": 225,
     "metadata": {},
     "output_type": "execute_result"
    }
   ],
   "source": [
    " # Generate a random numpy array of float  numbers\n",
    "random_floats = np.random.random(5)\n",
    "random_floats"
   ]
  },
  {
   "cell_type": "code",
   "execution_count": 226,
   "metadata": {},
   "outputs": [
    {
     "data": {
      "text/plain": [
       "1"
      ]
     },
     "execution_count": 226,
     "metadata": {},
     "output_type": "execute_result"
    }
   ],
   "source": [
    "# Generating a random integers between 0 and 10\n",
    "\n",
    "random_int = np.random.randint(0, 11)\n",
    "random_int"
   ]
  },
  {
   "cell_type": "code",
   "execution_count": null,
   "metadata": {},
   "outputs": [],
   "source": [
    "# Random numbers between [0,1) of shape 2,3\n",
    "np_random_nums = np.random.random(size=(2, 3))\n",
    "print(np_random_nums)\n"
   ]
  },
  {
   "cell_type": "code",
   "execution_count": 227,
   "metadata": {},
   "outputs": [
    {
     "data": {
      "text/plain": [
       "array([0.06400357, 0.42148779, 0.25501439, 0.33199159, 0.22413825,\n",
       "       0.20147948])"
      ]
     },
     "execution_count": 227,
     "metadata": {},
     "output_type": "execute_result"
    }
   ],
   "source": [
    "np_random_nums.shape\n",
    "np_random_nums.flatten()"
   ]
  },
  {
   "cell_type": "code",
   "execution_count": 234,
   "metadata": {},
   "outputs": [
    {
     "data": {
      "text/plain": [
       "array([[0.93857347, 0.38148417],\n",
       "       [0.28117651, 0.75796414]])"
      ]
     },
     "execution_count": 234,
     "metadata": {},
     "output_type": "execute_result"
    }
   ],
   "source": [
    "## Random numbers between [0, 1] of shape 2, 2\n",
    "rand = np.random.rand(2,2)\n",
    "rand"
   ]
  },
  {
   "cell_type": "code",
   "execution_count": 235,
   "metadata": {},
   "outputs": [
    {
     "data": {
      "text/plain": [
       "array([6, 8, 8, 2])"
      ]
     },
     "execution_count": 235,
     "metadata": {},
     "output_type": "execute_result"
    }
   ],
   "source": [
    " # Generating a random integers between 2 and 11, and creating a one row array\n",
    "random_int = np.random.randint(2,10, size=4)\n",
    "random_int"
   ]
  },
  {
   "cell_type": "code",
   "execution_count": 236,
   "metadata": {},
   "outputs": [
    {
     "data": {
      "text/plain": [
       "array([[2, 7, 2],\n",
       "       [5, 2, 2],\n",
       "       [8, 9, 9]])"
      ]
     },
     "execution_count": 236,
     "metadata": {},
     "output_type": "execute_result"
    }
   ],
   "source": [
    "# Generating a random integers between 0 and 10, [0, 10)\n",
    "random_int = np.random.randint(2,10, size=(3,3))\n",
    "random_int"
   ]
  },
  {
   "cell_type": "code",
   "execution_count": 379,
   "metadata": {},
   "outputs": [
    {
     "data": {
      "text/plain": [
       "array([[3, 2, 5],\n",
       "       [3, 2, 8],\n",
       "       [6, 4, 8]])"
      ]
     },
     "execution_count": 379,
     "metadata": {},
     "output_type": "execute_result"
    }
   ],
   "source": [
    "# Generating a random integers between 0 and 10, [0, 10)\n",
    "random_int = np.random.randint(2,10,(3,3))\n",
    "random_int"
   ]
  },
  {
   "cell_type": "code",
   "execution_count": 237,
   "metadata": {},
   "outputs": [
    {
     "name": "stdout",
     "output_type": "stream",
     "text": [
      "['i' 'u' 'e' 'o' 'o' 'i' 'o' 'o' 'o' 'e']\n"
     ]
    }
   ],
   "source": [
    "print(np.random.choice(['a', 'e', 'i', 'o', 'u'], size=10))"
   ]
  },
  {
   "cell_type": "code",
   "execution_count": 242,
   "metadata": {},
   "outputs": [
    {
     "name": "stdout",
     "output_type": "stream",
     "text": [
      "['y' 't' 'y' 'P' 'h']\n"
     ]
    }
   ],
   "source": [
    "print(np.random.choice(list('Python'), size=5))"
   ]
  },
  {
   "cell_type": "code",
   "execution_count": 256,
   "metadata": {},
   "outputs": [
    {
     "name": "stdout",
     "output_type": "stream",
     "text": [
      "6iyALODrQBQMT9FzekHPSkDg\n",
      "24\n"
     ]
    }
   ],
   "source": [
    "id = np.random.choice(list('abcdefghijklmnopkrstuvwxyzABCDEFGHIJKLMNOPQRSTUVWXYZ0123456789'), size=24).tolist()\n",
    "id = ''.join(id)\n",
    "print(id)\n",
    "print(len(id))"
   ]
  },
  {
   "cell_type": "markdown",
   "metadata": {},
   "source": [
    "### Generating random data"
   ]
  },
  {
   "cell_type": "code",
   "execution_count": 280,
   "metadata": {},
   "outputs": [
    {
     "name": "stdout",
     "output_type": "stream",
     "text": [
      "[-4.84126607e-01 -7.59972341e-01 -2.78277129e-01 -6.98134459e-01\n",
      " -5.03255576e-01 -1.01803718e-01 -1.26386154e-02 -4.21013460e-02\n",
      " -2.29533603e-01 -8.63796735e-01 -5.32052900e-01 -3.17144832e-02\n",
      " -6.46990408e-01 -8.40503451e-01 -8.08687444e-01 -4.50651678e-01\n",
      " -9.78298188e-01 -2.29738560e-01 -6.07430977e-01 -7.76641785e-01\n",
      " -7.08403321e-01 -1.96855920e-01 -9.62818858e-01 -2.28679146e-01\n",
      " -2.37703087e-01 -9.18458781e-01 -1.68963611e-01 -8.27957836e-01\n",
      " -8.63567631e-01 -8.33598804e-01 -9.97241991e-01 -4.66543311e-01\n",
      " -6.31024148e-01 -8.56746769e-01 -1.31271423e-01 -4.93798334e-01\n",
      " -6.51291931e-01 -4.67279422e-01 -1.90788098e-01 -8.29065194e-01\n",
      " -1.34323391e-01 -4.14555204e-01 -3.84468105e-01 -4.11457827e-01\n",
      " -7.78680881e-01 -8.15261461e-01 -5.22647684e-01 -6.43657265e-01\n",
      " -7.59163651e-01 -4.18730704e-01 -1.43815410e-01 -4.43102264e-01\n",
      " -9.34767706e-02 -2.83204992e-01 -9.95627224e-02 -7.98289273e-01\n",
      " -4.12663400e-01 -6.45322251e-01 -2.56294893e-01 -5.50120332e-01\n",
      " -5.87818843e-01 -8.57021217e-01 -6.45445525e-01 -3.32196555e-01\n",
      " -4.91227431e-01 -4.80868085e-01 -3.51834128e-01 -7.24162448e-01\n",
      " -7.79253739e-01 -3.22414203e-02 -8.62168698e-01 -9.19001815e-01\n",
      " -2.96349654e-01 -3.52874678e-01 -6.29026748e-01 -9.23213754e-01\n",
      " -7.20470057e-01 -9.37775430e-01 -1.08786946e-02 -3.04592647e-01\n",
      " -5.68106900e-01 -8.02700269e-02 -4.34554248e-01 -2.88725028e-01\n",
      " -4.93230256e-01 -1.73522048e-01 -1.75535067e-02 -5.87872139e-01\n",
      " -8.52702672e-01 -5.98155482e-01 -2.02288082e-01 -9.99813286e-01\n",
      " -4.54052179e-02 -3.37485525e-01 -6.89352162e-01 -5.10178630e-01\n",
      " -7.35927256e-01 -5.64068716e-01 -3.61780900e-01 -3.25922711e-01\n",
      " -6.77226656e-01 -9.77033760e-01 -6.22805679e-01 -6.24622002e-01\n",
      " -5.87975581e-01 -3.42745268e-02 -2.99030244e-02 -8.51285867e-01\n",
      " -8.65673900e-02 -2.15403563e-02 -7.43352493e-01 -2.58976100e-01\n",
      " -8.24545150e-01 -5.28034361e-01 -3.92795402e-01 -8.20411520e-01\n",
      " -4.52815906e-01 -2.61168705e-01 -3.32582240e-01 -3.69253506e-01\n",
      " -8.79567758e-01 -4.36104859e-02 -8.59082959e-01 -3.87761991e-01\n",
      " -8.70468599e-01 -4.60296661e-01 -1.32566370e-01 -3.69714568e-01\n",
      " -9.14133137e-02 -3.41455733e-01 -5.44600301e-01 -5.33137732e-01\n",
      " -7.88362489e-01 -4.61389719e-02 -6.89074005e-01 -6.00054120e-01\n",
      " -9.70210456e-01 -6.11993889e-01 -8.83294243e-01 -8.08574460e-01\n",
      " -2.10461694e-01 -5.27809936e-01 -1.62260920e-01 -6.77151094e-01\n",
      " -6.16803900e-01 -1.67865411e-01 -9.32368467e-01 -1.79577548e-01\n",
      " -7.94610042e-01 -3.45069618e-01 -4.67130504e-01 -2.10714511e-01\n",
      " -2.33502126e-01 -4.24595991e-01 -4.19310701e-01 -2.65638973e-01\n",
      " -3.89436755e-01 -4.41008364e-01 -5.02304647e-01 -4.24901944e-02\n",
      " -7.78760054e-01 -5.62905754e-01 -5.81212605e-01 -4.13443595e-01\n",
      " -3.16217073e-01 -7.77228895e-01 -4.38142383e-01 -7.96112042e-02\n",
      " -7.65652907e-01 -8.89196029e-01 -7.20767585e-01 -4.47259264e-01\n",
      " -5.47518517e-01 -5.59614275e-01 -3.45801435e-01 -8.35146013e-02\n",
      " -8.14137347e-01 -6.51426366e-01 -6.14834986e-01 -8.46629653e-01\n",
      " -1.09495245e-01 -6.75565831e-02 -7.91999812e-04 -7.62791937e-01\n",
      " -9.28248098e-01 -8.51626427e-01 -1.79134350e-01 -7.03218197e-02\n",
      " -6.44101923e-01 -3.75038290e-02 -2.03048407e-01 -6.46507282e-01\n",
      " -1.49047085e-01 -3.58994300e-01 -5.53516417e-01 -5.48074417e-01\n",
      " -3.78802324e-02 -7.06977164e-01 -3.30305168e-01 -1.95789814e-01\n",
      " -6.14616548e-01 -5.35709987e-01 -3.57728630e-01 -4.12218774e-01\n",
      " -2.66774128e-01 -1.44353479e-01 -4.58256682e-01 -4.05804074e-02\n",
      " -7.18864410e-01 -9.33243201e-01 -6.15646268e-01 -3.59070572e-02\n",
      " -2.36066635e-01 -8.03108010e-01 -2.02943629e-02 -2.97582660e-01\n",
      " -2.00764074e-01 -9.46130896e-01 -2.77342585e-01 -5.16373694e-01\n",
      " -2.05073682e-01 -2.83942288e-01 -8.23581239e-01 -8.12799515e-02\n",
      " -4.22293537e-01 -6.14273890e-01 -7.72293603e-01 -2.16460805e-01\n",
      " -2.92976092e-02 -2.64479626e-01 -3.90136385e-01 -4.96637901e-02\n",
      " -2.88428400e-01 -5.43527352e-01 -6.78346159e-01 -8.11294634e-01\n",
      " -1.26319250e-01 -2.77110780e-01 -2.19210864e-02 -9.24796619e-01\n",
      " -6.85275942e-01 -5.93537458e-01 -3.74576484e-02 -4.09213416e-01\n",
      " -3.19916216e-01 -7.29137631e-01 -7.42511693e-01 -6.57228284e-01\n",
      " -9.16003053e-01 -6.04844069e-02 -5.94838941e-01 -7.99498383e-01\n",
      " -6.56185965e-01 -8.04210962e-01 -7.44160722e-01 -2.42404033e-01\n",
      " -7.61977955e-01 -3.01156569e-01 -4.06634481e-01 -8.54917106e-01\n",
      " -2.36291387e-01 -1.47127505e-01 -4.40125419e-02 -4.10006506e-02\n",
      " -2.93629203e-01 -7.08655461e-01 -9.62088332e-01 -6.09769581e-01\n",
      " -2.66873392e-01 -5.93613870e-02 -8.86459638e-01 -4.57758060e-01\n",
      " -5.25226282e-01 -9.54271696e-01 -3.49322580e-01 -1.27420307e-01\n",
      " -5.38147393e-01 -4.76734277e-01 -8.22210131e-01 -8.78881510e-01\n",
      " -3.86152157e-01 -2.83589875e-01 -7.12496627e-01 -5.00549493e-01\n",
      " -4.19406121e-02 -9.66676457e-01 -7.64186584e-01 -8.96946746e-01\n",
      " -1.78007567e-01 -7.75654541e-03 -8.40270993e-01 -2.48099097e-01\n",
      " -7.12621025e-01 -6.71255349e-01 -7.01519055e-02 -2.87476863e-01\n",
      " -1.87925496e-01 -5.45238562e-01 -6.72737322e-01 -8.61693254e-01\n",
      " -3.74621820e-01 -3.20164926e-01 -6.96025709e-02 -8.74846062e-01\n",
      " -2.62939554e-01 -4.53459984e-01 -5.42669893e-01 -2.47081620e-01\n",
      " -3.92724485e-01 -8.97245556e-01 -5.80843602e-01 -4.32980636e-03\n",
      " -2.32444776e-01 -2.37419622e-01 -7.77938644e-02 -2.70614532e-01\n",
      " -1.52015310e-01 -5.98916586e-01 -5.99855341e-01 -4.29681746e-02\n",
      " -2.42506360e-01 -5.28684547e-01 -5.10403370e-01 -9.83409248e-01\n",
      " -7.70266411e-01 -5.28697812e-01 -7.06201261e-01 -1.81839140e-02\n",
      " -8.84477780e-01 -4.94442003e-01 -9.90087401e-01 -7.27481613e-01\n",
      " -7.75569133e-01 -3.94910675e-01 -1.12781054e-01 -4.33556503e-01\n",
      " -3.55897455e-01 -7.20076618e-01 -6.91133511e-01 -5.00994757e-01\n",
      " -4.31440337e-01 -4.53671079e-01 -7.39953653e-01 -8.54026610e-01\n",
      " -6.31627636e-01 -2.15880518e-01 -4.03866980e-01 -8.18126960e-01\n",
      " -7.66782260e-01 -9.58077726e-02 -6.03812153e-01 -1.46299105e-01\n",
      " -2.25289025e-02 -6.42132701e-01 -9.87082317e-01 -2.72211249e-01\n",
      " -5.14561865e-01 -1.12578184e-01 -8.30770910e-01 -7.56752450e-01\n",
      " -5.28358264e-01 -8.64224210e-01 -6.39666002e-01 -9.84436275e-01\n",
      " -1.98219569e-01 -8.99295918e-01 -4.04142056e-01 -7.37768687e-01\n",
      " -9.69985029e-01 -8.90304847e-01 -3.00784832e-01 -1.08937686e-01\n",
      " -9.45322251e-01 -7.18563356e-01 -6.01568294e-01 -2.13173785e-02\n",
      " -5.57332052e-01 -1.75139123e-01 -7.18880124e-01 -5.31830292e-01\n",
      " -1.74138360e-01 -2.31307910e-01 -7.61433974e-01 -7.47282512e-01\n",
      " -4.51527015e-01 -6.19849952e-02 -8.80072062e-01 -2.27938012e-01\n",
      " -2.62399455e-01 -1.49224353e-01 -1.10799632e-01 -1.16574543e-01\n",
      " -9.90841014e-02 -1.92951598e-02 -6.67570459e-01 -7.09886713e-02\n",
      " -5.24396885e-02 -3.51817721e-01 -3.35409256e-01 -6.41441445e-01\n",
      " -2.54696074e-01 -3.97439054e-01 -2.13681023e-01 -8.46486394e-01\n",
      " -1.85407342e-01 -2.76618381e-01 -4.54054694e-01 -7.40283486e-01\n",
      " -9.02325795e-01 -5.15166683e-01 -8.55378441e-01 -2.38226833e-01\n",
      " -7.54410668e-02 -1.79678696e-01 -6.69541091e-01 -8.53995651e-01\n",
      " -9.92086747e-01 -3.36341868e-01 -8.12387921e-01 -2.83445676e-01\n",
      " -4.24567186e-01 -5.29982517e-01 -2.32460758e-01 -1.89337771e-02\n",
      " -8.71405855e-01 -4.49481312e-01 -6.86777115e-01 -9.72044620e-01\n",
      " -9.70653733e-01 -4.22377995e-01 -9.17084557e-01 -9.56071738e-01\n",
      " -8.27121466e-01 -5.40135320e-01 -4.99232341e-01 -8.47334803e-02\n",
      " -5.80330816e-01 -8.92221186e-01 -7.69084076e-01 -5.45913138e-02\n",
      " -4.04847962e-01 -6.44657384e-01 -1.07288482e-01 -6.99425794e-01\n",
      " -1.18905300e-01 -8.78866267e-01 -6.17706428e-02 -6.23136426e-02\n",
      " -6.54730151e-01 -9.82451240e-01 -6.46958566e-01 -8.19188985e-01\n",
      " -7.33932899e-01 -3.74317123e-01 -5.56901814e-01 -2.63687308e-01\n",
      " -3.62962962e-01 -6.99442794e-01 -6.76123461e-01 -2.01853593e-01\n",
      " -4.67836952e-01 -8.72619407e-01 -4.13276883e-01 -8.62021061e-01\n",
      " -1.31291835e-01 -8.70729805e-01 -3.30591880e-01 -1.03189628e-01\n",
      " -9.01876475e-01 -4.69767820e-01 -4.19091263e-02 -7.22057221e-01\n",
      " -7.18932060e-01 -5.29947600e-01 -5.22967063e-02 -1.98986308e-01\n",
      " -7.28814367e-01 -7.68414644e-01 -8.01383250e-01 -5.70274500e-01\n",
      " -1.92094322e-01 -8.47697794e-01 -3.82940321e-01 -5.27709614e-01\n",
      " -3.53679190e-01 -5.96514802e-01 -2.40177789e-01 -6.78992473e-01\n",
      " -2.77832607e-01 -4.03416197e-02 -4.20758249e-01 -3.65439332e-01\n",
      " -4.75198800e-01 -5.14049623e-01 -8.31453180e-01 -3.12451042e-01\n",
      " -3.93828136e-01 -4.47114240e-01 -6.93573021e-01 -6.05508592e-01\n",
      " -5.66806144e-01 -3.42514904e-01 -2.74106373e-01 -6.87046543e-01\n",
      " -3.85263503e-01 -6.29625731e-01 -5.14788327e-01 -9.18082500e-01\n",
      " -4.21322376e-01 -1.03557881e-01 -4.65946535e-02 -6.65364869e-01\n",
      " -8.29873899e-01 -2.33594041e-02 -2.03294998e-01 -7.06823548e-01\n",
      " -9.95509956e-01 -7.35795736e-01 -4.50547331e-02 -5.25733207e-01\n",
      " -7.05685986e-01 -6.57607284e-01 -7.70803165e-01 -4.34695594e-01\n",
      " -7.82832936e-01 -3.04108447e-01 -5.27236887e-01 -8.40990193e-01\n",
      " -1.15936584e-02 -6.02270237e-01 -6.10560332e-01 -5.57146551e-01\n",
      " -7.82428902e-01 -3.71726915e-02 -5.75500945e-01 -4.13836606e-01\n",
      " -6.60779182e-01 -5.19442306e-01 -9.59095782e-02 -8.32386484e-01\n",
      " -2.06598413e-01 -5.37863594e-01 -7.43058815e-01 -3.13530240e-01\n",
      " -7.55667425e-01 -8.46625552e-01 -6.69843852e-01 -7.07117070e-01\n",
      " -2.69630236e-01 -2.33995258e-01 -8.94168177e-01 -2.32119845e-01\n",
      " -7.43431604e-01 -7.73443791e-01 -2.94247636e-01 -1.26247691e-01\n",
      " -3.92758451e-01 -6.08694949e-02 -3.34573569e-01 -1.45354533e-01\n",
      " -4.79377810e-01 -1.14279378e-01 -8.84852052e-01 -6.13598959e-01\n",
      " -7.10589531e-01 -8.50764153e-01 -8.50586080e-01 -5.57135705e-01\n",
      " -5.57564467e-01 -8.92882537e-02 -5.89097077e-02 -9.80923403e-01\n",
      " -7.40865275e-01 -9.91553861e-01 -1.18587375e-01 -4.67889802e-01\n",
      " -8.38865439e-01 -1.69526898e-01 -9.28258674e-01 -1.46375176e-01\n",
      " -9.83841184e-01 -5.45109647e-01 -6.46033176e-01 -3.51001337e-01\n",
      " -4.49783983e-01 -6.46193769e-01 -1.39413501e-02 -5.70656204e-01\n",
      " -5.15304040e-01 -3.71189541e-01 -9.00839348e-01 -1.18579536e-01\n",
      " -4.33997380e-01 -3.24310787e-01 -7.73603484e-02 -3.57658994e-01\n",
      " -9.28265485e-01 -9.16421463e-01 -4.31768734e-01 -8.83334783e-01\n",
      " -9.57115518e-01 -6.16338013e-01 -2.18875783e-02 -4.50289751e-01\n",
      " -1.15188106e-01 -5.47144420e-01 -6.93445429e-02 -9.70085455e-01\n",
      " -2.80549889e-01 -4.46421116e-02 -5.30433268e-01 -7.46144953e-01\n",
      " -3.48495778e-01 -6.18025917e-01 -6.61457730e-01 -6.42612132e-01\n",
      " -5.88330579e-01 -5.49104801e-01 -8.33295333e-01 -3.23726241e-01\n",
      " -1.59801909e-01 -2.65707922e-01 -5.80414731e-01 -8.33863625e-01\n",
      " -2.88180788e-01 -9.47340787e-01 -4.98053627e-01 -5.02039654e-02\n",
      " -6.48504444e-01 -2.66326015e-01 -6.52934195e-02 -8.83829246e-01\n",
      " -3.90849183e-01 -4.36851129e-01 -5.06417190e-01 -4.88946100e-01\n",
      " -6.01212390e-01 -8.64307152e-01 -7.89879172e-01 -9.43628463e-01\n",
      " -1.68895738e-01 -9.84794689e-01 -7.72814420e-01 -1.57539788e-01\n",
      " -8.39766304e-02 -6.76521922e-01 -3.17244649e-01 -9.73506738e-01\n",
      " -6.13286098e-02 -7.88243602e-01 -8.49908659e-01 -9.08263854e-01\n",
      " -3.31119126e-01 -6.67762684e-01 -4.73106327e-01 -1.72567175e-02\n",
      " -8.74916233e-01 -4.30733759e-01 -7.08618796e-01 -4.39379605e-01\n",
      " -1.30282792e-01 -3.26600614e-01 -5.90292994e-02 -2.56687701e-01\n",
      " -4.89712982e-01 -8.61272975e-01 -8.96239652e-01 -6.80384954e-01\n",
      " -6.44314441e-01 -1.79274860e-01 -4.96402254e-01 -4.79175728e-01\n",
      " -2.82039134e-03 -3.66044108e-01 -4.16858093e-01 -1.71733063e-01\n",
      " -8.47947435e-01 -1.39170206e-01 -7.34291460e-01 -7.08305107e-01\n",
      " -3.22849108e-01 -8.78838543e-01 -8.20567037e-01 -2.98921303e-02\n",
      " -3.73173313e-01 -7.46028102e-01 -1.00253262e-01 -6.50442224e-01\n",
      " -8.45276681e-01 -1.96779660e-02 -8.84150673e-01 -4.27004243e-01\n",
      " -2.49925389e-01 -6.86074100e-02 -8.89969000e-01 -4.72194771e-01\n",
      " -8.67482668e-01 -2.27952650e-01 -7.95707606e-01 -7.73294737e-01\n",
      " -1.55595556e-03 -1.54809564e-01 -3.49462023e-01 -3.59482183e-01\n",
      " -4.01933898e-01 -4.78942362e-02 -1.41250089e-01 -3.89278053e-01\n",
      " -8.63371036e-01 -6.31239153e-01 -3.84456895e-02 -8.78461767e-01\n",
      " -9.00836549e-01 -9.69037566e-01 -3.77515126e-01 -6.84809355e-01\n",
      " -9.72736135e-02 -2.88452555e-02 -7.35343924e-01 -1.33546907e-01\n",
      " -6.35320408e-01 -7.46392621e-01 -4.03112196e-01 -8.73293791e-02\n",
      " -8.64889903e-01 -7.49258173e-01 -9.62955413e-01 -6.97771928e-01\n",
      " -2.87791686e-01 -8.97265700e-01 -7.00833506e-01 -4.47034675e-01\n",
      " -2.08871393e-01 -1.07947263e-02 -5.73826746e-01 -4.78217934e-01\n",
      " -1.27078461e-01 -5.31420652e-01 -7.86139316e-01 -1.10529716e-01\n",
      " -2.70640277e-01 -6.23057558e-01 -5.12374939e-01 -7.98161867e-01\n",
      " -9.54554358e-01 -6.76709472e-01 -3.65915855e-01 -7.17279757e-01\n",
      " -1.47350429e-02 -8.98681829e-01 -3.54953603e-01 -4.53801033e-01\n",
      " -9.96798601e-01 -1.59615328e-01 -5.92531517e-01 -4.85765821e-01\n",
      " -2.74631545e-01 -2.76626379e-01 -2.02738730e-01 -8.85659002e-01\n",
      " -3.46165272e-02 -1.29813416e-01 -1.14868044e-01 -3.48864146e-01\n",
      " -7.10627243e-01 -2.95945843e-01 -2.26758967e-01 -7.70753813e-01\n",
      " -1.44708655e-01 -5.09381500e-01 -7.67175708e-01 -3.35858008e-02\n",
      " -7.74077861e-02 -2.83462580e-01 -4.59584257e-01 -6.32904302e-01\n",
      " -1.17728578e-01 -2.26521497e-01 -2.32764850e-01 -4.93161250e-01\n",
      " -9.59049054e-01 -4.41799054e-01 -1.52058122e-01 -4.92744878e-01\n",
      " -2.58093278e-01 -5.27241258e-01 -4.40285428e-01 -9.53860462e-01\n",
      " -6.89619899e-01 -1.01814186e-01 -6.91248549e-01 -5.46438320e-01\n",
      " -4.30322942e-01 -2.34536805e-01 -7.51868295e-01 -9.27322121e-01\n",
      " -1.40260345e-01 -2.85813706e-01 -2.28618943e-01 -8.29180507e-01\n",
      " -5.27556004e-01 -5.44042160e-01 -4.96627090e-01 -8.17071947e-02\n",
      " -8.31222274e-03 -9.68354239e-01 -8.15666367e-01 -1.59442809e-01\n",
      " -9.12428224e-01 -2.44878162e-02 -2.95587787e-01 -9.88607944e-01\n",
      " -3.01998835e-01 -6.91380041e-01 -4.98548826e-01 -8.60292486e-01\n",
      " -3.96487956e-01 -7.86594676e-01 -7.17174647e-01 -3.03942041e-01\n",
      " -8.01189946e-01 -7.11210063e-01 -9.13114329e-01 -3.99608293e-01\n",
      " -7.60107970e-01 -1.18451161e-01 -4.08632678e-01 -7.78243759e-01\n",
      " -9.92712803e-01 -8.83258096e-01 -7.69469421e-01 -4.47487947e-01\n",
      " -8.06951466e-01 -3.17296972e-01 -9.11222697e-01 -6.00268142e-01\n",
      " -7.63412155e-01 -1.97138922e-01 -8.72047104e-01 -8.79399509e-01\n",
      " -2.18479345e-01 -6.48213520e-01 -2.12759140e-01 -3.35306233e-01\n",
      " -9.11789507e-01 -2.89508349e-02 -6.95327996e-02 -1.98152574e-01\n",
      " -1.61626433e-01 -3.79480016e-01 -7.99436947e-02 -5.84212487e-01\n",
      " -1.06575846e-01 -5.41725700e-01 -2.18218961e-01 -5.24400304e-01\n",
      " -3.02783512e-01 -5.67361540e-01 -6.18802563e-01 -3.47970818e-01\n",
      " -2.18223151e-01 -9.18545005e-01 -7.35909953e-01 -4.11355143e-01\n",
      " -7.06112573e-01 -4.18982602e-01 -6.60586257e-03 -1.14897631e-01\n",
      " -4.22328481e-01 -9.31699458e-01 -1.77138245e-01 -4.83673530e-02\n",
      " -8.72215964e-01 -3.81009855e-01 -8.51751879e-01 -8.88679795e-01\n",
      " -6.33050534e-01 -7.47042885e-01 -2.64014486e-01 -7.73801667e-01\n",
      " -1.53687327e-01 -7.59445105e-01 -3.40582166e-01 -8.25242497e-01\n",
      " -4.18143384e-01 -4.96197899e-01 -4.28619423e-01 -6.15061360e-01\n",
      " -6.96942745e-02 -6.89492206e-01 -9.18735731e-02 -2.52900410e-01\n",
      " -6.33610962e-01 -5.41402721e-01 -1.27202849e-01 -8.19529458e-01\n",
      " -8.45731997e-01 -4.32621397e-01 -1.83230836e-02 -5.00125928e-01\n",
      " -3.84794287e-01 -3.74185363e-01 -3.10025923e-01 -3.26197429e-01\n",
      " -1.24718074e-01 -5.67003823e-01 -5.29965979e-02 -2.21769745e-01\n",
      " -7.25775735e-01 -7.10658078e-01 -6.01422356e-01 -2.91527352e-02\n",
      " -9.76589767e-01 -9.19705645e-01 -5.65063763e-01 -4.03316694e-01\n",
      " -5.98594022e-02 -2.05568916e-01 -9.61826197e-01 -9.02861477e-01\n",
      " -8.45636553e-01 -2.03399391e-01 -6.69235011e-01 -2.01066302e-01\n",
      " -9.95296744e-01 -4.39295186e-01 -3.70560303e-01 -4.83517838e-01\n",
      " -1.78513546e-01 -6.24123053e-01 -3.92063197e-01 -8.84922594e-01\n",
      " -2.33499232e-01 -8.73266324e-01 -2.43178990e-01 -6.82833443e-01\n",
      " -9.85354109e-01 -5.50968791e-01 -2.84408461e-01 -9.88142637e-02\n",
      " -2.37460377e-01 -4.50668003e-01 -6.43129892e-01 -4.41694636e-01\n",
      " -1.14977745e-01 -1.37620882e-01 -9.90312373e-01 -3.26475047e-01\n",
      " -8.46868273e-01 -1.96237070e-01 -1.54987143e-01 -1.36492337e-01\n",
      " -7.09406552e-01 -3.50489269e-01 -9.03504805e-01 -2.55719509e-02\n",
      " -5.90578669e-01 -4.54983934e-01 -4.96136711e-01 -3.64032030e-01\n",
      " -9.21841881e-01 -9.10071160e-01 -9.22250918e-01 -8.15934303e-01\n",
      " -5.97292786e-01 -6.03233237e-01 -6.88624573e-01 -2.31763757e-01\n",
      " -1.55518699e-01 -9.06701036e-01 -8.71255863e-01 -9.81714753e-01\n",
      " -8.63961749e-01 -6.36297275e-01 -3.90008474e-01 -5.20415160e-01\n",
      " -2.76023078e-02 -9.89672080e-01 -3.22224862e-01 -8.21914829e-01\n",
      " -5.72124289e-01 -2.70209842e-01 -9.42281019e-01 -9.17496535e-01\n",
      " -2.35644862e-01 -5.93425265e-01 -1.15296273e-01 -5.35889137e-01\n",
      " -3.12760262e-01 -2.69351728e-01 -4.97593758e-01 -1.26119005e-01\n",
      " -3.90964198e-01 -8.35955409e-01 -5.38431571e-01 -9.48307929e-01\n",
      " -6.03073641e-03 -9.42792441e-01 -7.24338781e-01 -3.25833720e-01]\n"
     ]
    }
   ],
   "source": [
    "s = np.random.uniform(-1,0,1000)\n",
    "print(s)"
   ]
  },
  {
   "cell_type": "code",
   "execution_count": 281,
   "metadata": {},
   "outputs": [
    {
     "data": {
      "image/png": "[encoded data removed]",
      "text/plain": [
       "<Figure size 432x288 with 1 Axes>"
      ]
     },
     "metadata": {},
     "output_type": "display_data"
    }
   ],
   "source": [
    "count, bins, ignored = plt.hist(s, 10, density=True)\n",
    "plt.plot(bins, np.ones_like(bins), linewidth=2, color='r')\n",
    "plt.show()"
   ]
  },
  {
   "cell_type": "code",
   "execution_count": 284,
   "metadata": {},
   "outputs": [
    {
     "data": {
      "text/plain": [
       "array([67.48391689, 86.22734027, 64.4573722 , ..., 81.69069191,\n",
       "       95.92935352, 76.198769  ])"
      ]
     },
     "execution_count": 284,
     "metadata": {},
     "output_type": "execute_result"
    }
   ],
   "source": [
    "# np.random.normal(mu, sigma, size)\n",
    "# mu - mean, sigma - sigma -standard deviation, size - number of obsevations\n",
    "normal_array = np.random.normal(79, 15, 10000)\n",
    "normal_array"
   ]
  },
  {
   "cell_type": "code",
   "execution_count": 285,
   "metadata": {},
   "outputs": [
    {
     "data": {
      "image/png": "[encoded data removed]",
      "text/plain": [
       "<Figure size 432x288 with 1 Axes>"
      ]
     },
     "metadata": {},
     "output_type": "display_data"
    }
   ],
   "source": [
    "plt.hist(normal_array,bins=50, color='lightgreen', density=True)\n",
    "plt.show()"
   ]
  },
  {
   "cell_type": "markdown",
   "metadata": {},
   "source": [
    "### Maintaining the same generated data"
   ]
  },
  {
   "cell_type": "markdown",
   "metadata": {},
   "source": [
    "Sometimes we would not like to generate a new set of data instead we would like to keep what we created. To keep the created data we can use the *seed* method."
   ]
  },
  {
   "cell_type": "code",
   "execution_count": 286,
   "metadata": {},
   "outputs": [
    {
     "name": "stdout",
     "output_type": "stream",
     "text": [
      "[5 0 3 3 7 9 3 5 2 4 7 6 8 8 1 6 7 7 8 1 5]\n"
     ]
    }
   ],
   "source": [
    "np.random.seed(0)\n",
    "integers = np.random.randint(0, 10, 21)\n",
    "print(integers)\n"
   ]
  },
  {
   "cell_type": "code",
   "execution_count": 287,
   "metadata": {},
   "outputs": [
    {
     "name": "stdout",
     "output_type": "stream",
     "text": [
      "[-0.94154201  1.94603199 -2.55629824  2.87474136 -0.15540913  2.17926033\n",
      "  0.19308534  2.83733422  2.33654627  1.89437189  2.17097407  4.7644489\n",
      " -0.81204747  0.53289068 -2.71142745 -0.22820506 -1.68846173  1.41128162\n",
      " -0.79757235 -1.65439307 -0.8314894  -1.04902439  1.62620254 -0.45850126\n",
      "  4.32343475 -1.91386286  0.13462166  0.41299767 -0.91376265 -2.11995153]\n"
     ]
    }
   ],
   "source": [
    "data = np.random.normal(0, 2, 30)\n",
    "print(data)"
   ]
  },
  {
   "cell_type": "code",
   "execution_count": 288,
   "metadata": {},
   "outputs": [
    {
     "data": {
      "text/plain": [
       "array([2, 2, 6, 1, 3, 9, 6, 1, 0, 1, 9, 0, 0, 9, 3, 4, 0, 0, 4, 1, 7])"
      ]
     },
     "execution_count": 288,
     "metadata": {},
     "output_type": "execute_result"
    }
   ],
   "source": [
    "generator = np.random.RandomState(seed=123)  # RandomState is a class, so we give the seed to its constructor\n",
    "generator.randint(0, 10, 21)"
   ]
  },
  {
   "cell_type": "markdown",
   "metadata": {},
   "source": [
    "## Matrix in NumPy"
   ]
  },
  {
   "cell_type": "code",
   "execution_count": 289,
   "metadata": {},
   "outputs": [],
   "source": [
    "four_by_four_matrix = np.matrix(np.ones((4,4), dtype=float))"
   ]
  },
  {
   "cell_type": "code",
   "execution_count": 290,
   "metadata": {},
   "outputs": [
    {
     "data": {
      "text/plain": [
       "matrix([[1., 1., 1., 1.],\n",
       "        [1., 1., 1., 1.],\n",
       "        [1., 1., 1., 1.],\n",
       "        [1., 1., 1., 1.]])"
      ]
     },
     "execution_count": 290,
     "metadata": {},
     "output_type": "execute_result"
    }
   ],
   "source": [
    "four_by_four_matrix"
   ]
  },
  {
   "cell_type": "code",
   "execution_count": 291,
   "metadata": {},
   "outputs": [
    {
     "data": {
      "text/plain": [
       "matrix([[1., 1., 1., 1.],\n",
       "        [1., 1., 1., 1.],\n",
       "        [2., 2., 2., 2.],\n",
       "        [1., 1., 1., 1.]])"
      ]
     },
     "execution_count": 291,
     "metadata": {},
     "output_type": "execute_result"
    }
   ],
   "source": [
    "np.asarray(four_by_four_matrix)[2] = 2\n",
    "four_by_four_matrix"
   ]
  },
  {
   "cell_type": "code",
   "execution_count": 297,
   "metadata": {},
   "outputs": [
    {
     "name": "stdout",
     "output_type": "stream",
     "text": [
      "[[2. 2. 2. 2.]\n",
      " [2. 2. 2. 2.]\n",
      " [4. 4. 4. 4.]\n",
      " [2. 2. 2. 2.]]\n",
      "[[4. 4. 4. 4.]\n",
      " [4. 4. 4. 4.]\n",
      " [8. 8. 8. 8.]\n",
      " [4. 4. 4. 4.]]\n"
     ]
    }
   ],
   "source": [
    "A = four_by_four_matrix * 2\n",
    "B = four_by_four_matrix * 4\n",
    "print(A)\n",
    "print(B)"
   ]
  },
  {
   "cell_type": "code",
   "execution_count": 299,
   "metadata": {},
   "outputs": [
    {
     "name": "stdout",
     "output_type": "stream",
     "text": [
      "[[ 6.  6.  6.  6.]\n",
      " [ 6.  6.  6.  6.]\n",
      " [12. 12. 12. 12.]\n",
      " [ 6.  6.  6.  6.]]\n"
     ]
    }
   ],
   "source": [
    "A_plus_B = A + B\n",
    "print(A_plus_B)"
   ]
  },
  {
   "cell_type": "code",
   "execution_count": 301,
   "metadata": {},
   "outputs": [
    {
     "name": "stdout",
     "output_type": "stream",
     "text": [
      "[[-2. -2. -2. -2.]\n",
      " [-2. -2. -2. -2.]\n",
      " [-4. -4. -4. -4.]\n",
      " [-2. -2. -2. -2.]]\n"
     ]
    }
   ],
   "source": [
    "A_minus_B = A - B\n",
    "print(A_minus_B)"
   ]
  },
  {
   "cell_type": "code",
   "execution_count": 302,
   "metadata": {},
   "outputs": [
    {
     "name": "stdout",
     "output_type": "stream",
     "text": [
      "[[-2. -2. -2. -2.]\n",
      " [-2. -2. -2. -2.]\n",
      " [-4. -4. -4. -4.]\n",
      " [-2. -2. -2. -2.]]\n"
     ]
    }
   ],
   "source": [
    "A_times_B = A - B\n",
    "print(A_times_B)"
   ]
  },
  {
   "cell_type": "code",
   "execution_count": 304,
   "metadata": {},
   "outputs": [
    {
     "data": {
      "text/plain": [
       "matrix([[-2., -2., -4., -2.],\n",
       "        [-2., -2., -4., -2.],\n",
       "        [-2., -2., -4., -2.],\n",
       "        [-2., -2., -4., -2.]])"
      ]
     },
     "execution_count": 304,
     "metadata": {},
     "output_type": "execute_result"
    }
   ],
   "source": [
    "np.transpose(A_times_B)"
   ]
  },
  {
   "cell_type": "markdown",
   "metadata": {},
   "source": [
    "### Numpy numpy.arange()\n",
    "\n",
    "#### What is arrange?\n",
    "Sometimes, you want to create values that are evenly spaced within a defined interval. For instance, you want to create values from 1 to 10; you can use numpy.arange() function"
   ]
  },
  {
   "cell_type": "code",
   "execution_count": 306,
   "metadata": {},
   "outputs": [
    {
     "data": {
      "text/plain": [
       "range(0, 11, 2)"
      ]
     },
     "execution_count": 306,
     "metadata": {},
     "output_type": "execute_result"
    }
   ],
   "source": [
    "# creating list using range(starting, stop, step)\n",
    "lst = range(0, 11, 2)\n",
    "lst"
   ]
  },
  {
   "cell_type": "code",
   "execution_count": 307,
   "metadata": {},
   "outputs": [
    {
     "name": "stdout",
     "output_type": "stream",
     "text": [
      "0\n",
      "2\n",
      "4\n",
      "6\n",
      "8\n",
      "10\n"
     ]
    }
   ],
   "source": [
    "for l in lst:\n",
    "    print(l)"
   ]
  },
  {
   "cell_type": "code",
   "execution_count": 308,
   "metadata": {},
   "outputs": [
    {
     "data": {
      "text/plain": [
       "array([ 0,  1,  2,  3,  4,  5,  6,  7,  8,  9, 10, 11, 12, 13, 14, 15, 16,\n",
       "       17, 18, 19])"
      ]
     },
     "execution_count": 308,
     "metadata": {},
     "output_type": "execute_result"
    }
   ],
   "source": [
    "# Similar to range arange numpy.arange(start, stop, step)\n",
    "whole_numbers = np.arange(0, 20, 1)\n",
    "whole_numbers"
   ]
  },
  {
   "cell_type": "code",
   "execution_count": 309,
   "metadata": {},
   "outputs": [
    {
     "data": {
      "text/plain": [
       "array([ 1,  2,  3,  4,  5,  6,  7,  8,  9, 10, 11, 12, 13, 14, 15, 16, 17,\n",
       "       18, 19])"
      ]
     },
     "execution_count": 309,
     "metadata": {},
     "output_type": "execute_result"
    }
   ],
   "source": [
    "natural_numbers = np.arange(1, 20, 1)\n",
    "natural_numbers"
   ]
  },
  {
   "cell_type": "code",
   "execution_count": 310,
   "metadata": {},
   "outputs": [
    {
     "data": {
      "text/plain": [
       "array([ 1,  3,  5,  7,  9, 11, 13, 15, 17, 19])"
      ]
     },
     "execution_count": 310,
     "metadata": {},
     "output_type": "execute_result"
    }
   ],
   "source": [
    "odd_numbers = np.arange(1, 20, 2)\n",
    "odd_numbers"
   ]
  },
  {
   "cell_type": "code",
   "execution_count": 311,
   "metadata": {},
   "outputs": [
    {
     "data": {
      "text/plain": [
       "array([ 2,  4,  6,  8, 10, 12, 14, 16, 18])"
      ]
     },
     "execution_count": 311,
     "metadata": {},
     "output_type": "execute_result"
    }
   ],
   "source": [
    "even_numbers = np.arange(2, 20, 2)\n",
    "even_numbers"
   ]
  },
  {
   "cell_type": "markdown",
   "metadata": {},
   "source": [
    "### Creating sequence of numbers using linspace"
   ]
  },
  {
   "cell_type": "code",
   "execution_count": 312,
   "metadata": {},
   "outputs": [
    {
     "data": {
      "text/plain": [
       "array([1.        , 1.44444444, 1.88888889, 2.33333333, 2.77777778,\n",
       "       3.22222222, 3.66666667, 4.11111111, 4.55555556, 5.        ])"
      ]
     },
     "execution_count": 312,
     "metadata": {},
     "output_type": "execute_result"
    }
   ],
   "source": [
    "# numpy.linspace(start, end, size, endpoint) the end is included by default\n",
    "# numpy.logspace() in Python with Example\n",
    "# For instance, it can be used to create 10 values from 1 to 5 evenly spaced.\n",
    "np.linspace(1.0, 5.0, num=10)"
   ]
  },
  {
   "cell_type": "code",
   "execution_count": 321,
   "metadata": {},
   "outputs": [
    {
     "data": {
      "text/plain": [
       "array([1. , 1.8, 2.6, 3.4, 4.2])"
      ]
     },
     "execution_count": 321,
     "metadata": {},
     "output_type": "execute_result"
    }
   ],
   "source": [
    "# not to include the last value in the interval\n",
    "np.linspace(1.0, 5.0, num=5, endpoint=False)"
   ]
  },
  {
   "cell_type": "code",
   "execution_count": 326,
   "metadata": {},
   "outputs": [
    {
     "data": {
      "image/png": "[encoded data removed]",
      "text/plain": [
       "<Figure size 432x288 with 1 Axes>"
      ]
     },
     "metadata": {},
     "output_type": "display_data"
    }
   ],
   "source": [
    "x = np.linspace(-10, 10, num=50)\n",
    "y = 2 * x  + 2\n",
    "plt.scatter(x, y)\n",
    "plt.show()"
   ]
  },
  {
   "cell_type": "code",
   "execution_count": 330,
   "metadata": {},
   "outputs": [
    {
     "data": {
      "image/png": "[encoded data removed]",
      "text/plain": [
       "<Figure size 432x288 with 1 Axes>"
      ]
     },
     "metadata": {},
     "output_type": "display_data"
    }
   ],
   "source": [
    "x = np.linspace(-10, 10, num=50)\n",
    "y = x ** 2\n",
    "plt.scatter(x, y)\n",
    "plt.show()"
   ]
  },
  {
   "cell_type": "code",
   "execution_count": 333,
   "metadata": {},
   "outputs": [
    {
     "data": {
      "image/png": "[encoded data removed]",
      "text/plain": [
       "<Figure size 432x288 with 1 Axes>"
      ]
     },
     "metadata": {},
     "output_type": "display_data"
    }
   ],
   "source": [
    "x = np.linspace(-10, 10, num=50)\n",
    "y = x ** 2 - 25\n",
    "plt.scatter(x, y)\n",
    "plt.show()"
   ]
  },
  {
   "cell_type": "code",
   "execution_count": 334,
   "metadata": {},
   "outputs": [
    {
     "data": {
      "image/png": "[encoded data removed]",
      "text/plain": [
       "<Figure size 432x288 with 1 Axes>"
      ]
     },
     "metadata": {},
     "output_type": "display_data"
    }
   ],
   "source": [
    "x = np.linspace(-10, 10, num=50)\n",
    "y = -x ** 2 + 25\n",
    "plt.scatter(x, y)\n",
    "plt.show()"
   ]
  },
  {
   "cell_type": "code",
   "execution_count": null,
   "metadata": {},
   "outputs": [],
   "source": []
  },
  {
   "cell_type": "code",
   "execution_count": 336,
   "metadata": {},
   "outputs": [],
   "source": [
    "# LogSpace\n",
    "# LogSpace returns even spaced numbers on a log scale. Logspace has the same parameters as np.linspace.\n"
   ]
  },
  {
   "cell_type": "code",
   "execution_count": 337,
   "metadata": {},
   "outputs": [
    {
     "data": {
      "text/plain": [
       "array([  100.        ,   464.15888336,  2154.43469003, 10000.        ])"
      ]
     },
     "execution_count": 337,
     "metadata": {},
     "output_type": "execute_result"
    }
   ],
   "source": [
    "# Syntax:\n",
    "\n",
    "# numpy.logspace(start, stop, num, endpoint)\n",
    "\n",
    "np.logspace(2, 4.0, num=4)"
   ]
  },
  {
   "cell_type": "code",
   "execution_count": 340,
   "metadata": {},
   "outputs": [],
   "source": [
    "# to check the size of an array\n",
    "x = np.array([1,2,3], dtype=np.complex128)"
   ]
  },
  {
   "cell_type": "code",
   "execution_count": 341,
   "metadata": {},
   "outputs": [
    {
     "data": {
      "text/plain": [
       "array([1.+0.j, 2.+0.j, 3.+0.j])"
      ]
     },
     "execution_count": 341,
     "metadata": {},
     "output_type": "execute_result"
    }
   ],
   "source": [
    "x"
   ]
  },
  {
   "cell_type": "code",
   "execution_count": 342,
   "metadata": {},
   "outputs": [
    {
     "data": {
      "text/plain": [
       "16"
      ]
     },
     "execution_count": 342,
     "metadata": {},
     "output_type": "execute_result"
    }
   ],
   "source": [
    "x.itemsize"
   ]
  },
  {
   "cell_type": "markdown",
   "metadata": {},
   "source": [
    "## NumPy Statistical Functions with Example\n",
    "NumPy has quite useful statistical functions for finding minimum, maximum, mean, median, percentile,standard deviation and variance, etc from the given elements in the array. The functions are explained as follows − Statistical function Numpy is equipped with the robust statistical function as listed below\n",
    "\n",
    "Numpy Functions\n",
    "- Min np.min()\n",
    "- Max np.max()\n",
    "- Mean np.mean()\n",
    "- Median np.median()\n",
    "- Varience\n",
    "- Percentile\n",
    "- Standard deviation np.std()\n",
    "\n",
    "## Using Numpy to calculate statistical measures\n",
    "It is easy to calcualte the statistical measures such as mean, median, standard deviation, varience etc \n",
    "# A set of age of students in python class\n",
    "\n",
    "data = [19, 20, 22, 33, 45, 60, 25, 24, 40, 20, 15, 22, 24, 26, 26, 28, 27, 24, 35, 40, 40, 24, 38, 40, 28, 23]  \n",
    "np.mean(data)  \n",
    "np.median(data)  \n",
    "np.std(data)  \n",
    "np.var(data)  \n",
    "# numpy do not have mode method \n",
    "stats.mode(data)  "
   ]
  },
  {
   "cell_type": "code",
   "execution_count": 346,
   "metadata": {},
   "outputs": [
    {
     "data": {
      "text/plain": [
       "0.7506861412184562"
      ]
     },
     "execution_count": 346,
     "metadata": {},
     "output_type": "execute_result"
    }
   ],
   "source": [
    "np.random.random()"
   ]
  },
  {
   "cell_type": "code",
   "execution_count": 347,
   "metadata": {},
   "outputs": [
    {
     "data": {
      "text/plain": [
       "array([0.60783067, 0.32504723, 0.03842543])"
      ]
     },
     "execution_count": 347,
     "metadata": {},
     "output_type": "execute_result"
    }
   ],
   "source": [
    "np.random.random(3)"
   ]
  },
  {
   "cell_type": "code",
   "execution_count": 348,
   "metadata": {},
   "outputs": [
    {
     "data": {
      "text/plain": [
       "array([[8, 9, 9, 9],\n",
       "       [8, 9, 9, 9],\n",
       "       [5, 9, 8, 7]])"
      ]
     },
     "execution_count": 348,
     "metadata": {},
     "output_type": "execute_result"
    }
   ],
   "source": [
    "np.random.randint(5, 10, (3, 4)) # does not inlcued the last value [5, 10)"
   ]
  },
  {
   "cell_type": "code",
   "execution_count": 349,
   "metadata": {},
   "outputs": [
    {
     "data": {
      "text/plain": [
       "array([-1.79093312,  0.773805  , -1.02161028, -2.36126437, -0.05636446])"
      ]
     },
     "execution_count": 349,
     "metadata": {},
     "output_type": "execute_result"
    }
   ],
   "source": [
    "np.random.normal(0, 2, 5)"
   ]
  },
  {
   "cell_type": "code",
   "execution_count": 350,
   "metadata": {},
   "outputs": [
    {
     "data": {
      "text/plain": [
       "array([[ 0.85666374,  0.13303444,  0.6049438 , -1.26864419],\n",
       "       [-0.72548233, -1.3449209 , -0.71910632, -1.62629256],\n",
       "       [-3.4525652 ,  0.35485228, -0.80356187, -3.26039669]])"
      ]
     },
     "execution_count": 350,
     "metadata": {},
     "output_type": "execute_result"
    }
   ],
   "source": [
    "np.random.normal(0, 2, (3, 4)) # mean = 0, stdev = 2, 3 x 4 array"
   ]
  },
  {
   "cell_type": "code",
   "execution_count": 351,
   "metadata": {},
   "outputs": [
    {
     "name": "stdout",
     "output_type": "stream",
     "text": [
      "min:  1\n",
      "max:  9\n",
      "mean:  5.0\n",
      "sd:  2.581988897471611\n"
     ]
    }
   ],
   "source": [
    "np_normal_dis = np.random.normal(5, 0.5, 100)\n",
    "np_normal_dis\n",
    "## min, max, mean, median, sd\n",
    "print('min: ', two_dimension_array.min())\n",
    "print('max: ', two_dimension_array.max())\n",
    "print('mean: ',two_dimension_array.mean())\n",
    "# print('median: ', two_dimension_array.median())\n",
    "print('sd: ', two_dimension_array.std())"
   ]
  },
  {
   "cell_type": "code",
   "execution_count": 352,
   "metadata": {},
   "outputs": [
    {
     "name": "stdout",
     "output_type": "stream",
     "text": [
      "[[1 2 3]\n",
      " [4 5 6]\n",
      " [7 8 9]]\n",
      "Column with minimum:  [1 2 3]\n",
      "Column with maximum:  [7 8 9]\n",
      "=== Row ==\n",
      "Row with minimum:  [1 4 7]\n",
      "Row with maximum:  [3 6 9]\n"
     ]
    }
   ],
   "source": [
    "print(two_dimension_array)\n",
    "print('Column with minimum: ', np.amin(two_dimension_array,axis=0))\n",
    "print('Column with maximum: ', np.amax(two_dimension_array,axis=0))\n",
    "print('=== Row ==')\n",
    "print('Row with minimum: ', np.amin(two_dimension_array,axis=1))\n",
    "print('Row with maximum: ', np.amax(two_dimension_array,axis=1))"
   ]
  },
  {
   "cell_type": "markdown",
   "metadata": {},
   "source": [
    "## How to create repeating sequences?"
   ]
  },
  {
   "cell_type": "code",
   "execution_count": 353,
   "metadata": {},
   "outputs": [
    {
     "name": "stdout",
     "output_type": "stream",
     "text": [
      "Tile:    [1 2 3 1 2 3 1 2 3]\n",
      "Repeat:  [1 1 1 2 2 2 3 3 3]\n"
     ]
    }
   ],
   "source": [
    "a = [1,2,3]\n",
    "\n",
    "# Repeat whole of 'a' two times\n",
    "print('Tile:   ', np.tile(a, 3))\n",
    "\n",
    "# Repeat each element of 'a' two times\n",
    "print('Repeat: ', np.repeat(a, 3))"
   ]
  },
  {
   "cell_type": "code",
   "execution_count": 354,
   "metadata": {},
   "outputs": [
    {
     "name": "stdout",
     "output_type": "stream",
     "text": [
      "min:  3.4769284726000365\n",
      "max:  6.58548738664509\n",
      "mean:  4.9757236255377535\n",
      "median:  4.974828091188378\n",
      "mode:  ModeResult(mode=array([3.47692847]), count=array([1]))\n",
      "sd:  0.4859817987330746\n"
     ]
    }
   ],
   "source": [
    "from scipy import stats\n",
    "np_normal_dis = np.random.normal(5, 0.5, 1000) # mean, standard deviation, number of samples\n",
    "np_normal_dis\n",
    "## min, max, mean, median, sd\n",
    "print('min: ', np.min(np_normal_dis))\n",
    "print('max: ', np.max(np_normal_dis))\n",
    "print('mean: ', np.mean(np_normal_dis))\n",
    "print('median: ', np.median(np_normal_dis))\n",
    "print('mode: ', stats.mode(np_normal_dis))\n",
    "print('sd: ', np.std(np_normal_dis))"
   ]
  },
  {
   "cell_type": "code",
   "execution_count": 355,
   "metadata": {},
   "outputs": [
    {
     "data": {
      "image/png": "[encoded data removed]",
      "text/plain": [
       "<Figure size 432x288 with 1 Axes>"
      ]
     },
     "metadata": {},
     "output_type": "display_data"
    }
   ],
   "source": [
    "plt.hist(np_normal_dis, color=\"grey\", bins=30)\n",
    "plt.show()"
   ]
  },
  {
   "cell_type": "code",
   "execution_count": 356,
   "metadata": {},
   "outputs": [
    {
     "name": "stderr",
     "output_type": "stream",
     "text": [
      "C:\\Users\\Asabeneh\\anaconda3\\lib\\site-packages\\seaborn\\distributions.py:2551: FutureWarning: `distplot` is a deprecated function and will be removed in a future version. Please adapt your code to use either `displot` (a figure-level function with similar flexibility) or `histplot` (an axes-level function for histograms).\n",
      "  warnings.warn(msg, FutureWarning)\n"
     ]
    },
    {
     "data": {
      "image/png": "[encoded data removed]",
      "text/plain": [
       "<Figure size 432x288 with 1 Axes>"
      ]
     },
     "metadata": {},
     "output_type": "display_data"
    }
   ],
   "source": [
    "x  = np.random.normal(28, 15, 100000)\n",
    "ax = sns.distplot(x)\n",
    "ax.set(xlabel='x', ylabel='y', title='X vs Y')\n",
    "plt.show()"
   ]
  },
  {
   "cell_type": "markdown",
   "metadata": {},
   "source": [
    "## Linear Algebra"
   ]
  },
  {
   "cell_type": "code",
   "execution_count": 357,
   "metadata": {},
   "outputs": [],
   "source": [
    "# numpy.dot(): Dot Product in Python using Numpy\n",
    "# Dot Product\n",
    "# Numpy is powerful library for matrices computation. For instance, you can compute the dot product with np.dot\n",
    "\n",
    "# Syntax\n",
    "\n",
    "# numpy.dot(x, y, out=None)"
   ]
  },
  {
   "cell_type": "markdown",
   "metadata": {},
   "source": [
    "### Dot Product"
   ]
  },
  {
   "cell_type": "code",
   "execution_count": 358,
   "metadata": {},
   "outputs": [
    {
     "data": {
      "text/plain": [
       "23"
      ]
     },
     "execution_count": 358,
     "metadata": {},
     "output_type": "execute_result"
    }
   ],
   "source": [
    "## Linear algebra\n",
    "### Dot product: product of two arrays\n",
    "f = np.array([1,2,3])\n",
    "g = np.array([4,5,3])\n",
    "### 1*4+2*5 + 3*3\n",
    "np.dot(f, g)  # 23"
   ]
  },
  {
   "cell_type": "markdown",
   "metadata": {},
   "source": [
    "### NumPy Matrix Multiplication with np.matmul()"
   ]
  },
  {
   "cell_type": "code",
   "execution_count": 359,
   "metadata": {},
   "outputs": [
    {
     "data": {
      "text/plain": [
       "array([[19, 22],\n",
       "       [43, 50]])"
      ]
     },
     "execution_count": 359,
     "metadata": {},
     "output_type": "execute_result"
    }
   ],
   "source": [
    "### Matmul: matruc product of two arrays\n",
    "h = [[1,2],[3,4]]\n",
    "i = [[5,6],[7,8]]\n",
    "### 1*5+2*7 = 19\n",
    "np.matmul(h, i)"
   ]
  },
  {
   "cell_type": "code",
   "execution_count": 360,
   "metadata": {},
   "outputs": [],
   "source": [
    "## Determinant 2*2 matrix\n",
    "### 5*8-7*6np.linalg.det(i)"
   ]
  },
  {
   "cell_type": "code",
   "execution_count": 361,
   "metadata": {},
   "outputs": [
    {
     "data": {
      "text/plain": [
       "-1.999999999999999"
      ]
     },
     "execution_count": 361,
     "metadata": {},
     "output_type": "execute_result"
    }
   ],
   "source": [
    "np.linalg.det(i)"
   ]
  },
  {
   "cell_type": "code",
   "execution_count": 362,
   "metadata": {},
   "outputs": [],
   "source": [
    "Z = np.zeros((8,8))\n",
    "Z[1::2,::2] = 1\n",
    "Z[::2,1::2] = 1"
   ]
  },
  {
   "cell_type": "code",
   "execution_count": 363,
   "metadata": {},
   "outputs": [
    {
     "data": {
      "text/plain": [
       "array([[0., 1., 0., 1., 0., 1., 0., 1.],\n",
       "       [1., 0., 1., 0., 1., 0., 1., 0.],\n",
       "       [0., 1., 0., 1., 0., 1., 0., 1.],\n",
       "       [1., 0., 1., 0., 1., 0., 1., 0.],\n",
       "       [0., 1., 0., 1., 0., 1., 0., 1.],\n",
       "       [1., 0., 1., 0., 1., 0., 1., 0.],\n",
       "       [0., 1., 0., 1., 0., 1., 0., 1.],\n",
       "       [1., 0., 1., 0., 1., 0., 1., 0.]])"
      ]
     },
     "execution_count": 363,
     "metadata": {},
     "output_type": "execute_result"
    }
   ],
   "source": [
    "Z"
   ]
  },
  {
   "cell_type": "markdown",
   "metadata": {},
   "source": [
    "## Aggration: max, min, sum, mean, standard deviation"
   ]
  },
  {
   "cell_type": "code",
   "execution_count": null,
   "metadata": {},
   "outputs": [],
   "source": []
  }
 ],
 "metadata": {
  "kernelspec": {
   "display_name": "Python 3",
   "language": "python",
   "name": "python3"
  },
  "language_info": {
   "codemirror_mode": {
    "name": "ipython",
    "version": 3
   },
   "file_extension": ".py",
   "mimetype": "text/x-python",
   "name": "python",
   "nbconvert_exporter": "python",
   "pygments_lexer": "ipython3",
   "version": "3.8.5"
  }
 },
 "nbformat": 4,
 "nbformat_minor": 4
}
