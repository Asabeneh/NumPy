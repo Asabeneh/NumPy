{
 "cells": [
  {
   "cell_type": "markdown",
   "metadata": {},
   "source": [
    "# NumPy\n",
    "\n",
    "Numpy stands for Numerical Python. Numpy(Numerical Python) is the core library for scientific computing in Python. It provides a high-performance multidimensional array object, and tools for working with arrays. It contains the data structures needed for storing and accessing arrays. It has simple operations and functions for computation of arrays. In addition to numeric data types, NumPy can store other data types such as strings, boolean, and etc.\n"
   ]
  },
  {
   "cell_type": "markdown",
   "metadata": {},
   "source": [
    "## NumPy Installation\n",
    "It is possible to install numpy on Jupyter notebook or the command prompt using the following command.\n",
    "\n",
    "```sh\n",
    "pip install numpy\n",
    "```"
   ]
  },
  {
   "cell_type": "markdown",
   "metadata": {},
   "source": [
    "## Importing NumPy\n",
    "Numpy can be imported as follows\n",
    "\n",
    "If we want to use the numpy module without renaming we import it as follows.\n",
    "```py\n",
    "import numpy\n",
    "```\n",
    "It is common to rename the numpy module as np. To rename the name numpy to np we use the keyword *as* and the importing looks like as follows\n",
    "```py\n",
    "import numpy as np\n",
    "```"
   ]
  },
  {
   "cell_type": "code",
   "execution_count": 244,
   "metadata": {},
   "outputs": [],
   "source": [
    "# How ot import numpy\n",
    "import numpy as np"
   ]
  },
  {
   "cell_type": "code",
   "execution_count": 245,
   "metadata": {},
   "outputs": [],
   "source": [
    "# Let us import matplot.lib  and seaborn for data visualization\n",
    "# installation of matplotlib and seaborn is required\n",
    "\n",
    "import matplotlib.pyplot as plt\n",
    "import seaborn as sns\n",
    "sns.set()"
   ]
  },
  {
   "cell_type": "code",
   "execution_count": 246,
   "metadata": {},
   "outputs": [],
   "source": [
    "## import stats for some statistical methods\n",
    "from scipy import stats"
   ]
  },
  {
   "cell_type": "markdown",
   "metadata": {},
   "source": [
    "## NumPy Version\n",
    "Checking of the numPy version"
   ]
  },
  {
   "cell_type": "code",
   "execution_count": 247,
   "metadata": {},
   "outputs": [
    {
     "name": "stdout",
     "output_type": "stream",
     "text": [
      "NumPy: 1.19.2\n"
     ]
    }
   ],
   "source": [
    "# How check the version of numpy package\n",
    "print('NumPy:', np.__version__)\n"
   ]
  },
  {
   "cell_type": "markdown",
   "metadata": {},
   "source": [
    "## Creating of NumPy Arrays\n",
    "We can change Python list and tuple to NumPy array.\n",
    "Example of list and tuple:\n",
    "```py\n",
    "lst = [1, 2, 3, 4,5] # list\n",
    "tpl = (1, 2, 3, 4, 5) # tuple\n",
    "```"
   ]
  },
  {
   "cell_type": "markdown",
   "metadata": {},
   "source": [
    "### Creating NumPy array from Python lists"
   ]
  },
  {
   "cell_type": "code",
   "execution_count": 248,
   "metadata": {},
   "outputs": [
    {
     "name": "stdout",
     "output_type": "stream",
     "text": [
      "Type :  <class 'list'>\n",
      "[1, 2, 3, 4, 5]\n"
     ]
    }
   ],
   "source": [
    "# creating python list\n",
    "lst = [1, 2, 3, 4, 5]\n",
    "# Checking data types\n",
    "print('Type : ', type(lst))\n",
    "print(lst)"
   ]
  },
  {
   "cell_type": "code",
   "execution_count": 249,
   "metadata": {},
   "outputs": [
    {
     "name": "stdout",
     "output_type": "stream",
     "text": [
      "[[0, 1, 2], [3, 4, 5], [6, 7, 8]]\n",
      "<class 'list'>\n"
     ]
    }
   ],
   "source": [
    "lst_of_lsts = [[0, 1, 2], [3,4,5],[6,7,8]]\n",
    "print(lst_of_lsts)\n",
    "print(type(lst_of_lsts))"
   ]
  },
  {
   "cell_type": "markdown",
   "metadata": {},
   "source": [
    "The numPy array has a *ndarry* data type which refers to n dimensional array. "
   ]
  },
  {
   "cell_type": "code",
   "execution_count": 250,
   "metadata": {},
   "outputs": [
    {
     "name": "stdout",
     "output_type": "stream",
     "text": [
      "Type: <class 'numpy.ndarray'>\n",
      "[1 2 3 4 5]\n"
     ]
    }
   ],
   "source": [
    "arr = np.array(lst)\n",
    "print('Type:', type(arr))\n",
    "print(arr)"
   ]
  },
  {
   "cell_type": "code",
   "execution_count": 251,
   "metadata": {},
   "outputs": [
    {
     "name": "stdout",
     "output_type": "stream",
     "text": [
      "[[0 1 2]\n",
      " [3 4 5]\n",
      " [6 7 8]]\n"
     ]
    }
   ],
   "source": [
    "two_dim_arr = np.array(lst_of_lsts)\n",
    "print(two_dim_arr)"
   ]
  },
  {
   "cell_type": "markdown",
   "metadata": {},
   "source": [
    "### Creating NumPy arrays with different data types\n",
    "It is possible to create a numpy array with different data types with dtype "
   ]
  },
  {
   "cell_type": "markdown",
   "metadata": {},
   "source": [
    "### Creating integer NumPy array"
   ]
  },
  {
   "cell_type": "code",
   "execution_count": 252,
   "metadata": {},
   "outputs": [
    {
     "name": "stdout",
     "output_type": "stream",
     "text": [
      "[1, 2, 3, 4, 5]\n",
      "[1 2 3 4 5]\n",
      "<class 'numpy.ndarray'>\n"
     ]
    }
   ],
   "source": [
    "# Python list\n",
    "lst = [1,2,3,4,5]\n",
    "print(lst)\n",
    "\n",
    "arr_int = np.array(lst, dtype='int')\n",
    "print(arr_int)\n",
    "print(type(arr_int))"
   ]
  },
  {
   "cell_type": "markdown",
   "metadata": {},
   "source": [
    "### Creating floating number NumPy array"
   ]
  },
  {
   "cell_type": "code",
   "execution_count": 253,
   "metadata": {},
   "outputs": [
    {
     "name": "stdout",
     "output_type": "stream",
     "text": [
      "[1, 2, 3, 4, 5]\n",
      "[1. 2. 3. 4. 5.]\n",
      "<class 'numpy.ndarray'>\n"
     ]
    }
   ],
   "source": [
    "# Python list\n",
    "lst = [1,2,3,4,5]\n",
    "print(lst)\n",
    "\n",
    "arr_float = np.array(python_list, dtype='float')\n",
    "print(arr_float)\n",
    "print(type(arr_float))"
   ]
  },
  {
   "cell_type": "markdown",
   "metadata": {},
   "source": [
    "### Creating complex NumPy array\n"
   ]
  },
  {
   "cell_type": "code",
   "execution_count": 254,
   "metadata": {},
   "outputs": [
    {
     "name": "stdout",
     "output_type": "stream",
     "text": [
      "[1, 2, 3, 4, 5]\n",
      "[1.+0.j 2.+0.j 3.+0.j 4.+0.j 5.+0.j]\n",
      "<class 'numpy.ndarray'>\n"
     ]
    }
   ],
   "source": [
    "# Python list\n",
    "lst = [1,2,3,4,5]\n",
    "print(lst)\n",
    "\n",
    "arr_complex = np.array(lst, dtype='complex')\n",
    "print(arr_complex)\n",
    "print(type(arr_complex))"
   ]
  },
  {
   "cell_type": "markdown",
   "metadata": {},
   "source": [
    "### Creating String NumPy array"
   ]
  },
  {
   "cell_type": "code",
   "execution_count": 255,
   "metadata": {},
   "outputs": [
    {
     "name": "stdout",
     "output_type": "stream",
     "text": [
      "[1, 2, 3, 4, 5]\n",
      "['1' '2' '3' '4' '5']\n",
      "<class 'numpy.ndarray'>\n"
     ]
    }
   ],
   "source": [
    "# Python list\n",
    "lst = [1,2,3,4,5]\n",
    "print(lst)\n",
    "arr_str = np.array(lst, dtype='str')\n",
    "print(arr_str)\n",
    "print(type(arr_str))"
   ]
  },
  {
   "cell_type": "code",
   "execution_count": 256,
   "metadata": {},
   "outputs": [
    {
     "name": "stdout",
     "output_type": "stream",
     "text": [
      "['Apple' 'Avocado' 'Banana' 'Mango' 'Orange']\n"
     ]
    }
   ],
   "source": [
    "fruits = ['Apple','Avocado', 'Banana', 'Mango', 'Orange']\n",
    "fruits_arr = np.array(fruits)\n",
    "print(fruits_arr)"
   ]
  },
  {
   "cell_type": "markdown",
   "metadata": {},
   "source": [
    "### Creating Boolean NumPy Arrays\n",
    "Creating a boolean a NumPy array from list"
   ]
  },
  {
   "cell_type": "code",
   "execution_count": 257,
   "metadata": {},
   "outputs": [
    {
     "name": "stdout",
     "output_type": "stream",
     "text": [
      "<class 'numpy.ndarray'>\n",
      "[False  True  True False False]\n"
     ]
    }
   ],
   "source": [
    "arr_bool = np.array([0, 1, -1, 0, 0], dtype=bool)\n",
    "print(type(arr_bool))\n",
    "print(arr_bool)"
   ]
  },
  {
   "cell_type": "markdown",
   "metadata": {},
   "source": [
    "*Summary of creating NumPy array with different data types*"
   ]
  },
  {
   "cell_type": "code",
   "execution_count": 258,
   "metadata": {},
   "outputs": [
    {
     "name": "stdout",
     "output_type": "stream",
     "text": [
      "[1 2 3 4 5]\n",
      "[1. 2. 3. 4. 5.]\n",
      "[ True  True  True False  True  True  True  True]\n",
      "[1.+0.j 2.+0.j 3.+0.j 4.+0.j 5.+0.j]\n",
      "['1' '2' '3' '4' '5.0']\n"
     ]
    }
   ],
   "source": [
    "np_int_arr = np.array([1,2,3,4,5.0], dtype = 'int')\n",
    "np_float_arr = np.array([1,2,3,4,5.0], dtype = 'float')\n",
    "np_bool_arr = np.array([-3, -2, -1, 0,2,3,4,5.0], dtype = 'bool')\n",
    "np_complex_arr = np.array([1, 2,3,4,5.0], dtype = 'complex')\n",
    "np_str_arr = np.array([1,2,3,4,5.0], dtype = 'str')\n",
    "\n",
    "print(np_int_arr)\n",
    "print(np_float_arr)\n",
    "print(np_bool_arr)\n",
    "print(np_complex_arr)\n",
    "print(np_str_arr)"
   ]
  },
  {
   "cell_type": "markdown",
   "metadata": {},
   "source": [
    "Nested list can create multidimensional numPy arrays. It is possible to create a multidimensional array using Python list of lists"
   ]
  },
  {
   "cell_type": "code",
   "execution_count": 259,
   "metadata": {},
   "outputs": [
    {
     "name": "stdout",
     "output_type": "stream",
     "text": [
      "[[0 1 2]\n",
      " [3 4 5]\n",
      " [6 7 8]]\n"
     ]
    }
   ],
   "source": [
    "lst_of_lsts = [[0,1,2], [3,4,5], [6,7,8]]\n",
    "two_dim_arr = np.array(lst_of_lsts)\n",
    "print(two_dim_arr)"
   ]
  },
  {
   "cell_type": "markdown",
   "metadata": {},
   "source": [
    "### NumPy array attributes\n",
    "The numPy array has different attributes that give more information about the array such as *ndim*, *shape*, *size*, *dtype*, *itemsize*\n",
    "- ndim - returns the dimension of the numPy array\n",
    "- shape - returns the number of rows and columns of a numPy array\n",
    "- size - the total number of elements in the numPy array\n",
    "- dtype - returns the data type of the numPy array \n",
    "- itemsize - returns the size in bytes of each elements in the numPy array\n",
    "\n",
    "The NumPy *shape* method provide the shape of the array as a tuple. The first is the row and the second is the column. If the array is just one dimensional it returns the size of the array(n,)."
   ]
  },
  {
   "cell_type": "code",
   "execution_count": 260,
   "metadata": {},
   "outputs": [
    {
     "name": "stdout",
     "output_type": "stream",
     "text": [
      "NumPy array dimension:  1\n",
      "NumPy array shape:  1\n",
      "NumPy array size:  5\n",
      "NumPy array data type:  int32\n",
      "NumPy array item size:  4\n"
     ]
    }
   ],
   "source": [
    "arr = np.array([1, 2, 3, 4,5])\n",
    "print('NumPy array dimension: ', arr.ndim)\n",
    "print('NumPy array shape: ', arr.ndim)\n",
    "print('NumPy array size: ', arr.size)\n",
    "print('NumPy array data type: ', arr.dtype)\n",
    "print('NumPy array item size: ', arr.itemsize)"
   ]
  },
  {
   "cell_type": "markdown",
   "metadata": {},
   "source": [
    "### Creating Multidimensional Array Using NumPy\n",
    "We can create different dimension numPy array."
   ]
  },
  {
   "cell_type": "markdown",
   "metadata": {},
   "source": [
    "#### NumPy array without dimension or zero deminsion"
   ]
  },
  {
   "cell_type": "code",
   "execution_count": 261,
   "metadata": {},
   "outputs": [
    {
     "name": "stdout",
     "output_type": "stream",
     "text": [
      "10\n",
      "The numPy n-d:0,shape:(), size:1, date type:int32, itemsize:4\n"
     ]
    }
   ],
   "source": [
    "ten = np.array(10)\n",
    "print(ten)\n",
    "print(f'The numPy n-d:{ten.ndim},shape:{ten.shape}, size:{ten.size}, date type:{ten.dtype}, itemsize:{ten.itemsize}') "
   ]
  },
  {
   "cell_type": "markdown",
   "metadata": {},
   "source": [
    "We can use simple function that provides information about the numPy array"
   ]
  },
  {
   "cell_type": "code",
   "execution_count": 262,
   "metadata": {},
   "outputs": [],
   "source": [
    "def get_numpy_array_info(arr):\n",
    "    print(f'The numPy n-d:{arr.ndim},shape:{arr.shape}, size:{arr.size}, date type:{arr.dtype}, itemsize:{arr.itemsize}')"
   ]
  },
  {
   "cell_type": "markdown",
   "metadata": {},
   "source": [
    "#### One dimension numPy array\n",
    "A list can create a one dimensional numPy array.\n"
   ]
  },
  {
   "cell_type": "code",
   "execution_count": 263,
   "metadata": {},
   "outputs": [
    {
     "name": "stdout",
     "output_type": "stream",
     "text": [
      "[1, 2, 3, 4, 5]\n",
      "[1 2 3 4 5]\n",
      "The numPy n-d:1,shape:(5,), size:5, date type:int32, itemsize:4\n"
     ]
    }
   ],
   "source": [
    "lst = [1, 2, 3, 4, 5]\n",
    "arr = np.array(lst)\n",
    "print(lst)\n",
    "print(arr)\n",
    "get_numpy_array_info(arr)"
   ]
  },
  {
   "cell_type": "markdown",
   "metadata": {},
   "source": [
    "#### Two dimensional numPy array\n",
    "A list of list can create a 2-d numPy array"
   ]
  },
  {
   "cell_type": "code",
   "execution_count": 271,
   "metadata": {},
   "outputs": [
    {
     "name": "stdout",
     "output_type": "stream",
     "text": [
      "[[1, 2, 3], [4, 5, 6], [7, 8, 9]]\n",
      "[[1 2 3]\n",
      " [4 5 6]\n",
      " [7 8 9]]\n",
      "The numPy n-d:1,shape:(5,), size:5, date type:int32, itemsize:4\n"
     ]
    }
   ],
   "source": [
    "lst = [[1, 2, 3], [4, 5, 6], [7, 8, 9]]\n",
    "two_dim_arr  = np.array(lst)\n",
    "print(lst)\n",
    "print(two_dim_arr)\n",
    "get_numpy_array_info(arr)"
   ]
  },
  {
   "cell_type": "code",
   "execution_count": 272,
   "metadata": {},
   "outputs": [
    {
     "name": "stdout",
     "output_type": "stream",
     "text": [
      "<class 'numpy.ndarray'>\n",
      "[[1 2 3]\n",
      " [4 5 6]\n",
      " [7 8 9]]\n",
      "Dim: 2\n",
      "Shape:  (3, 3)\n",
      "Size: 9\n",
      "Data type: int32\n"
     ]
    }
   ],
   "source": [
    "# 2 Dimension Array\n",
    "two_dim_arr = np.array([(1,2,3),(4,5,6), (7,8,9)])\n",
    "print(type (two_dim_arr))\n",
    "print(two_dim_arr)\n",
    "print('Dim:', two_dim_arr.ndim)\n",
    "print('Shape: ', two_dim_arr.shape)\n",
    "print('Size:', two_dim_arr.size)\n",
    "print('Data type:', two_dim_arr.dtype)"
   ]
  },
  {
   "cell_type": "markdown",
   "metadata": {},
   "source": [
    "## Three dimensional numPy array\n",
    "List of lists of list create a 3-d numPy array"
   ]
  },
  {
   "cell_type": "code",
   "execution_count": 291,
   "metadata": {},
   "outputs": [
    {
     "name": "stdout",
     "output_type": "stream",
     "text": [
      "[[[1, 2, 3], [4, 5, 6], [7, 8, 9]]]\n",
      "[[[1 2 3]\n",
      "  [4 5 6]\n",
      "  [7 8 9]]]\n",
      "The numPy n-d:3,shape:(1, 3, 3), size:9, date type:int32, itemsize:4\n"
     ]
    }
   ],
   "source": [
    "lst = [[[1, 2, 3], [4, 5, 6], [7, 8, 9]]]\n",
    "three_dim_arr = np.array(lst)\n",
    "print(lst)\n",
    "print(three_dim_arr)\n",
    "get_numpy_array_info(two_dim_arr)"
   ]
  },
  {
   "cell_type": "markdown",
   "metadata": {},
   "source": [
    "## Converting NumPy array to list"
   ]
  },
  {
   "cell_type": "code",
   "execution_count": 292,
   "metadata": {},
   "outputs": [
    {
     "name": "stdout",
     "output_type": "stream",
     "text": [
      "[1 2 3 4 5]\n",
      "[[[1, 2, 3], [4, 5, 6], [7, 8, 9]]]\n"
     ]
    }
   ],
   "source": [
    "lst = [1, 2, 3, 4, 5]\n",
    "arr = np.array(lst)\n",
    "print(arr)\n",
    "lst = arr.tolist()\n",
    "lst_of_lsts = two_dim_arr.tolist()\n",
    "print(lst_of_lsts )"
   ]
  },
  {
   "cell_type": "code",
   "execution_count": 308,
   "metadata": {},
   "outputs": [
    {
     "name": "stdout",
     "output_type": "stream",
     "text": [
      "[1, 2, 3, 4, 5]\n",
      "<class 'list'>\n"
     ]
    }
   ],
   "source": [
    "print(lst)\n",
    "print(type(lst))"
   ]
  },
  {
   "cell_type": "markdown",
   "metadata": {},
   "source": [
    "## Creating NumPy Array from Tuples"
   ]
  },
  {
   "cell_type": "code",
   "execution_count": 309,
   "metadata": {},
   "outputs": [
    {
     "name": "stdout",
     "output_type": "stream",
     "text": [
      "<class 'tuple'>\n"
     ]
    }
   ],
   "source": [
    "tpl = (1,2,3,4,5)\n",
    "print(type(tpl))"
   ]
  },
  {
   "cell_type": "code",
   "execution_count": 310,
   "metadata": {},
   "outputs": [
    {
     "name": "stdout",
     "output_type": "stream",
     "text": [
      "<class 'numpy.ndarray'>\n",
      "numpy_array_from_tuple: [1 2 3 4 5]\n"
     ]
    }
   ],
   "source": [
    "arr = np.array(tpl)\n",
    "print(type(arr))\n",
    "print('numpy_array_from_tuple:',arr)"
   ]
  },
  {
   "cell_type": "markdown",
   "metadata": {},
   "source": [
    "\n",
    "\n"
   ]
  },
  {
   "cell_type": "code",
   "execution_count": 311,
   "metadata": {},
   "outputs": [
    {
     "name": "stdout",
     "output_type": "stream",
     "text": [
      "[[[1 2 3]\n",
      "  [4 5 6]\n",
      "  [7 8 9]]]\n"
     ]
    }
   ],
   "source": [
    "print(two_dim_arr)"
   ]
  },
  {
   "cell_type": "code",
   "execution_count": 312,
   "metadata": {},
   "outputs": [
    {
     "name": "stdout",
     "output_type": "stream",
     "text": [
      "She of numpy_two_dimensional_array:  (1, 3, 3)\n"
     ]
    }
   ],
   "source": [
    "print('She of numpy_two_dimensional_array: ', two_dim_arr.shape)"
   ]
  },
  {
   "cell_type": "markdown",
   "metadata": {},
   "source": [
    "## Size of a NumPy array\n",
    "In NumPy to know the number of items in a NumPy array list we use size"
   ]
  },
  {
   "cell_type": "code",
   "execution_count": 313,
   "metadata": {},
   "outputs": [],
   "source": [
    "lst = [1, 2, 3, 4, 5]\n",
    "arr = np.array(lst)"
   ]
  },
  {
   "cell_type": "code",
   "execution_count": 314,
   "metadata": {},
   "outputs": [
    {
     "name": "stdout",
     "output_type": "stream",
     "text": [
      "Size:  5\n"
     ]
    }
   ],
   "source": [
    "print('Size: ', arr.size)"
   ]
  },
  {
   "cell_type": "code",
   "execution_count": 315,
   "metadata": {},
   "outputs": [
    {
     "name": "stdout",
     "output_type": "stream",
     "text": [
      "[[0 1 2]\n",
      " [3 4 5]\n",
      " [6 7 8]]\n"
     ]
    }
   ],
   "source": [
    "print(np_two_dim_arr)"
   ]
  },
  {
   "cell_type": "code",
   "execution_count": 316,
   "metadata": {},
   "outputs": [
    {
     "name": "stdout",
     "output_type": "stream",
     "text": [
      "Size:  9\n"
     ]
    }
   ],
   "source": [
    "print('Size: ', np_two_dim_arr.size)"
   ]
  },
  {
   "cell_type": "markdown",
   "metadata": {},
   "source": [
    "## Data Type of NumPy Array\n",
    "Type of data types: str, int, float, complex, bool, list, None"
   ]
  },
  {
   "cell_type": "code",
   "execution_count": 317,
   "metadata": {},
   "outputs": [
    {
     "name": "stdout",
     "output_type": "stream",
     "text": [
      "[-3 -2 -1  0  1  2  3]\n",
      "int32\n",
      "[-3. -2. -1.  0.  1.  2.  3.]\n",
      "float64\n"
     ]
    }
   ],
   "source": [
    "int_lists = [-3, -2, -1, 0, 1, 2,3]\n",
    "int_arr = np.array(int_lists)\n",
    "print(int_arr)\n",
    "print(int_arr.dtype)\n",
    "float_arr = np.array(int_lists, dtype=float)\n",
    "print(float_arr)\n",
    "print(float_arr.dtype)"
   ]
  },
  {
   "cell_type": "markdown",
   "metadata": {},
   "source": [
    "## Iterating NumPy Array\n",
    "\n",
    "We can iterate through each elements of numPy array using loops. \n"
   ]
  },
  {
   "cell_type": "code",
   "execution_count": 318,
   "metadata": {},
   "outputs": [
    {
     "name": "stdout",
     "output_type": "stream",
     "text": [
      "Dim: 1\n",
      "1\n",
      "2\n",
      "3\n",
      "4\n",
      "5\n"
     ]
    }
   ],
   "source": [
    "# 1-d array\n",
    "arr = np.array([1, 2, 3, 4, 5])\n",
    "print('Dim:', arr.ndim)\n",
    "for item in arr:\n",
    "    print(item)"
   ]
  },
  {
   "cell_type": "code",
   "execution_count": 319,
   "metadata": {},
   "outputs": [
    {
     "name": "stdout",
     "output_type": "stream",
     "text": [
      "Dim: 2\n",
      "[1 2]\n",
      "[3 4]\n",
      "[5 6]\n",
      "1\n",
      "2\n",
      "3\n",
      "4\n",
      "5\n",
      "6\n"
     ]
    }
   ],
   "source": [
    "# 2-d array\n",
    "arr = np.array([[1, 2], [3, 4], [5,6]])\n",
    "print('Dim:', arr.ndim)\n",
    "for item in arr:\n",
    "    print(item)\n",
    "    \n",
    "\n",
    "for item in arr:\n",
    "    for i in item:\n",
    "        print(i)"
   ]
  },
  {
   "cell_type": "code",
   "execution_count": 320,
   "metadata": {},
   "outputs": [
    {
     "name": "stdout",
     "output_type": "stream",
     "text": [
      "Dim: 3\n",
      "[[1 2]\n",
      " [3 4]\n",
      " [5 6]]\n",
      "[[ 7  8]\n",
      " [ 9 10]\n",
      " [11 12]]\n"
     ]
    }
   ],
   "source": [
    "# 3-d array\n",
    "arr = np.array([[[1, 2], [3, 4], [5, 6]], [[7, 8], [9, 10], [11, 12]]])\n",
    "print('Dim:', arr.ndim)\n",
    "for item in arr:\n",
    "    print(item)\n",
    "    \n",
    "\n"
   ]
  },
  {
   "cell_type": "markdown",
   "metadata": {},
   "source": [
    "Iterating using ndenumerator method allow to access the element with the location of the specific element."
   ]
  },
  {
   "cell_type": "code",
   "execution_count": 321,
   "metadata": {},
   "outputs": [
    {
     "name": "stdout",
     "output_type": "stream",
     "text": [
      "((0, 0, 0), 1)\n",
      "((0, 0, 1), 2)\n",
      "((0, 1, 0), 3)\n",
      "((0, 1, 1), 4)\n",
      "((0, 2, 0), 5)\n",
      "((0, 2, 1), 6)\n",
      "((1, 0, 0), 7)\n",
      "((1, 0, 1), 8)\n",
      "((1, 1, 0), 9)\n",
      "((1, 1, 1), 10)\n",
      "((1, 2, 0), 11)\n",
      "((1, 2, 1), 12)\n"
     ]
    }
   ],
   "source": [
    "for x in np.ndenumerate(arr):\n",
    "    print(x)"
   ]
  },
  {
   "cell_type": "markdown",
   "metadata": {},
   "source": [
    "## Mathematical Operation Using NumPy\n",
    "Numpy array is not like exactly like python list. To do mathematical operation in pyhton list we have to loop through the items but numpy can allow to do any mathematical operation without looping. Mathematical Operation:\n",
    "\n",
    "- Addition (+)  \n",
    "- Subtraction (-)  \n",
    "- Multiplication (*)  \n",
    "- Division (/)  \n",
    "- Modules (%)  \n",
    "- Floor Division(//)  \n",
    "- Exponential(**)  "
   ]
  },
  {
   "cell_type": "markdown",
   "metadata": {},
   "source": [
    "### Addition\n",
    "Adding to scalar value is easy but add some value on a python list is not an easy operation. However, numPy array made it easy to do arithemtic operation without a use of any loops."
   ]
  },
  {
   "cell_type": "code",
   "execution_count": 323,
   "metadata": {},
   "outputs": [
    {
     "name": "stdout",
     "output_type": "stream",
     "text": [
      "original array:  [1 2 3 4 5]\n",
      "[11 12 13 14 15]\n"
     ]
    }
   ],
   "source": [
    "# Mathematical Operation\n",
    "# Addition\n",
    "arr = np.array([1, 2, 3, 4, 5])\n",
    "print('original array: ',arr)\n",
    "ten_plus_original = arr  + 10\n",
    "print(ten_plus_original)"
   ]
  },
  {
   "cell_type": "markdown",
   "metadata": {},
   "source": [
    "### Subtraction"
   ]
  },
  {
   "cell_type": "code",
   "execution_count": 325,
   "metadata": {},
   "outputs": [
    {
     "name": "stdout",
     "output_type": "stream",
     "text": [
      "original array:  [1 2 3 4 5]\n",
      "[-9 -8 -7 -6 -5]\n"
     ]
    }
   ],
   "source": [
    "# Subtraction\n",
    "arr = np.array([1, 2, 3, 4, 5])\n",
    "print('original array: ',arr)\n",
    "ten_minus_original = arr  - 10\n",
    "print(ten_minus_original)"
   ]
  },
  {
   "cell_type": "markdown",
   "metadata": {},
   "source": [
    "###  Multiplication\n"
   ]
  },
  {
   "cell_type": "code",
   "execution_count": 326,
   "metadata": {},
   "outputs": [
    {
     "name": "stdout",
     "output_type": "stream",
     "text": [
      "original array:  [1 2 3 4 5]\n",
      "[10 20 30 40 50]\n"
     ]
    }
   ],
   "source": [
    "arr = np.array([1, 2, 3, 4, 5])\n",
    "print('original array: ', arr)\n",
    "ten_times_original = arr * 10\n",
    "print(ten_times_original)"
   ]
  },
  {
   "cell_type": "code",
   "execution_count": 327,
   "metadata": {},
   "outputs": [
    {
     "name": "stdout",
     "output_type": "stream",
     "text": [
      "[ 0  1  2  3  4  5  6  7  8  9 10 11 12 13 14 15 16 17 18 19 20 21 22 23\n",
      " 24 25 26 27 28 29 30 31 32 33 34 35 36 37 38 39 40 41 42 43 44 45 46 47\n",
      " 48 49]\n",
      "[ 0  2  4  6  8 10 12 14 16 18 20 22 24 26 28 30 32 34 36 38 40 42 44 46\n",
      " 48 50 52 54 56 58 60 62 64 66 68 70 72 74 76 78 80 82 84 86 88 90 92 94\n",
      " 96 98]\n"
     ]
    },
    {
     "data": {
      "image/png": "[encoded data removed]",
      "text/plain": [
       "<Figure size 432x288 with 1 Axes>"
      ]
     },
     "metadata": {},
     "output_type": "display_data"
    }
   ],
   "source": [
    "# let's  seee some use cases\n",
    "\n",
    "x = np.array(range(0,50))\n",
    "y = x * 2\n",
    "print(x)\n",
    "print(y)\n",
    "plt.scatter(x,y, c='brown')\n",
    "plt.title('X vs Y')\n",
    "plt.xlabel('X Axis')\n",
    "plt.ylabel('Y Axis')\n",
    "plt.show()"
   ]
  },
  {
   "cell_type": "markdown",
   "metadata": {},
   "source": [
    "### Division"
   ]
  },
  {
   "cell_type": "code",
   "execution_count": 336,
   "metadata": {},
   "outputs": [
    {
     "name": "stdout",
     "output_type": "stream",
     "text": [
      "original array:  [1 2 3 4 5]\n",
      "[0.1 0.2 0.3 0.4 0.5]\n"
     ]
    }
   ],
   "source": [
    "# Division\n",
    "arr = np.array([1, 2, 3, 4, 5])\n",
    "print('original array: ', arr)\n",
    "ten_times_original =arr  / 10\n",
    "print(ten_times_original)"
   ]
  },
  {
   "cell_type": "code",
   "execution_count": 337,
   "metadata": {},
   "outputs": [
    {
     "name": "stdout",
     "output_type": "stream",
     "text": [
      "original array:  [1 2 3 4 5]\n",
      "[1 2 0 1 2]\n"
     ]
    }
   ],
   "source": [
    "### Modulus\n",
    "# Modulus; Finding the remainder\n",
    "arr = np.array([1, 2, 3, 4, 5])\n",
    "print('original array: ',arr)\n",
    "ten_times_original = arr % 3\n",
    "print(ten_times_original)"
   ]
  },
  {
   "cell_type": "markdown",
   "metadata": {},
   "source": [
    "## Modulos"
   ]
  },
  {
   "cell_type": "code",
   "execution_count": 343,
   "metadata": {},
   "outputs": [
    {
     "name": "stdout",
     "output_type": "stream",
     "text": [
      "original array:  [ 1  2  3  4  5 11]\n",
      "[0 0 0 0 0 1]\n"
     ]
    }
   ],
   "source": [
    "#modulous: the division result without the remainder\n",
    "arr = np.array([1, 2, 3, 4, 5, 11])\n",
    "print('original array: ', arr)\n",
    "ten_times_original = arr // 10\n",
    "print(ten_times_original)"
   ]
  },
  {
   "cell_type": "markdown",
   "metadata": {},
   "source": [
    "### Floor Division"
   ]
  },
  {
   "cell_type": "code",
   "execution_count": 344,
   "metadata": {},
   "outputs": [
    {
     "name": "stdout",
     "output_type": "stream",
     "text": [
      "original array:  [ 1  2  3  4  5 11]\n",
      "[0 0 0 0 0 1]\n"
     ]
    }
   ],
   "source": [
    "# Floor division: the division result without the remainder\n",
    "arr = np.array([1, 2, 3, 4, 5, 11])\n",
    "print('original array: ', arr)\n",
    "ten_times_original = arr // 10\n",
    "print(ten_times_original)"
   ]
  },
  {
   "cell_type": "markdown",
   "metadata": {},
   "source": [
    "### Exponential"
   ]
  },
  {
   "cell_type": "code",
   "execution_count": 359,
   "metadata": {},
   "outputs": [
    {
     "name": "stdout",
     "output_type": "stream",
     "text": [
      "original array:  [1 2 3 4 5]\n",
      "[ 1  4  9 16 25]\n"
     ]
    }
   ],
   "source": [
    "# Exponential is finding some number the power of another:\n",
    "arr = np.array([1, 2, 3, 4, 5])\n",
    "print('original array: ', arr)\n",
    "ten_times_original = arr  ** 2\n",
    "print(ten_times_original)"
   ]
  },
  {
   "cell_type": "markdown",
   "metadata": {},
   "source": [
    "## Converting Data Types\n",
    "We can convert the data types of numpy array"
   ]
  },
  {
   "cell_type": "markdown",
   "metadata": {},
   "source": [
    "### Converting Data Types from Int to Float"
   ]
  },
  {
   "cell_type": "code",
   "execution_count": 366,
   "metadata": {},
   "outputs": [
    {
     "name": "stdout",
     "output_type": "stream",
     "text": [
      "[1 2 3 4]\n"
     ]
    }
   ],
   "source": [
    "np_int_arr = np.array([1,2,3,4])\n",
    "print(np_int_arr)"
   ]
  },
  {
   "cell_type": "code",
   "execution_count": 367,
   "metadata": {},
   "outputs": [],
   "source": [
    "np_float_arr = np_int_arr.astype('float')"
   ]
  },
  {
   "cell_type": "code",
   "execution_count": 368,
   "metadata": {},
   "outputs": [
    {
     "name": "stdout",
     "output_type": "stream",
     "text": [
      "[1. 2. 3. 4.]\n"
     ]
    }
   ],
   "source": [
    "print(np_float_arr)"
   ]
  },
  {
   "cell_type": "markdown",
   "metadata": {},
   "source": [
    "### Converting Data Types \n"
   ]
  },
  {
   "cell_type": "code",
   "execution_count": 369,
   "metadata": {},
   "outputs": [],
   "source": [
    "# to int\n",
    "np_int_arr = np_float_arr.astype('int')"
   ]
  },
  {
   "cell_type": "code",
   "execution_count": 370,
   "metadata": {},
   "outputs": [
    {
     "name": "stdout",
     "output_type": "stream",
     "text": [
      "[1 2 3 4]\n"
     ]
    }
   ],
   "source": [
    "print(np_int_arr)"
   ]
  },
  {
   "cell_type": "code",
   "execution_count": 371,
   "metadata": {},
   "outputs": [
    {
     "name": "stdout",
     "output_type": "stream",
     "text": [
      "[1. 2. 3. 4.]\n"
     ]
    }
   ],
   "source": [
    "#to float\n",
    "\n",
    "np_float_arr = np_int_arr.astype('float')\n",
    "print(np_float_arr)"
   ]
  },
  {
   "cell_type": "code",
   "execution_count": 372,
   "metadata": {},
   "outputs": [
    {
     "name": "stdout",
     "output_type": "stream",
     "text": [
      "[ True  True False  True  True  True]\n"
     ]
    }
   ],
   "source": [
    "# Converting Data Types Int to Boolean\n",
    "np_bool_arr = np.array([-3, -2, 0, 1,2,3]).astype('bool')\n",
    "print(np_bool_arr)\n"
   ]
  },
  {
   "cell_type": "code",
   "execution_count": 373,
   "metadata": {},
   "outputs": [
    {
     "name": "stdout",
     "output_type": "stream",
     "text": [
      "['1' '2' '3' '4']\n"
     ]
    }
   ],
   "source": [
    "# int to string\n",
    "np_str_arr = np_int_arr.astype('str')\n",
    "print(np_str_arr)"
   ]
  },
  {
   "cell_type": "markdown",
   "metadata": {},
   "source": [
    "## Getting items from a numpy array"
   ]
  },
  {
   "cell_type": "code",
   "execution_count": 374,
   "metadata": {},
   "outputs": [
    {
     "name": "stdout",
     "output_type": "stream",
     "text": [
      "First row: [1 2 3]\n",
      "Second row: [4 5 6]\n",
      "Third row:  [7 8 9]\n"
     ]
    }
   ],
   "source": [
    "# 2 Dimension Array\n",
    "two_dim_arr = np.array([[1,2,3],[4,5,6], [7,8,9]])\n",
    "first_row = two_dim_arr[0]\n",
    "second_row = two_dim_arr[1]\n",
    "third_row = two_dim_arr[2]\n",
    "print('First row:', first_row)\n",
    "print('Second row:', second_row)\n",
    "print('Third row: ', third_row)"
   ]
  },
  {
   "cell_type": "code",
   "execution_count": 375,
   "metadata": {},
   "outputs": [
    {
     "name": "stdout",
     "output_type": "stream",
     "text": [
      "First column: [1 4 7]\n",
      "Second column: [2 5 8]\n",
      "Third column:  [3 6 9]\n",
      "[[1 2 3]\n",
      " [4 5 6]\n",
      " [7 8 9]]\n"
     ]
    }
   ],
   "source": [
    "first_column= two_dim_arr[:,0]\n",
    "second_column = two_dim_arr[:,1]\n",
    "third_column = two_dim_arr[:,2]\n",
    "print('First column:', first_column)\n",
    "print('Second column:', second_column)\n",
    "print('Third column: ', third_column)\n",
    "print(two_dim_arr)"
   ]
  },
  {
   "cell_type": "markdown",
   "metadata": {},
   "source": [
    "## NumPy array Indexing\n",
    "\n",
    "Accessing one dimensional array elements is similar to accessing list elements. The first element can be accessed by index 0. See the example below. Negative indexing is also possible. The last element is at -1."
   ]
  },
  {
   "cell_type": "code",
   "execution_count": 376,
   "metadata": {},
   "outputs": [
    {
     "name": "stdout",
     "output_type": "stream",
     "text": [
      "1\n",
      "5\n"
     ]
    }
   ],
   "source": [
    "arr = np.array([1, 2, 3, 4, 5])\n",
    "print(arr[0])\n",
    "print(arr[-1])"
   ]
  },
  {
   "cell_type": "markdown",
   "metadata": {},
   "source": [
    "Accessing two or more dimensional array elements is a bit different from accessing ordinary list. In order to access a 2-D array element, we use the numbers separated by a comma.\n",
    "The first numbers reperesents the dimension and the second number refers to the index of the lement.Let's see an example."
   ]
  },
  {
   "cell_type": "code",
   "execution_count": 377,
   "metadata": {},
   "outputs": [
    {
     "name": "stdout",
     "output_type": "stream",
     "text": [
      "[[1 2 3]\n",
      " [4 5 6]\n",
      " [7 8 9]]\n",
      "3\n",
      "dim: 2\n"
     ]
    }
   ],
   "source": [
    "# 2-D\n",
    "lst_lst =[[1,2,3],[4,5,6],[7,8,9]]\n",
    "two_dim_arr = np.array(lst_lst)\n",
    "print(two_dim_arr)\n",
    "print(two_dim_arr[0, 2])\n",
    "print('dim:', two_dim_arr.ndim)"
   ]
  },
  {
   "cell_type": "code",
   "execution_count": 378,
   "metadata": {},
   "outputs": [
    {
     "name": "stdout",
     "output_type": "stream",
     "text": [
      "[[[1 2 3]\n",
      "  [4 5 6]\n",
      "  [7 8 9]]]\n",
      "9\n",
      "dim: 3\n"
     ]
    }
   ],
   "source": [
    "# 3-D\n",
    "\n",
    "lst_lst_lst = [[[1,2,3],[4,5,6],[7,8,9]]]\n",
    "three_dim_arr = np.array(lst_lst_lst)\n",
    "print(three_dim_arr)\n",
    "print(three_dim_arr[0, 2, 2]) # the\n",
    "print('dim:', three_dim_arr.ndim)"
   ]
  },
  {
   "cell_type": "markdown",
   "metadata": {},
   "source": [
    "## Slicing some parts of Numpy array\n",
    "Slicing in numpy is similar to slicing in python list"
   ]
  },
  {
   "cell_type": "code",
   "execution_count": 379,
   "metadata": {},
   "outputs": [
    {
     "name": "stdout",
     "output_type": "stream",
     "text": [
      "[1 2 3 4 5]\n",
      "[1 2 3 4 5]\n",
      "[1 2 3 4 5]\n",
      "[1 3 5]\n",
      "[1 2 3]\n",
      "[4 5]\n"
     ]
    }
   ],
   "source": [
    "# [start:end:step]\n",
    "# [:] \n",
    "arr = np.array([1, 2, 3, 4, 5])\n",
    "print(arr)\n",
    "print(arr[:])\n",
    "print(arr[::])\n",
    "print(arr[::2]) # 2 is a step\n",
    "print(arr[0:3])\n",
    "print(arr[3:])\n"
   ]
  },
  {
   "cell_type": "code",
   "execution_count": 380,
   "metadata": {},
   "outputs": [
    {
     "name": "stdout",
     "output_type": "stream",
     "text": [
      "[[1 2 3]\n",
      " [4 5 6]\n",
      " [7 8 9]]\n"
     ]
    }
   ],
   "source": [
    "# Gives the same numPy array\n",
    "two_dim_arr = np.array([[1,2,3],[4,5,6], [7,8,9]])\n",
    "print(two_dim_arr[::])"
   ]
  },
  {
   "cell_type": "code",
   "execution_count": 381,
   "metadata": {},
   "outputs": [
    {
     "name": "stdout",
     "output_type": "stream",
     "text": [
      "First row [[1 2 3]\n",
      " [4 5 6]]\n",
      "[1 4 7]\n",
      "[[1 2 3]\n",
      " [4 5 6]\n",
      " [7 8 9]]\n",
      "[[1 2 3]\n",
      " [4 5 6]\n",
      " [7 8 9]]\n",
      "[[1 2]\n",
      " [4 5]\n",
      " [7 8]]\n",
      "<class 'numpy.ndarray'>\n"
     ]
    }
   ],
   "source": [
    "two_dim_arr = np.array([[1,2,3],[4,5,6], [7,8,9]])\n",
    "print('First row', two_dim_arr[0:2]) # slices the first two rows\n",
    "print(two_dim_arr[0:3, 0]) # slices the first item in each column\n",
    "first_two_rows_and_columns = two_dim_arr[0:3, 0:2]\n",
    "print(two_dim_arr[:])\n",
    "print(two_dim_arr)\n",
    "print(first_two_rows_and_columns)\n",
    "print(type(two_dim_arr))"
   ]
  },
  {
   "cell_type": "code",
   "execution_count": 382,
   "metadata": {},
   "outputs": [
    {
     "data": {
      "text/plain": [
       "array([8, 9])"
      ]
     },
     "execution_count": 382,
     "metadata": {},
     "output_type": "execute_result"
    }
   ],
   "source": [
    "two_dim_arr[2, 1:]"
   ]
  },
  {
   "cell_type": "code",
   "execution_count": 383,
   "metadata": {},
   "outputs": [
    {
     "data": {
      "text/plain": [
       "array([[ 1,  2,  3,  7],\n",
       "       [ 4,  5,  6, 15],\n",
       "       [ 7,  8,  9, 24],\n",
       "       [10, 11, 12, 33]])"
      ]
     },
     "execution_count": 383,
     "metadata": {},
     "output_type": "execute_result"
    }
   ],
   "source": [
    "# Slicing out the middle four items\n",
    "two_dim_arr_2= np.array([[1,2,3,7],[4,5,6, 15], [7,8,9,24],  [10,11,12, 33]])\n",
    "two_dim_arr_2"
   ]
  },
  {
   "cell_type": "code",
   "execution_count": 384,
   "metadata": {},
   "outputs": [
    {
     "data": {
      "text/plain": [
       "array([[5, 6],\n",
       "       [8, 9]])"
      ]
     },
     "execution_count": 384,
     "metadata": {},
     "output_type": "execute_result"
    }
   ],
   "source": [
    "two_dim_arr_2[1:3, 1:3]"
   ]
  },
  {
   "cell_type": "code",
   "execution_count": 385,
   "metadata": {},
   "outputs": [
    {
     "data": {
      "text/plain": [
       "array([[ 1,  2,  3,  7],\n",
       "       [ 4, 25, 25, 15],\n",
       "       [ 7, 25, 25, 24],\n",
       "       [10, 11, 12, 33]])"
      ]
     },
     "execution_count": 385,
     "metadata": {},
     "output_type": "execute_result"
    }
   ],
   "source": [
    "# Assigning \n",
    "two_dim_arr_2[1:3, 1:3] = 25\n",
    "two_dim_arr_2"
   ]
  },
  {
   "cell_type": "markdown",
   "metadata": {},
   "source": [
    "## How to reverse the rows and the whole array?"
   ]
  },
  {
   "cell_type": "code",
   "execution_count": 386,
   "metadata": {},
   "outputs": [
    {
     "data": {
      "text/plain": [
       "array([[1, 2, 3],\n",
       "       [4, 5, 6],\n",
       "       [7, 8, 9]])"
      ]
     },
     "execution_count": 386,
     "metadata": {},
     "output_type": "execute_result"
    }
   ],
   "source": [
    "two_dim_arr[::]"
   ]
  },
  {
   "cell_type": "code",
   "execution_count": 387,
   "metadata": {},
   "outputs": [
    {
     "data": {
      "text/plain": [
       "array([[7, 8, 9],\n",
       "       [4, 5, 6],\n",
       "       [1, 2, 3]])"
      ]
     },
     "execution_count": 387,
     "metadata": {},
     "output_type": "execute_result"
    }
   ],
   "source": [
    "two_dim_arr[::-1]"
   ]
  },
  {
   "cell_type": "markdown",
   "metadata": {},
   "source": [
    "## Reverse the row and column positions\n"
   ]
  },
  {
   "cell_type": "code",
   "execution_count": 388,
   "metadata": {},
   "outputs": [
    {
     "data": {
      "text/plain": [
       "array([[9, 8, 7],\n",
       "       [6, 5, 4],\n",
       "       [3, 2, 1]])"
      ]
     },
     "execution_count": 388,
     "metadata": {},
     "output_type": "execute_result"
    }
   ],
   "source": [
    "two_dim_arr = np.array([[1,2,3],[4,5,6], [7,8,9]])\n",
    "two_dim_arr[::-1,::-1]"
   ]
  },
  {
   "cell_type": "code",
   "execution_count": 389,
   "metadata": {},
   "outputs": [
    {
     "data": {
      "text/plain": [
       "array([[9, 8, 7],\n",
       "       [6, 5, 4],\n",
       "       [3, 2, 1]])"
      ]
     },
     "execution_count": 389,
     "metadata": {},
     "output_type": "execute_result"
    }
   ],
   "source": [
    "two_dim_arr[::-1, ::-1]"
   ]
  },
  {
   "cell_type": "code",
   "execution_count": 390,
   "metadata": {},
   "outputs": [],
   "source": [
    "## How to represent missing values"
   ]
  },
  {
   "cell_type": "code",
   "execution_count": 391,
   "metadata": {},
   "outputs": [
    {
     "name": "stdout",
     "output_type": "stream",
     "text": [
      "[[1 2 3]\n",
      " [4 5 6]\n",
      " [7 8 9]]\n",
      "[[ 1  2  3]\n",
      " [ 4 55 44]\n",
      " [ 7  8  9]]\n"
     ]
    }
   ],
   "source": [
    "print(two_dim_arr)\n",
    "two_dim_arr[1,1] = 55\n",
    "two_dim_arr[1,2] = 44\n",
    "print(two_dim_arr)"
   ]
  },
  {
   "cell_type": "markdown",
   "metadata": {},
   "source": [
    "### NumPy Zeros"
   ]
  },
  {
   "cell_type": "code",
   "execution_count": 392,
   "metadata": {},
   "outputs": [
    {
     "data": {
      "text/plain": [
       "array([[0, 0, 0],\n",
       "       [0, 0, 0],\n",
       "       [0, 0, 0]])"
      ]
     },
     "execution_count": 392,
     "metadata": {},
     "output_type": "execute_result"
    }
   ],
   "source": [
    "# Numpy Zeroes\n",
    "# numpy.zeros(shape, dtype=float, order='C')\n",
    "numpy_zeroes = np.zeros((3,3),dtype=int)\n",
    "numpy_zeroes"
   ]
  },
  {
   "cell_type": "markdown",
   "metadata": {},
   "source": [
    "### Numpy ones\n"
   ]
  },
  {
   "cell_type": "code",
   "execution_count": 393,
   "metadata": {},
   "outputs": [
    {
     "name": "stdout",
     "output_type": "stream",
     "text": [
      "[[1 1 1 1 1]\n",
      " [1 1 1 1 1]\n",
      " [1 1 1 1 1]]\n"
     ]
    }
   ],
   "source": [
    "# Numpy ones\n",
    "numpy_ones = np.ones((3,5),dtype=int,order='C')\n",
    "print(numpy_ones)"
   ]
  },
  {
   "cell_type": "code",
   "execution_count": 394,
   "metadata": {},
   "outputs": [],
   "source": [
    "twos = numpy_ones * 2"
   ]
  },
  {
   "cell_type": "code",
   "execution_count": 395,
   "metadata": {},
   "outputs": [
    {
     "name": "stdout",
     "output_type": "stream",
     "text": [
      "[[2 2 2 2 2]\n",
      " [2 2 2 2 2]\n",
      " [2 2 2 2 2]]\n"
     ]
    }
   ],
   "source": [
    "print(twos)"
   ]
  },
  {
   "cell_type": "markdown",
   "metadata": {},
   "source": [
    "### NumPy Full to create identical itmes\n"
   ]
  },
  {
   "cell_type": "code",
   "execution_count": 396,
   "metadata": {},
   "outputs": [
    {
     "name": "stdout",
     "output_type": "stream",
     "text": [
      "[[4 4 4 4 4]\n",
      " [4 4 4 4 4]\n",
      " [4 4 4 4 4]]\n"
     ]
    }
   ],
   "source": [
    "np_full = np.full((3, 5), fill_value=4)\n",
    "print(np_full)"
   ]
  },
  {
   "cell_type": "markdown",
   "metadata": {},
   "source": [
    "### NumPy Eye\n",
    "\n",
    "The eye function creates an identity matrix, that is, a matrix with elements on the diagonal are set to one, and non-diagonal elements are set to zero:"
   ]
  },
  {
   "cell_type": "code",
   "execution_count": 397,
   "metadata": {},
   "outputs": [
    {
     "name": "stdout",
     "output_type": "stream",
     "text": [
      "[[1 0 0]\n",
      " [0 1 0]\n",
      " [0 0 1]]\n"
     ]
    }
   ],
   "source": [
    "np_eye = np.eye(3, dtype=int)\n",
    "print(np_eye)"
   ]
  },
  {
   "cell_type": "code",
   "execution_count": 398,
   "metadata": {},
   "outputs": [
    {
     "name": "stdout",
     "output_type": "stream",
     "text": [
      "[[1 0 0 0 0]\n",
      " [0 1 0 0 0]\n",
      " [0 0 1 0 0]\n",
      " [0 0 0 1 0]\n",
      " [0 0 0 0 1]]\n"
     ]
    }
   ],
   "source": [
    "np_eye2 = np.eye(5, dtype=int)\n",
    "print(np_eye2)"
   ]
  },
  {
   "cell_type": "markdown",
   "metadata": {},
   "source": [
    "### NumPy Empty\n",
    "The NumPy *empty* method returns a new array of given shape and type, with random values."
   ]
  },
  {
   "cell_type": "code",
   "execution_count": 399,
   "metadata": {},
   "outputs": [
    {
     "data": {
      "text/plain": [
       "array([[0., 0., 1., 0.],\n",
       "       [0., 1., 1., 1.]])"
      ]
     },
     "execution_count": 399,
     "metadata": {},
     "output_type": "execute_result"
    }
   ],
   "source": [
    "np.empty((2, 4))"
   ]
  },
  {
   "cell_type": "code",
   "execution_count": 400,
   "metadata": {},
   "outputs": [
    {
     "data": {
      "text/plain": [
       "array([[1, 2],\n",
       "       [3, 4]])"
      ]
     },
     "execution_count": 400,
     "metadata": {},
     "output_type": "execute_result"
    }
   ],
   "source": [
    "np.empty((2, 2), dtype=int)"
   ]
  },
  {
   "cell_type": "markdown",
   "metadata": {},
   "source": [
    "### Shape and Reshape a numPy array\n",
    "The *shape* attribute provide the dimension of the numPy array. The reshape method takes arguments and reshape the array to a different dimension."
   ]
  },
  {
   "cell_type": "code",
   "execution_count": 401,
   "metadata": {},
   "outputs": [
    {
     "data": {
      "text/plain": [
       "(12,)"
      ]
     },
     "execution_count": 401,
     "metadata": {},
     "output_type": "execute_result"
    }
   ],
   "source": [
    "nums = np.arange(12)\n",
    "nums.shape"
   ]
  },
  {
   "cell_type": "code",
   "execution_count": 402,
   "metadata": {},
   "outputs": [
    {
     "name": "stdout",
     "output_type": "stream",
     "text": [
      "[ 0  1  2  3  4  5  6  7  8  9 10 11]\n",
      "[[ 0  1  2  3]\n",
      " [ 4  5  6  7]\n",
      " [ 8  9 10 11]]\n",
      "2\n",
      "(3, 4)\n"
     ]
    }
   ],
   "source": [
    "nums = np.arange(12)\n",
    "print(nums)\n",
    "new_arr = nums.reshape(3, 4)\n",
    "print(new_arr)\n",
    "print(new_arr.ndim) # 2-d\n",
    "print(new_arr.shape) # 3 rows and 3 columns"
   ]
  },
  {
   "cell_type": "code",
   "execution_count": 403,
   "metadata": {},
   "outputs": [
    {
     "name": "stdout",
     "output_type": "stream",
     "text": [
      "[ 0  1  2  3  4  5  6  7  8  9 10 11]\n",
      "[[ 0  1  2  3]\n",
      " [ 4  5  6  7]\n",
      " [ 8  9 10 11]]\n"
     ]
    }
   ],
   "source": [
    "nums = np.arange(12)\n",
    "print(nums)\n",
    "new_arr = nums.reshape(3, 4)\n",
    "print(new_arr)"
   ]
  },
  {
   "cell_type": "markdown",
   "metadata": {},
   "source": [
    "## Reshape"
   ]
  },
  {
   "cell_type": "code",
   "execution_count": 404,
   "metadata": {},
   "outputs": [
    {
     "name": "stdout",
     "output_type": "stream",
     "text": [
      "[[1 2 3]\n",
      " [4 5 6]]\n",
      "(2, 3)\n",
      "[[1 2]\n",
      " [3 4]\n",
      " [5 6]]\n"
     ]
    }
   ],
   "source": [
    "\n",
    "# numpy.reshape(), numpy.flatten()\n",
    "first_shape  = np.array([(1,2,3), (4,5,6)])\n",
    "print(first_shape)\n",
    "print(first_shape.shape)\n",
    "reshaped = first_shape.reshape(3,2)\n",
    "print(reshaped)\n"
   ]
  },
  {
   "cell_type": "markdown",
   "metadata": {},
   "source": [
    "## Flatten\n",
    "The flaten method changes the numPy array to 1-dimensional array"
   ]
  },
  {
   "cell_type": "code",
   "execution_count": 405,
   "metadata": {},
   "outputs": [
    {
     "name": "stdout",
     "output_type": "stream",
     "text": [
      "[1 2 3 4 5 6]\n",
      "Shape: (6,) Dim: 1\n"
     ]
    }
   ],
   "source": [
    "flattened = reshaped.flatten()\n",
    "print(flattened)\n",
    "print('Shape:', flattened.shape, 'Dim:', flattened.ndim)\n"
   ]
  },
  {
   "cell_type": "code",
   "execution_count": 406,
   "metadata": {},
   "outputs": [
    {
     "name": "stdout",
     "output_type": "stream",
     "text": [
      "[[[ 1  2]\n",
      "  [ 3  4]]\n",
      "\n",
      " [[ 5  6]\n",
      "  [ 7  8]]\n",
      "\n",
      " [[ 9 10]\n",
      "  [11 12]]]\n"
     ]
    }
   ],
   "source": [
    "arr = np.array([1, 2, 3, 4, 5, 6, 7, 8, 9, 10, 11, 12])\n",
    "newarr = arr.reshape(3, 2, 2)\n",
    "print(newarr)"
   ]
  },
  {
   "cell_type": "markdown",
   "metadata": {},
   "source": [
    "### Concatenating Numpy arrays\n",
    "By default the NumPy concatenate method joins the arrays along axis 0. To join the arrays horizontally, add parameter axis=1:"
   ]
  },
  {
   "cell_type": "code",
   "execution_count": 407,
   "metadata": {},
   "outputs": [
    {
     "name": "stdout",
     "output_type": "stream",
     "text": [
      "[0 1 2 3 4]\n"
     ]
    }
   ],
   "source": [
    "x = np.arange(2)\n",
    "y = np.arange(2, 5)\n",
    "z = np.concatenate((x, y))\n",
    "print(z)"
   ]
  },
  {
   "cell_type": "code",
   "execution_count": 408,
   "metadata": {},
   "outputs": [
    {
     "name": "stdout",
     "output_type": "stream",
     "text": [
      "[[1 2 3]\n",
      " [4 5 6]\n",
      " [7 8 9]]\n"
     ]
    }
   ],
   "source": [
    "x = np.arange(1, 10).reshape(3,3)\n",
    "print(x)"
   ]
  },
  {
   "cell_type": "code",
   "execution_count": 412,
   "metadata": {},
   "outputs": [
    {
     "name": "stdout",
     "output_type": "stream",
     "text": [
      "[[1 2 3]\n",
      " [4 5 6]\n",
      " [7 8 9]\n",
      " [1 2 3]\n",
      " [4 5 6]\n",
      " [7 8 9]]\n"
     ]
    }
   ],
   "source": [
    "# concant\n",
    "print(np.concatenate((x, x), axis = 0))"
   ]
  },
  {
   "cell_type": "code",
   "execution_count": 413,
   "metadata": {},
   "outputs": [
    {
     "name": "stdout",
     "output_type": "stream",
     "text": [
      "[[1 2 3 1 2 3]\n",
      " [4 5 6 4 5 6]\n",
      " [7 8 9 7 8 9]]\n"
     ]
    }
   ],
   "source": [
    "# concant\n",
    "print(np.concatenate((x, x), axis=1))"
   ]
  },
  {
   "cell_type": "markdown",
   "metadata": {},
   "source": [
    "### Joining with stack method\n",
    "It is possible to join horizontally or vertically by changing the value of axis to 0 or 1. The default axis value is zero and that means a horizontal join.\n"
   ]
  },
  {
   "cell_type": "code",
   "execution_count": 421,
   "metadata": {},
   "outputs": [
    {
     "name": "stdout",
     "output_type": "stream",
     "text": [
      "concatenating list: [5 7 9]\n",
      "[[1 2 3]\n",
      " [4 5 6]]\n"
     ]
    }
   ],
   "source": [
    " ## Horitzontal Stack\n",
    "np_list_one = np.array([1,2,3])\n",
    "np_list_two = np.array([4,5,6])\n",
    "print('concatenating list:', np_list_one + np_list_two)\n",
    "print(np.stack((np_list_one, np_list_two))) # default axis value is zero."
   ]
  },
  {
   "cell_type": "code",
   "execution_count": 425,
   "metadata": {},
   "outputs": [
    {
     "name": "stdout",
     "output_type": "stream",
     "text": [
      "[5 7 9]\n",
      "[[1 4]\n",
      " [2 5]\n",
      " [3 6]]\n"
     ]
    }
   ],
   "source": [
    " ## Horitzontal Stack\n",
    "np_list_one = np.array([1,2,3])\n",
    "np_list_two = np.array([4,5,6])\n",
    "print( np_list_one + np_list_two)\n",
    "print(np.stack((np_list_one, np_list_two), axis=1))"
   ]
  },
  {
   "cell_type": "markdown",
   "metadata": {},
   "source": [
    "### Horizontal Stack"
   ]
  },
  {
   "cell_type": "code",
   "execution_count": 426,
   "metadata": {},
   "outputs": [
    {
     "name": "stdout",
     "output_type": "stream",
     "text": [
      "[5 7 9]\n",
      "Horizontal Append:\n",
      " [1 2 3 4 5 6]\n"
     ]
    }
   ],
   "source": [
    " ## Horitzontal Stack\n",
    "np_list_one = np.array([1,2,3])\n",
    "np_list_two = np.array([4,5,6])\n",
    "print(np_list_one + np_list_two)\n",
    "print('Horizontal Append:\\n', np.hstack((np_list_one, np_list_two)))"
   ]
  },
  {
   "cell_type": "markdown",
   "metadata": {},
   "source": [
    "### Vertical Stack"
   ]
  },
  {
   "cell_type": "code",
   "execution_count": 427,
   "metadata": {},
   "outputs": [
    {
     "name": "stdout",
     "output_type": "stream",
     "text": [
      "Vertical Append: [[1 2 3]\n",
      " [4 5 6]]\n"
     ]
    }
   ],
   "source": [
    " ## Vertical Stack\n",
    "print('Vertical Append:', np.vstack((np_list_one, np_list_two)))"
   ]
  },
  {
   "cell_type": "markdown",
   "metadata": {},
   "source": [
    "## Generating Random Numbers"
   ]
  },
  {
   "cell_type": "code",
   "execution_count": 437,
   "metadata": {},
   "outputs": [
    {
     "data": {
      "text/plain": [
       "0"
      ]
     },
     "execution_count": 437,
     "metadata": {},
     "output_type": "execute_result"
    }
   ],
   "source": [
    "# Generating a random integers between 0 and 10 inclusive\n",
    "\n",
    "random_int = np.random.randint(0, 11)\n",
    "random_int"
   ]
  },
  {
   "cell_type": "code",
   "execution_count": 438,
   "metadata": {},
   "outputs": [
    {
     "name": "stdout",
     "output_type": "stream",
     "text": [
      "0.4099787844112669\n"
     ]
    }
   ],
   "source": [
    "# Generate a random float  number between 0 and 0.999..\n",
    "random_float = np.random.random()\n",
    "print(random_float)"
   ]
  },
  {
   "cell_type": "code",
   "execution_count": 439,
   "metadata": {},
   "outputs": [
    {
     "name": "stdout",
     "output_type": "stream",
     "text": [
      "[0.22587659 0.0188218  0.1005489  0.22376462 0.86790537]\n"
     ]
    }
   ],
   "source": [
    " # Generate a random numpy array of float  numbers\n",
    "random_floats = np.random.random(5)\n",
    "print(random_floats)"
   ]
  },
  {
   "cell_type": "code",
   "execution_count": null,
   "metadata": {},
   "outputs": [],
   "source": []
  },
  {
   "cell_type": "code",
   "execution_count": 441,
   "metadata": {},
   "outputs": [
    {
     "name": "stdout",
     "output_type": "stream",
     "text": [
      "[[0.16948871 0.58021159 0.4058133 ]\n",
      " [0.15162521 0.42037159 0.52096055]]\n"
     ]
    }
   ],
   "source": [
    "# Random numbers between [0,1) of shape 2,3\n",
    "np_random_nums = np.random.random(size=(2, 3))\n",
    "print(np_random_nums)\n"
   ]
  },
  {
   "cell_type": "code",
   "execution_count": 443,
   "metadata": {},
   "outputs": [
    {
     "data": {
      "text/plain": [
       "array([0.16948871, 0.58021159, 0.4058133 , 0.15162521, 0.42037159,\n",
       "       0.52096055])"
      ]
     },
     "execution_count": 443,
     "metadata": {},
     "output_type": "execute_result"
    }
   ],
   "source": [
    "np_random_nums.shape\n",
    "np_random_nums.flatten()"
   ]
  },
  {
   "cell_type": "code",
   "execution_count": 444,
   "metadata": {},
   "outputs": [
    {
     "data": {
      "text/plain": [
       "array([[0.12099852, 0.05660326],\n",
       "       [0.69331399, 0.8406786 ]])"
      ]
     },
     "execution_count": 444,
     "metadata": {},
     "output_type": "execute_result"
    }
   ],
   "source": [
    "## Random numbers between [0, 1] of shape 2, 2\n",
    "rand = np.random.rand(2,2)\n",
    "rand"
   ]
  },
  {
   "cell_type": "code",
   "execution_count": 449,
   "metadata": {},
   "outputs": [
    {
     "data": {
      "text/plain": [
       "array([2, 8, 2, 5])"
      ]
     },
     "execution_count": 449,
     "metadata": {},
     "output_type": "execute_result"
    }
   ],
   "source": [
    " # Generating a random integers between 2 and 11, and creating a one row array\n",
    "random_int = np.random.randint(2,10, size= 4)\n",
    "random_int"
   ]
  },
  {
   "cell_type": "code",
   "execution_count": 451,
   "metadata": {},
   "outputs": [
    {
     "data": {
      "text/plain": [
       "array([[9, 9, 3, 5],\n",
       "       [3, 4, 2, 3]])"
      ]
     },
     "execution_count": 451,
     "metadata": {},
     "output_type": "execute_result"
    }
   ],
   "source": [
    " # Generating a random integers between 2 and 11, and creating 2-dim array\n",
    "random_ints = np.random.randint(2,10, size=(2,4))\n",
    "random_ints"
   ]
  },
  {
   "cell_type": "code",
   "execution_count": 452,
   "metadata": {},
   "outputs": [
    {
     "data": {
      "text/plain": [
       "array([[7, 5, 9],\n",
       "       [8, 5, 7],\n",
       "       [3, 6, 3]])"
      ]
     },
     "execution_count": 452,
     "metadata": {},
     "output_type": "execute_result"
    }
   ],
   "source": [
    "# Generating a random integers between 0 and 10, [0, 10)\n",
    "random_int = np.random.randint(2,10, size=(3,3))\n",
    "random_int"
   ]
  },
  {
   "cell_type": "code",
   "execution_count": 453,
   "metadata": {},
   "outputs": [
    {
     "data": {
      "text/plain": [
       "array([[8, 2, 7],\n",
       "       [6, 2, 7],\n",
       "       [3, 8, 9]])"
      ]
     },
     "execution_count": 453,
     "metadata": {},
     "output_type": "execute_result"
    }
   ],
   "source": [
    "# Generating a random integers between 0 and 10, [0, 10)\n",
    "random_int = np.random.randint(2,10,(3,3))\n",
    "random_int"
   ]
  },
  {
   "cell_type": "code",
   "execution_count": 457,
   "metadata": {},
   "outputs": [
    {
     "name": "stdout",
     "output_type": "stream",
     "text": [
      "['u' 'u' 'i']\n"
     ]
    }
   ],
   "source": [
    "print(np.random.choice(['a', 'e', 'i', 'o', 'u'], size=3))"
   ]
  },
  {
   "cell_type": "code",
   "execution_count": 459,
   "metadata": {},
   "outputs": [
    {
     "name": "stdout",
     "output_type": "stream",
     "text": [
      "['h' 't' 'y' 'o' 'y']\n"
     ]
    }
   ],
   "source": [
    "print(np.random.choice(list('Python'), size=5))"
   ]
  },
  {
   "cell_type": "code",
   "execution_count": 462,
   "metadata": {},
   "outputs": [
    {
     "name": "stdout",
     "output_type": "stream",
     "text": [
      "nNa3RMvCtyIebVkbmEy7lkKG\n",
      "24\n"
     ]
    }
   ],
   "source": [
    "random_id = np.random.choice(list('abcdefghijklmnopkrstuvwxyzABCDEFGHIJKLMNOPQRSTUVWXYZ0123456789'), size=24).tolist()\n",
    "random_id = ''.join(random_id)\n",
    "print(random_id)\n",
    "print(len(random_id))"
   ]
  },
  {
   "cell_type": "code",
   "execution_count": 468,
   "metadata": {},
   "outputs": [
    {
     "name": "stdout",
     "output_type": "stream",
     "text": [
      "CJGmWahaGYgC\n",
      "Stg3zm\n",
      "eSoiGdkz1wPgeyQ7MOBV6wWU\n"
     ]
    }
   ],
   "source": [
    "def generate_random_id(n = 12):\n",
    "    random_id = np.random.choice(list('abcdefghijklmnopkrstuvwxyzABCDEFGHIJKLMNOPQRSTUVWXYZ0123456789'), size = n).tolist()\n",
    "    random_id = ''.join(random_id)\n",
    "    return random_id\n",
    "\n",
    "print(generate_random_id())\n",
    "print(generate_random_id(6))\n",
    "print(generate_random_id(24))"
   ]
  },
  {
   "cell_type": "markdown",
   "metadata": {},
   "source": [
    "### Generating random data"
   ]
  },
  {
   "cell_type": "code",
   "execution_count": 472,
   "metadata": {},
   "outputs": [
    {
     "name": "stdout",
     "output_type": "stream",
     "text": [
      "True\n",
      "[-9.09125352e-03 -8.40358293e-01 -8.79495448e-01 -9.44144541e-02\n",
      " -2.27699460e-01 -5.23188528e-01 -3.27116558e-01 -9.61947088e-01\n",
      " -3.68652591e-01 -6.84148999e-01 -6.39685163e-03 -6.76768498e-02\n",
      " -2.18129853e-01 -9.01380247e-01 -4.24606130e-01 -4.14084199e-01\n",
      " -1.69767803e-01 -7.83344411e-01 -6.37814720e-02 -5.92400457e-01\n",
      " -7.12388759e-01 -9.41375494e-01 -7.17421556e-01 -1.14963817e-01\n",
      " -8.43083349e-01 -3.90743028e-01 -4.92756774e-01 -7.97481607e-01\n",
      " -9.52791541e-01 -7.10127285e-01 -8.43260962e-01 -3.12651822e-01\n",
      " -5.68688931e-02 -2.91650420e-02 -1.36216117e-01 -4.60461495e-01\n",
      " -6.76362399e-01 -5.08259844e-01 -7.15531881e-01 -3.11324087e-01\n",
      " -6.02793104e-01 -3.70027385e-02 -3.79979242e-01 -2.59870216e-01\n",
      " -4.36218322e-02 -7.63578896e-01 -6.47027340e-03 -3.79266317e-01\n",
      " -4.04224549e-03 -3.44907121e-01 -3.57242331e-01 -9.21954753e-01\n",
      " -7.44045315e-02 -8.45647078e-01 -7.80209001e-01 -9.07885277e-01\n",
      " -9.83812403e-01 -7.05245358e-02 -7.38523741e-01 -4.89655720e-01\n",
      " -5.65514888e-01 -3.17580037e-01 -8.80281878e-01 -7.60121034e-01\n",
      " -4.10095886e-02 -9.79172451e-01 -3.98421793e-01 -6.96631633e-01\n",
      " -4.83739568e-02 -2.02266888e-01 -6.62963076e-01 -7.36773137e-01\n",
      " -8.03914227e-01 -5.78607924e-01 -4.54958253e-01 -1.67396289e-01\n",
      " -6.50449806e-01 -4.42404361e-01 -1.55549250e-01 -6.41896947e-01\n",
      " -6.53318839e-01 -5.30748093e-01 -8.97816915e-01 -2.83987823e-01\n",
      " -3.47466019e-01 -9.62180601e-02 -7.62139018e-01 -9.02718891e-01\n",
      " -5.82781813e-01 -9.86450244e-01 -5.51358058e-01 -7.37433663e-01\n",
      " -6.04949871e-01 -4.91438847e-01 -4.50302870e-01 -3.06437665e-01\n",
      " -9.82949978e-02 -1.50993560e-01 -6.43313038e-01 -7.52067985e-01\n",
      " -4.26257121e-01 -8.70073441e-01 -7.64453068e-01 -8.91880955e-01\n",
      " -5.22640303e-01 -7.79619677e-01 -7.07316894e-01 -4.27452778e-01\n",
      " -7.89869967e-02 -8.27971164e-01 -8.13974792e-01 -1.87508955e-01\n",
      " -6.46155953e-01 -4.42914243e-01 -5.00627129e-02 -3.37932521e-01\n",
      " -6.57893682e-02 -9.95659249e-02 -8.85698064e-01 -3.56874695e-01\n",
      " -6.58388598e-01 -6.03151279e-01 -5.84837636e-01 -9.81092762e-01\n",
      " -4.68323041e-01 -2.45465949e-01 -7.40622075e-01 -9.41265816e-01\n",
      " -2.14822006e-01 -8.80119056e-01 -7.01649180e-01 -4.72683939e-01\n",
      " -6.28784457e-01 -5.52344501e-01 -5.62941992e-01 -1.02595250e-01\n",
      " -6.26977082e-02 -9.24681235e-01 -1.62174271e-01 -3.27026942e-01\n",
      " -8.86587646e-02 -5.89784090e-01 -4.97082230e-01 -1.09442615e-01\n",
      " -3.98730851e-01 -6.07873616e-02 -3.88360815e-01 -2.72666190e-03\n",
      " -1.02037833e-01 -3.76195164e-01 -6.64060088e-01 -8.50042907e-01\n",
      " -6.44240074e-01 -3.73994910e-01 -9.46436748e-01 -4.48696670e-01\n",
      " -7.34609935e-01 -7.02230827e-01 -5.48038179e-01 -2.97613024e-01\n",
      " -2.55060023e-01 -9.99522266e-01 -6.13501857e-01 -4.66328089e-01\n",
      " -1.65721655e-01 -7.98019911e-01 -7.00210978e-01 -4.74665741e-01\n",
      " -5.33299845e-01 -6.15881321e-01 -3.21854531e-01 -4.85273407e-01\n",
      " -9.34869946e-01 -4.96868876e-01 -5.12256788e-01 -3.22979599e-01\n",
      " -6.57913565e-01 -3.37510890e-01 -2.82605385e-01 -2.14533438e-01\n",
      " -3.25656396e-01 -7.05637459e-01 -6.76891260e-01 -6.65553764e-01\n",
      " -9.36368895e-01 -3.45044624e-01 -1.96783627e-01 -6.65823651e-01\n",
      " -5.72011835e-01 -7.51585320e-01 -8.44602130e-01 -8.35441957e-01\n",
      " -7.33346050e-01 -2.57886036e-01 -1.01192072e-01 -3.70613366e-01\n",
      " -5.05542482e-01 -6.43174768e-01 -6.71057048e-01 -5.69940925e-01\n",
      " -3.87337897e-01 -8.58897933e-02 -5.78138430e-01 -5.06169934e-02\n",
      " -1.30218462e-01 -2.56730783e-01 -5.17631412e-01 -5.65810331e-01\n",
      " -7.41288181e-01 -9.24435827e-01 -8.99764849e-01 -3.84986851e-01\n",
      " -3.92028145e-01 -7.51903789e-01 -6.57576187e-01 -3.37204047e-01\n",
      " -8.25572520e-01 -9.99171310e-01 -1.53819167e-01 -3.17831730e-01\n",
      " -3.04560778e-01 -6.50340987e-01 -3.51773141e-02 -4.77287709e-01\n",
      " -6.97317203e-01 -5.93264340e-01 -1.29222077e-01 -2.49933569e-01\n",
      " -7.65139795e-01 -9.96162973e-01 -9.96749990e-01 -3.47278891e-02\n",
      " -5.19038236e-01 -9.42266877e-01 -3.44311072e-01 -8.85344938e-01\n",
      " -3.32595446e-01 -5.80004164e-01 -5.94196221e-01 -9.15677798e-01\n",
      " -4.05136719e-01 -7.41539090e-01 -7.66380716e-01 -8.61183473e-01\n",
      " -8.36947218e-01 -2.93229965e-01 -9.78695733e-01 -3.05617200e-01\n",
      " -8.82777187e-01 -9.83995307e-03 -4.05399957e-01 -2.79485766e-01\n",
      " -4.93987041e-01 -9.98215246e-01 -4.61992609e-01 -7.07156212e-01\n",
      " -7.82267396e-01 -5.89034867e-01 -8.19188262e-01 -8.92549616e-01\n",
      " -3.88720183e-01 -6.74493776e-01 -2.11544540e-01 -9.83257892e-02\n",
      " -1.15841069e-01 -1.15083673e-01 -9.60345131e-01 -9.90101391e-01\n",
      " -5.58456486e-01 -6.84325869e-01 -1.35080915e-01 -4.95093017e-02\n",
      " -7.86404342e-01 -5.36482470e-01 -6.44533669e-01 -9.88593111e-02\n",
      " -7.93474834e-01 -8.60769286e-01 -8.71253934e-01 -3.21464717e-02\n",
      " -5.16638692e-01 -9.57817028e-01 -8.65753204e-01 -7.92996841e-01\n",
      " -1.36461393e-01 -2.52266881e-01 -9.91484360e-01 -1.41314282e-01\n",
      " -5.25215776e-03 -1.66478613e-01 -2.27626434e-01 -4.26623895e-01\n",
      " -6.11495222e-01 -3.59483744e-01 -3.18532903e-01 -5.60501162e-01\n",
      " -5.00967131e-01 -5.63295023e-01 -1.49888437e-01 -9.42934411e-01\n",
      " -9.09182090e-01 -6.61630148e-02 -3.51944536e-01 -3.62340374e-01\n",
      " -1.43617591e-01 -7.40823443e-01 -1.22211851e-01 -7.32738092e-01\n",
      " -9.35143574e-01 -9.75145857e-01 -4.61810840e-01 -8.28055335e-01\n",
      " -6.01987435e-01 -9.88477665e-01 -2.17868535e-01 -7.54459318e-01\n",
      " -1.25501239e-01 -2.63983714e-01 -5.57296394e-01 -6.45660116e-01\n",
      " -6.01295139e-01 -1.15841711e-01 -4.08155951e-02 -9.51983316e-01\n",
      " -7.71406035e-01 -2.69257996e-01 -9.94786220e-01 -3.88728819e-01\n",
      " -7.12973100e-01 -5.80980760e-01 -7.02998008e-01 -7.11802980e-01\n",
      " -1.91380736e-01 -7.68405575e-01 -7.53935457e-01 -6.89821003e-01\n",
      " -5.65689175e-01 -3.74439164e-01 -8.51726842e-01 -6.81030247e-02\n",
      " -6.67815310e-01 -1.79084784e-01 -1.47317663e-01 -2.83058415e-01\n",
      " -1.22378985e-01 -2.13217742e-01 -8.93472809e-01 -5.86647568e-01\n",
      " -3.69006658e-01 -7.35375413e-01 -8.07788283e-01 -7.89662506e-01\n",
      " -9.87344663e-01 -9.75386757e-01 -8.76213332e-01 -1.63828470e-01\n",
      " -9.16758391e-01 -8.40678481e-01 -1.33479371e-01 -9.85772169e-01\n",
      " -3.81129674e-01 -7.09585134e-02 -3.26610127e-02 -7.30842301e-01\n",
      " -6.93598996e-01 -9.25981159e-01 -4.64448108e-01 -8.04834761e-01\n",
      " -6.36165948e-01 -5.29370000e-01 -1.79168378e-01 -6.68695177e-01\n",
      " -8.20150466e-01 -6.34654178e-02 -8.28706904e-01 -2.67364589e-01\n",
      " -5.09468155e-01 -1.49679724e-01 -7.23700425e-01 -6.21000545e-01\n",
      " -4.19703621e-01 -6.27808022e-03 -1.97136983e-01 -1.89525087e-01\n",
      " -6.78832532e-01 -7.44607047e-01 -2.00702824e-02 -1.02791040e-01\n",
      " -8.19675533e-01 -1.47260048e-01 -4.10811880e-01 -9.62408760e-01\n",
      " -6.86564328e-01 -2.54317569e-01 -3.38333047e-01 -2.92461190e-01\n",
      " -7.25841361e-01 -1.75036879e-01 -8.95984011e-01 -4.93106348e-01\n",
      " -6.79158848e-01 -9.36033168e-01 -2.70307285e-01 -2.11151838e-01\n",
      " -3.86692436e-01 -3.49096228e-01 -6.62543416e-01 -3.63812166e-01\n",
      " -3.64456742e-01 -1.10551061e-01 -8.49837453e-01 -7.69692162e-01\n",
      " -7.35774726e-01 -1.80656467e-01 -1.08886331e-01 -8.36991495e-01\n",
      " -3.02562759e-01 -5.36846387e-01 -2.40457140e-01 -7.04869956e-01\n",
      " -1.44033394e-01 -1.12242269e-01 -1.10678888e-01 -5.56886832e-01\n",
      " -7.42636611e-01 -8.42135089e-01 -4.79250677e-01 -3.14963640e-01\n",
      " -4.40478754e-02 -2.47199066e-01 -3.30796205e-01 -6.79699579e-02\n",
      " -9.71217690e-01 -8.17959759e-01 -1.35556155e-01 -1.76005533e-02\n",
      " -2.18124211e-01 -3.16961592e-01 -7.33405385e-01 -7.40109949e-01\n",
      " -6.07917933e-01 -6.68331857e-01 -3.39349401e-01 -9.98156308e-01\n",
      " -7.63057798e-01 -7.05795832e-01 -5.30601100e-01 -4.30082153e-01\n",
      " -5.13100910e-02 -4.54945501e-01 -8.93837237e-01 -4.42733713e-01\n",
      " -2.16941669e-01 -2.05976607e-01 -9.97681233e-01 -4.72030112e-01\n",
      " -4.58353470e-01 -1.51931927e-02 -1.92689307e-01 -3.38183108e-02\n",
      " -5.53727237e-01 -9.16822553e-01 -5.42647594e-01 -8.73143460e-01\n",
      " -5.28927261e-01 -3.08100392e-01 -2.58699708e-02 -8.98373391e-01\n",
      " -2.28071951e-01 -6.30761239e-01 -1.91219859e-01 -8.07374045e-01\n",
      " -7.78050647e-01 -2.04879758e-01 -4.45938294e-01 -2.82586499e-01\n",
      " -1.29250197e-01 -7.95026768e-01 -8.67929657e-01 -8.62292975e-01\n",
      " -1.83161296e-01 -8.56890578e-01 -1.37317619e-01 -5.15942315e-01\n",
      " -5.05053383e-01 -2.59385733e-01 -9.20107193e-01 -9.64454644e-02\n",
      " -1.28840839e-01 -7.52393192e-01 -9.48006094e-01 -2.24645200e-01\n",
      " -3.80318976e-01 -4.75010363e-01 -4.44796623e-01 -4.37406535e-01\n",
      " -1.44475265e-01 -9.85740734e-01 -8.93568811e-01 -3.71681925e-01\n",
      " -7.89857931e-01 -7.86768244e-01 -7.77224275e-01 -4.59383823e-01\n",
      " -1.26270030e-01 -8.67161718e-01 -5.04346058e-01 -2.83957685e-01\n",
      " -3.68021708e-01 -3.96817361e-01 -4.71051259e-01 -1.55159475e-01\n",
      " -5.94737894e-01 -6.69134146e-01 -2.48529058e-01 -3.20933640e-01\n",
      " -9.06480079e-01 -2.32594522e-02 -5.38459839e-01 -3.04577544e-01\n",
      " -8.73791327e-01 -4.24407881e-01 -5.59877907e-01 -1.00941622e-01\n",
      " -8.86662957e-01 -8.56911893e-01 -7.08927203e-01 -1.24575757e-01\n",
      " -5.06617668e-01 -1.41829134e-01 -4.09456998e-01 -3.68221684e-01\n",
      " -8.36961898e-01 -4.53577034e-02 -9.40222081e-01 -6.97676101e-01\n",
      " -9.94463876e-03 -8.93813999e-01 -4.93004078e-01 -3.03564794e-01\n",
      " -9.11170965e-01 -6.61298713e-01 -6.37074945e-01 -8.85379463e-01\n",
      " -1.07627577e-01 -5.33595332e-01 -4.55975395e-01 -7.18544191e-01\n",
      " -6.61865709e-01 -4.57499437e-01 -6.52428506e-01 -8.54346187e-01\n",
      " -5.72068013e-01 -8.96772156e-01 -1.74839026e-01 -1.23340181e-01\n",
      " -4.47662924e-01 -1.38948137e-01 -8.76790783e-01 -6.49358102e-01\n",
      " -3.11685996e-01 -5.52747164e-01 -7.93849553e-01 -3.30262083e-01\n",
      " -6.94793902e-01 -8.52315414e-01 -7.77946258e-01 -2.76710730e-01\n",
      " -3.06067410e-01 -3.62399556e-01 -2.26118094e-01 -3.12492416e-01\n",
      " -9.12348264e-01 -2.72186639e-01 -6.87880841e-01 -5.66583169e-01\n",
      " -1.02798450e-01 -9.82885253e-02 -3.89313317e-01 -2.50401374e-01\n",
      " -1.41508631e-01 -1.39656527e-01 -2.27498319e-01 -6.63546159e-01\n",
      " -9.43010798e-01 -6.21110114e-01 -6.34268458e-03 -5.29849515e-01\n",
      " -5.08815501e-01 -6.10746695e-01 -9.35588264e-01 -8.13037231e-01\n",
      " -4.01500413e-01 -2.60935444e-01 -6.00221229e-01 -3.62194817e-01\n",
      " -2.14248874e-01 -7.61522886e-01 -7.52012626e-01 -3.69794392e-01\n",
      " -4.53588691e-01 -2.01286553e-01 -6.81360906e-01 -4.16805625e-02\n",
      " -5.06014565e-01 -5.07811097e-03 -3.98319148e-01 -9.52122760e-01\n",
      " -1.02284811e-01 -9.27469487e-01 -4.80100177e-01 -8.86314197e-01\n",
      " -5.05692939e-01 -5.95014418e-01 -1.85824975e-01 -4.66254476e-01\n",
      " -8.82956030e-01 -5.72538258e-01 -4.98513645e-01 -1.28254334e-01\n",
      " -1.07403909e-01 -2.86057475e-01 -9.07674766e-01 -7.21903455e-01\n",
      " -3.03648427e-01 -5.77545049e-01 -1.21599791e-01 -1.61869031e-01\n",
      " -2.05493275e-01 -4.97487568e-01 -2.92396176e-01 -3.19082578e-01\n",
      " -1.11640626e-01 -1.33131076e-01 -3.38560699e-01 -6.43009534e-01\n",
      " -6.80399138e-01 -8.24073269e-01 -4.05286097e-01 -2.71622632e-01\n",
      " -5.26737751e-01 -4.74230477e-02 -8.73741666e-01 -2.21980059e-01\n",
      " -5.87758843e-01 -5.09674034e-01 -9.13371709e-01 -7.82121632e-01\n",
      " -5.45266800e-01 -7.63887586e-01 -8.65748989e-01 -8.26263598e-01\n",
      " -2.67911627e-01 -7.26266830e-01 -8.09583040e-02 -9.85146216e-01\n",
      " -2.56089127e-02 -1.64809929e-01 -2.74455794e-01 -3.49077729e-02\n",
      " -2.71447221e-01 -9.54964840e-01 -4.66253591e-01 -8.42942654e-01\n",
      " -1.25950910e-01 -5.08171157e-01 -1.35057946e-01 -1.11678716e-01\n",
      " -2.74902048e-01 -6.00354619e-01 -3.20581272e-01 -8.67920733e-01\n",
      " -6.22654145e-01 -7.33704979e-01 -5.98508325e-02 -9.01038996e-01\n",
      " -2.48900941e-01 -2.11004609e-01 -9.73678482e-01 -6.09342806e-01\n",
      " -5.88418286e-01 -2.46310697e-01 -2.92801148e-01 -8.46108068e-01\n",
      " -3.22031567e-01 -3.89929687e-01 -6.07270865e-01 -6.41747829e-01\n",
      " -3.81521488e-01 -1.11867860e-01 -5.68121145e-01 -9.26790391e-01\n",
      " -3.99991989e-01 -5.51946321e-01 -2.73823007e-01 -3.62588735e-01\n",
      " -7.88998547e-01 -8.15281034e-01 -3.97489289e-01 -6.81550029e-01\n",
      " -8.25023542e-01 -3.45214792e-01 -3.26827935e-01 -1.10032137e-01\n",
      " -6.72221873e-01 -1.11207990e-01 -4.85526944e-01 -3.60834839e-01\n",
      " -8.70627907e-03 -6.66085654e-01 -4.93781561e-01 -4.91343717e-01\n",
      " -3.76566663e-01 -3.26703417e-01 -1.74310274e-01 -3.85874731e-01\n",
      " -2.94563048e-01 -2.13172914e-01 -6.86297450e-01 -9.84862855e-01\n",
      " -8.72874307e-01 -5.35365259e-01 -2.51796984e-01 -5.21241798e-01\n",
      " -6.88322504e-01 -2.53894500e-01 -2.40435066e-01 -8.62163753e-02\n",
      " -1.43199758e-01 -7.76774147e-01 -4.39788242e-01 -7.69186093e-01\n",
      " -2.07767258e-01 -6.69708383e-01 -8.95077623e-01 -6.36279140e-01\n",
      " -9.28267508e-01 -3.88004956e-01 -6.76538773e-01 -8.63696076e-01\n",
      " -6.36777479e-01 -3.95031390e-02 -9.17621416e-01 -8.55711614e-01\n",
      " -4.85137481e-01 -5.05726644e-01 -4.59966044e-01 -8.71378380e-01\n",
      " -8.29505341e-02 -4.77789814e-01 -1.50425696e-01 -9.89326753e-01\n",
      " -3.62671287e-01 -2.95418705e-01 -2.88597029e-01 -1.90833104e-01\n",
      " -5.01303814e-01 -1.28283743e-01 -5.69556693e-01 -2.44218262e-01\n",
      " -5.04592776e-01 -1.56431559e-01 -9.19247796e-01 -1.75858431e-01\n",
      " -9.05918171e-01 -1.73817710e-01 -4.34140631e-01 -3.49641358e-01\n",
      " -8.56498075e-02 -9.38306806e-01 -9.52891770e-01 -2.04812858e-01\n",
      " -6.66771475e-01 -8.63524001e-01 -4.28048900e-01 -8.53772418e-01\n",
      " -9.19651632e-02 -6.49610155e-01 -7.79941118e-01 -8.73702218e-01\n",
      " -5.75110296e-01 -4.39070221e-02 -5.90266788e-01 -9.84308266e-01\n",
      " -9.29713084e-01 -7.13946616e-01 -1.93238842e-01 -7.65058017e-01\n",
      " -5.33595946e-01 -8.55440104e-01 -2.60201751e-02 -6.31526782e-01\n",
      " -6.57428368e-02 -9.58935369e-01 -2.77523868e-02 -5.52044297e-01\n",
      " -4.91748404e-01 -7.02776297e-01 -4.86908320e-01 -8.63472430e-01\n",
      " -4.77240883e-01 -3.32036295e-01 -3.73407831e-01 -8.73624993e-01\n",
      " -8.29869204e-01 -6.55429397e-01 -2.67449811e-01 -9.97129002e-01\n",
      " -7.55217248e-01 -7.47212602e-02 -3.55878986e-01 -8.53150256e-01\n",
      " -5.90009140e-01 -5.41496831e-01 -4.73855298e-01 -9.71941809e-01\n",
      " -6.00172350e-01 -7.50578073e-01 -4.03267751e-01 -9.32181659e-01\n",
      " -1.23867210e-01 -1.50227287e-02 -5.04648881e-01 -1.19683825e-01\n",
      " -1.82884276e-01 -2.57320656e-01 -5.97539574e-01 -7.75699620e-01\n",
      " -2.97271410e-02 -4.82183658e-01 -8.09848034e-01 -8.31741837e-01\n",
      " -4.04808459e-01 -8.95798909e-01 -8.78340813e-01 -1.79750242e-01\n",
      " -8.03534542e-01 -6.33632028e-01 -1.45280990e-01 -1.72748301e-01\n",
      " -4.58711839e-01 -6.10252736e-01 -2.26634334e-02 -3.85670269e-01\n",
      " -7.64973256e-01 -8.61428630e-01 -3.76912584e-01 -1.85491984e-01\n",
      " -2.71270358e-01 -2.94237663e-01 -6.02198881e-01 -6.02629601e-01\n",
      " -8.80842674e-01 -1.70082933e-01 -6.53802206e-01 -8.04055309e-01\n",
      " -1.35894646e-01 -9.08049364e-02 -7.44874052e-01 -6.24513608e-01\n",
      " -4.01936843e-01 -2.58214521e-01 -8.80261524e-01 -9.07873147e-01\n",
      " -1.53252840e-01 -1.75388432e-01 -1.01026023e-02 -3.83350378e-02\n",
      " -3.57265589e-01 -1.07587994e-01 -9.16388983e-02 -5.86761849e-01\n",
      " -3.35170862e-01 -7.13463245e-01 -6.11045877e-02 -9.24726092e-01\n",
      " -4.24151355e-01 -3.45454947e-01 -8.20532690e-01 -9.55210586e-01\n",
      " -1.57068722e-01 -7.64868945e-01 -6.75555981e-01 -2.83507775e-01\n",
      " -1.33702738e-02 -3.36469682e-01 -3.52793797e-01 -3.10528493e-01\n",
      " -3.97607498e-01 -5.90274600e-01 -3.94829685e-02 -1.03347053e-01\n",
      " -8.83076279e-01 -8.83357206e-02 -8.73067129e-01 -1.14440653e-02\n",
      " -9.58451624e-01 -7.00036409e-01 -9.17225394e-01 -8.66625229e-01\n",
      " -5.27143879e-01 -7.72015732e-04 -3.51143356e-01 -1.05171720e-01\n",
      " -1.10169342e-01 -5.34932148e-01 -9.37853368e-01 -1.41728176e-01\n",
      " -7.52560034e-01 -1.85308128e-01 -3.17547846e-01 -1.05786021e-01\n",
      " -4.83941321e-01 -3.24382433e-01 -3.40343880e-01 -7.11463943e-02\n",
      " -4.56709716e-01 -6.56453137e-02 -1.36291424e-01 -4.50104738e-01\n",
      " -2.45934492e-01 -8.97392656e-01 -9.69192507e-01 -2.47896073e-01\n",
      " -5.68533668e-01 -4.86964461e-01 -8.00318297e-01 -5.27482204e-02\n",
      " -1.28558278e-01 -2.38929996e-01 -2.77317343e-01 -4.99822068e-01\n",
      " -6.64836601e-01 -2.93121925e-01 -6.41386194e-01 -8.81857436e-01\n",
      " -4.27242727e-02 -7.88725436e-01 -2.06128326e-01 -9.04953249e-01\n",
      " -5.68104260e-02 -3.54145177e-01 -6.09799928e-01 -1.86624032e-02\n",
      " -9.93589695e-01 -6.91763892e-01 -5.25763460e-02 -4.23367747e-01\n",
      " -8.87818642e-01 -1.62130680e-01 -4.59453463e-01 -2.58128457e-01\n",
      " -4.67774665e-02 -7.81380097e-01 -6.03549725e-01 -2.51698844e-01\n",
      " -2.48995408e-01 -4.82420354e-01 -4.66475501e-01 -3.16441250e-01\n",
      " -4.88282775e-01 -4.40692086e-01 -6.66634339e-01 -3.38033499e-02\n",
      " -9.73897838e-02 -8.98570559e-01 -3.52642930e-01 -1.88851207e-01\n",
      " -3.50963698e-01 -9.45113166e-01 -4.03880092e-02 -9.48656827e-01\n",
      " -3.41201756e-01 -4.46203594e-01 -6.86271913e-01 -7.89559579e-01\n",
      " -2.88492950e-01 -7.03700587e-02 -6.07904522e-02 -7.34148456e-01\n",
      " -9.80883032e-01 -4.64164389e-01 -1.36495818e-01 -9.87945164e-01\n",
      " -1.37384228e-01 -6.42479760e-01 -6.26907534e-01 -9.75912934e-01\n",
      " -4.30686876e-02 -7.41080768e-01 -2.91928805e-01 -2.46066119e-01\n",
      " -4.26342595e-01 -4.76224141e-01 -1.65097779e-01 -1.60329429e-01\n",
      " -9.22698012e-01 -5.84489340e-01 -8.91026562e-01 -1.28803037e-01]\n"
     ]
    }
   ],
   "source": [
    "# first argument min, second argument max and third argument is size\n",
    "s = np.random.uniform(-1, 0, 1000)\n",
    "print(np.all(s <= 0))\n",
    "print(s)"
   ]
  },
  {
   "cell_type": "code",
   "execution_count": 475,
   "metadata": {},
   "outputs": [
    {
     "data": {
      "image/png": "[encoded data removed]",
      "text/plain": [
       "<Figure size 432x288 with 1 Axes>"
      ]
     },
     "metadata": {},
     "output_type": "display_data"
    }
   ],
   "source": [
    "count, bins, ignored = plt.hist(s, 10, density=True)\n",
    "plt.plot(bins, np.ones_like(bins), linewidth=2, color='r')\n",
    "plt.show()"
   ]
  },
  {
   "cell_type": "code",
   "execution_count": 476,
   "metadata": {},
   "outputs": [
    {
     "data": {
      "text/plain": [
       "array([68.80039957, 57.06427274, 90.00446115, ..., 84.40814004,\n",
       "       57.12822484, 87.91751196])"
      ]
     },
     "execution_count": 476,
     "metadata": {},
     "output_type": "execute_result"
    }
   ],
   "source": [
    "# np.random.normal(mu, sigma, size)\n",
    "# mu - mean, sigma - sigma -standard deviation, size - number of obsevations\n",
    "normal_array = np.random.normal(79, 15, 10000)\n",
    "normal_array"
   ]
  },
  {
   "cell_type": "code",
   "execution_count": 480,
   "metadata": {},
   "outputs": [
    {
     "data": {
      "image/png": "[encoded data removed]",
      "text/plain": [
       "<Figure size 432x288 with 1 Axes>"
      ]
     },
     "metadata": {},
     "output_type": "display_data"
    }
   ],
   "source": [
    "plt.hist(normal_array,bins=50, color='lightgreen', density=True)\n",
    "plt.show()"
   ]
  },
  {
   "cell_type": "markdown",
   "metadata": {},
   "source": [
    "### Maintaining the same generated data"
   ]
  },
  {
   "cell_type": "markdown",
   "metadata": {},
   "source": [
    "Sometimes we would not like to generate a new set of data instead we would like to keep what we created. To keep the created data we can use the *seed* method."
   ]
  },
  {
   "cell_type": "code",
   "execution_count": 110,
   "metadata": {},
   "outputs": [
    {
     "name": "stdout",
     "output_type": "stream",
     "text": [
      "[5 0 3 3 7 9 3 5 2 4 7 6 8 8 1 6 7 7 8 1 5]\n"
     ]
    }
   ],
   "source": [
    "np.random.seed(0)\n",
    "integers = np.random.randint(0, 10, 21)\n",
    "print(integers)\n"
   ]
  },
  {
   "cell_type": "code",
   "execution_count": 111,
   "metadata": {},
   "outputs": [
    {
     "name": "stdout",
     "output_type": "stream",
     "text": [
      "[-0.94154201  1.94603199 -2.55629824  2.87474136 -0.15540913  2.17926033\n",
      "  0.19308534  2.83733422  2.33654627  1.89437189  2.17097407  4.7644489\n",
      " -0.81204747  0.53289068 -2.71142745 -0.22820506 -1.68846173  1.41128162\n",
      " -0.79757235 -1.65439307 -0.8314894  -1.04902439  1.62620254 -0.45850126\n",
      "  4.32343475 -1.91386286  0.13462166  0.41299767 -0.91376265 -2.11995153]\n"
     ]
    }
   ],
   "source": [
    "data = np.random.normal(0, 2, 30)\n",
    "print(data)"
   ]
  },
  {
   "cell_type": "code",
   "execution_count": 112,
   "metadata": {},
   "outputs": [
    {
     "data": {
      "text/plain": [
       "array([2, 2, 6, 1, 3, 9, 6, 1, 0, 1, 9, 0, 0, 9, 3, 4, 0, 0, 4, 1, 7])"
      ]
     },
     "execution_count": 112,
     "metadata": {},
     "output_type": "execute_result"
    }
   ],
   "source": [
    "generator = np.random.RandomState(seed=123)  # RandomState is a class, so we give the seed to its constructor\n",
    "generator.randint(0, 10, 21)"
   ]
  },
  {
   "cell_type": "markdown",
   "metadata": {},
   "source": [
    "## Matrix in NumPy"
   ]
  },
  {
   "cell_type": "code",
   "execution_count": 113,
   "metadata": {},
   "outputs": [],
   "source": [
    "four_by_four_matrix = np.matrix(np.ones((4,4), dtype=float))"
   ]
  },
  {
   "cell_type": "code",
   "execution_count": 114,
   "metadata": {},
   "outputs": [
    {
     "data": {
      "text/plain": [
       "matrix([[1., 1., 1., 1.],\n",
       "        [1., 1., 1., 1.],\n",
       "        [1., 1., 1., 1.],\n",
       "        [1., 1., 1., 1.]])"
      ]
     },
     "execution_count": 114,
     "metadata": {},
     "output_type": "execute_result"
    }
   ],
   "source": [
    "four_by_four_matrix"
   ]
  },
  {
   "cell_type": "code",
   "execution_count": 115,
   "metadata": {},
   "outputs": [
    {
     "data": {
      "text/plain": [
       "matrix([[1., 1., 1., 1.],\n",
       "        [1., 1., 1., 1.],\n",
       "        [2., 2., 2., 2.],\n",
       "        [1., 1., 1., 1.]])"
      ]
     },
     "execution_count": 115,
     "metadata": {},
     "output_type": "execute_result"
    }
   ],
   "source": [
    "np.asarray(four_by_four_matrix)[2] = 2\n",
    "four_by_four_matrix"
   ]
  },
  {
   "cell_type": "code",
   "execution_count": 116,
   "metadata": {},
   "outputs": [
    {
     "name": "stdout",
     "output_type": "stream",
     "text": [
      "[[2. 2. 2. 2.]\n",
      " [2. 2. 2. 2.]\n",
      " [4. 4. 4. 4.]\n",
      " [2. 2. 2. 2.]]\n",
      "[[4. 4. 4. 4.]\n",
      " [4. 4. 4. 4.]\n",
      " [8. 8. 8. 8.]\n",
      " [4. 4. 4. 4.]]\n"
     ]
    }
   ],
   "source": [
    "A = four_by_four_matrix * 2\n",
    "B = four_by_four_matrix * 4\n",
    "print(A)\n",
    "print(B)"
   ]
  },
  {
   "cell_type": "code",
   "execution_count": 117,
   "metadata": {},
   "outputs": [
    {
     "name": "stdout",
     "output_type": "stream",
     "text": [
      "[[ 6.  6.  6.  6.]\n",
      " [ 6.  6.  6.  6.]\n",
      " [12. 12. 12. 12.]\n",
      " [ 6.  6.  6.  6.]]\n"
     ]
    }
   ],
   "source": [
    "A_plus_B = A + B\n",
    "print(A_plus_B)"
   ]
  },
  {
   "cell_type": "code",
   "execution_count": 118,
   "metadata": {},
   "outputs": [
    {
     "name": "stdout",
     "output_type": "stream",
     "text": [
      "[[-2. -2. -2. -2.]\n",
      " [-2. -2. -2. -2.]\n",
      " [-4. -4. -4. -4.]\n",
      " [-2. -2. -2. -2.]]\n"
     ]
    }
   ],
   "source": [
    "A_minus_B = A - B\n",
    "print(A_minus_B)"
   ]
  },
  {
   "cell_type": "code",
   "execution_count": 119,
   "metadata": {},
   "outputs": [
    {
     "name": "stdout",
     "output_type": "stream",
     "text": [
      "[[-2. -2. -2. -2.]\n",
      " [-2. -2. -2. -2.]\n",
      " [-4. -4. -4. -4.]\n",
      " [-2. -2. -2. -2.]]\n"
     ]
    }
   ],
   "source": [
    "A_times_B = A - B\n",
    "print(A_times_B)"
   ]
  },
  {
   "cell_type": "code",
   "execution_count": 120,
   "metadata": {},
   "outputs": [
    {
     "data": {
      "text/plain": [
       "matrix([[-2., -2., -4., -2.],\n",
       "        [-2., -2., -4., -2.],\n",
       "        [-2., -2., -4., -2.],\n",
       "        [-2., -2., -4., -2.]])"
      ]
     },
     "execution_count": 120,
     "metadata": {},
     "output_type": "execute_result"
    }
   ],
   "source": [
    "np.transpose(A_times_B)"
   ]
  },
  {
   "cell_type": "markdown",
   "metadata": {},
   "source": [
    "### Numpy numpy.arange()\n",
    "\n",
    "#### What is arrange?\n",
    "Sometimes, you want to create values that are evenly spaced within a defined interval. For instance, you want to create values from 1 to 10; you can use numpy.arange() function"
   ]
  },
  {
   "cell_type": "code",
   "execution_count": 121,
   "metadata": {},
   "outputs": [
    {
     "data": {
      "text/plain": [
       "range(0, 11, 2)"
      ]
     },
     "execution_count": 121,
     "metadata": {},
     "output_type": "execute_result"
    }
   ],
   "source": [
    "# creating list using range(starting, stop, step)\n",
    "lst = range(0, 11, 2)\n",
    "lst"
   ]
  },
  {
   "cell_type": "code",
   "execution_count": 122,
   "metadata": {},
   "outputs": [
    {
     "name": "stdout",
     "output_type": "stream",
     "text": [
      "0\n",
      "2\n",
      "4\n",
      "6\n",
      "8\n",
      "10\n"
     ]
    }
   ],
   "source": [
    "for l in lst:\n",
    "    print(l)"
   ]
  },
  {
   "cell_type": "code",
   "execution_count": 123,
   "metadata": {},
   "outputs": [
    {
     "data": {
      "text/plain": [
       "array([ 0,  1,  2,  3,  4,  5,  6,  7,  8,  9, 10, 11, 12, 13, 14, 15, 16,\n",
       "       17, 18, 19])"
      ]
     },
     "execution_count": 123,
     "metadata": {},
     "output_type": "execute_result"
    }
   ],
   "source": [
    "# Similar to range arange numpy.arange(start, stop, step)\n",
    "whole_numbers = np.arange(0, 20, 1)\n",
    "whole_numbers"
   ]
  },
  {
   "cell_type": "code",
   "execution_count": 124,
   "metadata": {},
   "outputs": [
    {
     "data": {
      "text/plain": [
       "array([ 1,  2,  3,  4,  5,  6,  7,  8,  9, 10, 11, 12, 13, 14, 15, 16, 17,\n",
       "       18, 19])"
      ]
     },
     "execution_count": 124,
     "metadata": {},
     "output_type": "execute_result"
    }
   ],
   "source": [
    "natural_numbers = np.arange(1, 20, 1)\n",
    "natural_numbers"
   ]
  },
  {
   "cell_type": "code",
   "execution_count": 125,
   "metadata": {},
   "outputs": [
    {
     "data": {
      "text/plain": [
       "array([ 1,  3,  5,  7,  9, 11, 13, 15, 17, 19])"
      ]
     },
     "execution_count": 125,
     "metadata": {},
     "output_type": "execute_result"
    }
   ],
   "source": [
    "odd_numbers = np.arange(1, 20, 2)\n",
    "odd_numbers"
   ]
  },
  {
   "cell_type": "code",
   "execution_count": 126,
   "metadata": {},
   "outputs": [
    {
     "data": {
      "text/plain": [
       "array([ 2,  4,  6,  8, 10, 12, 14, 16, 18])"
      ]
     },
     "execution_count": 126,
     "metadata": {},
     "output_type": "execute_result"
    }
   ],
   "source": [
    "even_numbers = np.arange(2, 20, 2)\n",
    "even_numbers"
   ]
  },
  {
   "cell_type": "markdown",
   "metadata": {},
   "source": [
    "### Creating sequence of numbers using linspace"
   ]
  },
  {
   "cell_type": "code",
   "execution_count": 127,
   "metadata": {},
   "outputs": [
    {
     "data": {
      "text/plain": [
       "array([1.        , 1.44444444, 1.88888889, 2.33333333, 2.77777778,\n",
       "       3.22222222, 3.66666667, 4.11111111, 4.55555556, 5.        ])"
      ]
     },
     "execution_count": 127,
     "metadata": {},
     "output_type": "execute_result"
    }
   ],
   "source": [
    "# numpy.linspace(start, end, size, endpoint) the end is included by default\n",
    "# numpy.logspace() in Python with Example\n",
    "# For instance, it can be used to create 10 values from 1 to 5 evenly spaced.\n",
    "np.linspace(1.0, 5.0, num=10)"
   ]
  },
  {
   "cell_type": "code",
   "execution_count": 128,
   "metadata": {},
   "outputs": [
    {
     "data": {
      "text/plain": [
       "array([1. , 1.8, 2.6, 3.4, 4.2])"
      ]
     },
     "execution_count": 128,
     "metadata": {},
     "output_type": "execute_result"
    }
   ],
   "source": [
    "# not to include the last value in the interval\n",
    "np.linspace(1.0, 5.0, num=5, endpoint=False)"
   ]
  },
  {
   "cell_type": "code",
   "execution_count": 129,
   "metadata": {},
   "outputs": [
    {
     "data": {
      "image/png": "[encoded data removed]",
      "text/plain": [
       "<Figure size 432x288 with 1 Axes>"
      ]
     },
     "metadata": {},
     "output_type": "display_data"
    }
   ],
   "source": [
    "x = np.linspace(-10, 10, num=50)\n",
    "y = 2 * x  + 2\n",
    "plt.scatter(x, y)\n",
    "plt.show()"
   ]
  },
  {
   "cell_type": "code",
   "execution_count": 130,
   "metadata": {},
   "outputs": [
    {
     "data": {
      "image/png": "[encoded data removed]",
      "text/plain": [
       "<Figure size 432x288 with 1 Axes>"
      ]
     },
     "metadata": {},
     "output_type": "display_data"
    }
   ],
   "source": [
    "x = np.linspace(-10, 10, num=50)\n",
    "y = x ** 2\n",
    "plt.scatter(x, y)\n",
    "plt.show()"
   ]
  },
  {
   "cell_type": "code",
   "execution_count": 131,
   "metadata": {},
   "outputs": [
    {
     "data": {
      "image/png": "[encoded data removed]",
      "text/plain": [
       "<Figure size 432x288 with 1 Axes>"
      ]
     },
     "metadata": {},
     "output_type": "display_data"
    }
   ],
   "source": [
    "x = np.linspace(-10, 10, num=50)\n",
    "y = x ** 2 - 25\n",
    "plt.scatter(x, y)\n",
    "plt.show()"
   ]
  },
  {
   "cell_type": "code",
   "execution_count": 132,
   "metadata": {},
   "outputs": [
    {
     "data": {
      "image/png": "[encoded data removed]",
      "text/plain": [
       "<Figure size 432x288 with 1 Axes>"
      ]
     },
     "metadata": {},
     "output_type": "display_data"
    }
   ],
   "source": [
    "x = np.linspace(-10, 10, num=50)\n",
    "y = -x ** 2 + 25\n",
    "plt.scatter(x, y)\n",
    "plt.show()"
   ]
  },
  {
   "cell_type": "code",
   "execution_count": null,
   "metadata": {},
   "outputs": [],
   "source": []
  },
  {
   "cell_type": "code",
   "execution_count": 133,
   "metadata": {},
   "outputs": [],
   "source": [
    "# LogSpace\n",
    "# LogSpace returns even spaced numbers on a log scale. Logspace has the same parameters as np.linspace.\n"
   ]
  },
  {
   "cell_type": "code",
   "execution_count": 134,
   "metadata": {},
   "outputs": [
    {
     "data": {
      "text/plain": [
       "array([  100.        ,   464.15888336,  2154.43469003, 10000.        ])"
      ]
     },
     "execution_count": 134,
     "metadata": {},
     "output_type": "execute_result"
    }
   ],
   "source": [
    "# Syntax:\n",
    "\n",
    "# numpy.logspace(start, stop, num, endpoint)\n",
    "\n",
    "np.logspace(2, 4.0, num=4)"
   ]
  },
  {
   "cell_type": "code",
   "execution_count": 135,
   "metadata": {},
   "outputs": [],
   "source": [
    "# to check the size of an array\n",
    "x = np.array([1,2,3], dtype=np.complex128)"
   ]
  },
  {
   "cell_type": "code",
   "execution_count": 136,
   "metadata": {},
   "outputs": [
    {
     "data": {
      "text/plain": [
       "array([1.+0.j, 2.+0.j, 3.+0.j])"
      ]
     },
     "execution_count": 136,
     "metadata": {},
     "output_type": "execute_result"
    }
   ],
   "source": [
    "x"
   ]
  },
  {
   "cell_type": "code",
   "execution_count": 137,
   "metadata": {},
   "outputs": [
    {
     "data": {
      "text/plain": [
       "16"
      ]
     },
     "execution_count": 137,
     "metadata": {},
     "output_type": "execute_result"
    }
   ],
   "source": [
    "x.itemsize"
   ]
  },
  {
   "cell_type": "markdown",
   "metadata": {},
   "source": [
    "## NumPy Statistical Functions with Example\n",
    "NumPy has quite useful statistical functions for finding minimum, maximum, mean, median, percentile,standard deviation and variance, etc from the given elements in the array. The functions are explained as follows − Statistical function Numpy is equipped with the robust statistical function as listed below\n",
    "\n",
    "Numpy Functions\n",
    "- Min np.min()\n",
    "- Max np.max()\n",
    "- Percentile(25, 50, 75) using np.percentile(arr, 25)\n",
    "- Mean np.mean()\n",
    "- Median np.median()\n",
    "- Varience np.var(data)\n",
    "- Percentile\n",
    "- Standard deviation np.std()\n",
    "\n",
    "stats.mode(data)  \n",
    "\n",
    "## Using Numpy to calculate statistical measures\n",
    "It is easy to calcualte the statistical measures such as mean, median, standard deviation, varience etc \n",
    "# A set of age of students in python class\n",
    "\n",
    "data = [19, 20, 22, 33, 45, 60, 25, 24, 40, 20, 15, 22, 24, 26, 26, 28, 27, 24, 35, 40, 40, 24, 38, 40, 28, 23] "
   ]
  },
  {
   "cell_type": "code",
   "execution_count": 138,
   "metadata": {},
   "outputs": [
    {
     "data": {
      "text/plain": [
       "0.7506861412184562"
      ]
     },
     "execution_count": 138,
     "metadata": {},
     "output_type": "execute_result"
    }
   ],
   "source": [
    "np.random.random()"
   ]
  },
  {
   "cell_type": "code",
   "execution_count": 139,
   "metadata": {},
   "outputs": [
    {
     "data": {
      "text/plain": [
       "array([0.60783067, 0.32504723, 0.03842543])"
      ]
     },
     "execution_count": 139,
     "metadata": {},
     "output_type": "execute_result"
    }
   ],
   "source": [
    "np.random.random(3)"
   ]
  },
  {
   "cell_type": "code",
   "execution_count": 140,
   "metadata": {},
   "outputs": [
    {
     "data": {
      "text/plain": [
       "array([[8, 9, 9, 9],\n",
       "       [8, 9, 9, 9],\n",
       "       [5, 9, 8, 7]])"
      ]
     },
     "execution_count": 140,
     "metadata": {},
     "output_type": "execute_result"
    }
   ],
   "source": [
    "np.random.randint(5, 10, (3, 4)) # does not inlcued the last value [5, 10)"
   ]
  },
  {
   "cell_type": "code",
   "execution_count": 141,
   "metadata": {},
   "outputs": [
    {
     "data": {
      "text/plain": [
       "array([-1.79093312,  0.773805  , -1.02161028, -2.36126437, -0.05636446])"
      ]
     },
     "execution_count": 141,
     "metadata": {},
     "output_type": "execute_result"
    }
   ],
   "source": [
    "np.random.normal(0, 2, 5)"
   ]
  },
  {
   "cell_type": "code",
   "execution_count": 142,
   "metadata": {},
   "outputs": [
    {
     "data": {
      "text/plain": [
       "array([[ 0.85666374,  0.13303444,  0.6049438 , -1.26864419],\n",
       "       [-0.72548233, -1.3449209 , -0.71910632, -1.62629256],\n",
       "       [-3.4525652 ,  0.35485228, -0.80356187, -3.26039669]])"
      ]
     },
     "execution_count": 142,
     "metadata": {},
     "output_type": "execute_result"
    }
   ],
   "source": [
    "np.random.normal(0, 2, (3, 4)) # mean = 0, stdev = 2, 3 x 4 array"
   ]
  },
  {
   "cell_type": "code",
   "execution_count": 143,
   "metadata": {},
   "outputs": [
    {
     "name": "stdout",
     "output_type": "stream",
     "text": [
      "min:  1\n",
      "max:  55\n",
      "25th percentile 3.0\n",
      "50th percentile 7.0\n",
      "75th percentile 9.0\n",
      "mean:  14.78\n",
      "mode:  ModeResult(mode=array([[1, 2, 3]]), count=array([[1, 1, 1]]))\n",
      "median:  7.0\n",
      "sd:  18.91\n"
     ]
    }
   ],
   "source": [
    "from scipy import stats\n",
    "np_normal_dis = np.random.normal(5, 0.5, 100)\n",
    "np_normal_dis\n",
    "## min, max, mean, median, sd\n",
    "print('min: ', two_dim_arr.min())\n",
    "print('max: ', two_dim_arr.max())\n",
    "print('25th percentile', np.percentile(two_dim_arr, 25))\n",
    "print('50th percentile', np.percentile(two_dim_arr, 50))\n",
    "print('75th percentile', np.percentile(two_dim_arr, 75))\n",
    "print('mean: ',round(two_dim_arr.mean(), 2))\n",
    "print('mode: ', stats.mode(two_dim_arr)) # numpy has no mode method\n",
    "print('median: ', np.median(two_dim_arr))\n",
    "print('sd: ', round(two_dim_arr.std(), 2))"
   ]
  },
  {
   "cell_type": "code",
   "execution_count": 144,
   "metadata": {},
   "outputs": [
    {
     "name": "stdout",
     "output_type": "stream",
     "text": [
      "[[ 1  2  3]\n",
      " [ 4 55 44]\n",
      " [ 7  8  9]]\n",
      "Column with minimum:  [1 2 3]\n",
      "Column with maximum:  [ 7 55 44]\n",
      "=== Row ==\n",
      "Row with minimum:  [1 4 7]\n",
      "Row with maximum:  [ 3 55  9]\n"
     ]
    }
   ],
   "source": [
    "print(two_dim_arr)\n",
    "print('Column with minimum: ', np.amin(two_dim_arr, axis=0))\n",
    "print('Column with maximum: ', np.amax(two_dim_arr, axis=0))\n",
    "print('=== Row ==')\n",
    "print('Row with minimum: ', np.amin(two_dim_arr, axis=1))\n",
    "print('Row with maximum: ', np.amax(two_dim_arr, axis=1))"
   ]
  },
  {
   "cell_type": "markdown",
   "metadata": {},
   "source": [
    "## How to create repeating sequences?"
   ]
  },
  {
   "cell_type": "code",
   "execution_count": 145,
   "metadata": {},
   "outputs": [
    {
     "name": "stdout",
     "output_type": "stream",
     "text": [
      "Tile:    [1 2 3 1 2 3 1 2 3]\n",
      "Repeat:  [1 1 1 2 2 2 3 3 3]\n"
     ]
    }
   ],
   "source": [
    "a = [1,2,3]\n",
    "\n",
    "# Repeat whole of 'a' two times\n",
    "print('Tile:   ', np.tile(a, 3))\n",
    "\n",
    "# Repeat each element of 'a' two times\n",
    "print('Repeat: ', np.repeat(a, 3))"
   ]
  },
  {
   "cell_type": "code",
   "execution_count": 146,
   "metadata": {},
   "outputs": [
    {
     "name": "stdout",
     "output_type": "stream",
     "text": [
      "min:  3.4769284726000365\n",
      "max:  6.58548738664509\n",
      "mean:  4.9757236255377535\n",
      "median:  4.974828091188378\n",
      "mode:  ModeResult(mode=array([3.47692847]), count=array([1]))\n",
      "sd:  0.4859817987330746\n"
     ]
    }
   ],
   "source": [
    "from scipy import stats\n",
    "np_normal_dis = np.random.normal(5, 0.5, 1000) # mean, standard deviation, number of samples\n",
    "np_normal_dis\n",
    "## min, max, mean, median, sd\n",
    "print('min: ', np.min(np_normal_dis))\n",
    "print('max: ', np.max(np_normal_dis))\n",
    "print('mean: ', np.mean(np_normal_dis))\n",
    "print('median: ', np.median(np_normal_dis))\n",
    "print('mode: ', stats.mode(np_normal_dis))\n",
    "print('sd: ', np.std(np_normal_dis))"
   ]
  },
  {
   "cell_type": "code",
   "execution_count": 147,
   "metadata": {},
   "outputs": [
    {
     "data": {
      "image/png": "[encoded data removed]",
      "text/plain": [
       "<Figure size 432x288 with 1 Axes>"
      ]
     },
     "metadata": {},
     "output_type": "display_data"
    }
   ],
   "source": [
    "plt.hist(np_normal_dis, color=\"grey\", bins=30)\n",
    "plt.show()"
   ]
  },
  {
   "cell_type": "code",
   "execution_count": 148,
   "metadata": {},
   "outputs": [
    {
     "data": {
      "image/png": "[encoded data removed]",
      "text/plain": [
       "<Figure size 432x288 with 1 Axes>"
      ]
     },
     "metadata": {},
     "output_type": "display_data"
    }
   ],
   "source": [
    "x  = np.random.normal(28, 15, 100000)\n",
    "ax = sns.histplot(x, kde=True, linewidth=0)\n",
    "ax.set(xlabel='x', ylabel='y', title='X vs Y')\n",
    "plt.show()"
   ]
  },
  {
   "cell_type": "markdown",
   "metadata": {},
   "source": [
    "## Linear Algebra"
   ]
  },
  {
   "cell_type": "code",
   "execution_count": 149,
   "metadata": {},
   "outputs": [],
   "source": [
    "# numpy.dot(): Dot Product in Python using Numpy\n",
    "# Dot Product\n",
    "# Numpy is powerful library for matrices computation. For instance, you can compute the dot product with np.dot\n",
    "\n",
    "# Syntax\n",
    "\n",
    "# numpy.dot(x, y, out=None)"
   ]
  },
  {
   "cell_type": "markdown",
   "metadata": {},
   "source": [
    "### Dot Product"
   ]
  },
  {
   "cell_type": "code",
   "execution_count": 150,
   "metadata": {},
   "outputs": [
    {
     "data": {
      "text/plain": [
       "23"
      ]
     },
     "execution_count": 150,
     "metadata": {},
     "output_type": "execute_result"
    }
   ],
   "source": [
    "## Linear algebra\n",
    "### Dot product: product of two arrays\n",
    "f = np.array([1,2,3])\n",
    "g = np.array([4,5,3])\n",
    "### 1*4+2*5 + 3*3\n",
    "np.dot(f, g)  # 23"
   ]
  },
  {
   "cell_type": "markdown",
   "metadata": {},
   "source": [
    "### NumPy Matrix Multiplication with np.matmul()"
   ]
  },
  {
   "cell_type": "code",
   "execution_count": 151,
   "metadata": {},
   "outputs": [
    {
     "name": "stdout",
     "output_type": "stream",
     "text": [
      "[[1 2]\n",
      " [3 4]]\n",
      "[[5 6]\n",
      " [7 8]]\n"
     ]
    },
    {
     "data": {
      "text/plain": [
       "array([[19, 22],\n",
       "       [43, 50]])"
      ]
     },
     "execution_count": 151,
     "metadata": {},
     "output_type": "execute_result"
    }
   ],
   "source": [
    "### Matmul: matruc product of two arrays\n",
    "h = np.array([[1,2],[3,4]])\n",
    "i = np.array([[5,6],[7,8]])\n",
    "### 1*5+2*7 = 19\n",
    "print(h)\n",
    "print(i)\n",
    "np.matmul(h, i)"
   ]
  },
  {
   "cell_type": "code",
   "execution_count": 152,
   "metadata": {},
   "outputs": [],
   "source": [
    "## Determinant 2*2 matrix\n",
    "### 5*8-7*6np.linalg.det(i)"
   ]
  },
  {
   "cell_type": "code",
   "execution_count": 153,
   "metadata": {},
   "outputs": [
    {
     "data": {
      "text/plain": [
       "-1.999999999999999"
      ]
     },
     "execution_count": 153,
     "metadata": {},
     "output_type": "execute_result"
    }
   ],
   "source": [
    "np.linalg.det(i)"
   ]
  },
  {
   "cell_type": "code",
   "execution_count": 154,
   "metadata": {},
   "outputs": [],
   "source": [
    "Z = np.zeros((8,8))\n",
    "Z[1::2,::2] = 1\n",
    "Z[::2,1::2] = 1"
   ]
  },
  {
   "cell_type": "code",
   "execution_count": 155,
   "metadata": {},
   "outputs": [
    {
     "data": {
      "text/plain": [
       "array([[0., 1., 0., 1., 0., 1., 0., 1.],\n",
       "       [1., 0., 1., 0., 1., 0., 1., 0.],\n",
       "       [0., 1., 0., 1., 0., 1., 0., 1.],\n",
       "       [1., 0., 1., 0., 1., 0., 1., 0.],\n",
       "       [0., 1., 0., 1., 0., 1., 0., 1.],\n",
       "       [1., 0., 1., 0., 1., 0., 1., 0.],\n",
       "       [0., 1., 0., 1., 0., 1., 0., 1.],\n",
       "       [1., 0., 1., 0., 1., 0., 1., 0.]])"
      ]
     },
     "execution_count": 155,
     "metadata": {},
     "output_type": "execute_result"
    }
   ],
   "source": [
    "Z"
   ]
  },
  {
   "cell_type": "code",
   "execution_count": null,
   "metadata": {},
   "outputs": [],
   "source": []
  }
 ],
 "metadata": {
  "kernelspec": {
   "display_name": "Python 3",
   "language": "python",
   "name": "python3"
  },
  "language_info": {
   "codemirror_mode": {
    "name": "ipython",
    "version": 3
   },
   "file_extension": ".py",
   "mimetype": "text/x-python",
   "name": "python",
   "nbconvert_exporter": "python",
   "pygments_lexer": "ipython3",
   "version": "3.8.5"
  }
 },
 "nbformat": 4,
 "nbformat_minor": 4
}
